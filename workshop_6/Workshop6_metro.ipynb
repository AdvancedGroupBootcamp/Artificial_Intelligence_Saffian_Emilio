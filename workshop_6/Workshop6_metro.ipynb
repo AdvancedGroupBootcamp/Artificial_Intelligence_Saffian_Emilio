{
  "nbformat": 4,
  "nbformat_minor": 0,
  "metadata": {
    "colab": {
      "provenance": [],
      "collapsed_sections": [
        "jwkwLpwOP8ga",
        "1bfxkHGDQWPW",
        "M7m2K2o4q18a"
      ]
    },
    "kernelspec": {
      "name": "python3",
      "display_name": "Python 3"
    },
    "language_info": {
      "name": "python"
    }
  },
  "cells": [
    {
      "cell_type": "markdown",
      "source": [
        "# Imports"
      ],
      "metadata": {
        "id": "T-hj2HyYTp6v"
      }
    },
    {
      "cell_type": "code",
      "source": [
        "import pandas as pd\n",
        "import numpy as np\n",
        "import requests as rq\n",
        "import re\n",
        "import matplotlib.pyplot as plt\n",
        "%matplotlib inline\n",
        "import seaborn as sns"
      ],
      "metadata": {
        "id": "UcaL2YwwT5vn"
      },
      "execution_count": null,
      "outputs": []
    },
    {
      "cell_type": "markdown",
      "source": [
        "# Data Fetch"
      ],
      "metadata": {
        "id": "kOA_MvFVTsFy"
      }
    },
    {
      "cell_type": "markdown",
      "source": [
        "### URLS"
      ],
      "metadata": {
        "id": "Aj2vx6vbUXHH"
      }
    },
    {
      "cell_type": "code",
      "source": [
        "auber_url = 'https://data.ratp.fr/api/v2/catalog/datasets/qualite-de-lair-mesuree-dans-la-station-auber/exports/json?limit=-1&offset=0&lang=en&timezone=UTC'\n",
        "chatelet_url = 'https://data.ratp.fr/api/v2/catalog/datasets/qualite-de-lair-mesuree-dans-la-station-chatelet/exports/json?limit=-1&offset=0&lang=en&timezone=UTC'\n",
        "franklin_url = 'https://data.ratp.fr/api/v2/catalog/datasets/qualite-de-lair-mesuree-dans-la-station-franklin-d-roosevelt/exports/json?limit=-1&offset=0&lang=en&timezone=UTC'"
      ],
      "metadata": {
        "id": "fqPzoQKNTxYe"
      },
      "execution_count": null,
      "outputs": []
    },
    {
      "cell_type": "markdown",
      "source": [
        "JSON to Dataframes"
      ],
      "metadata": {
        "id": "j_-KwlqcWldq"
      }
    },
    {
      "cell_type": "code",
      "source": [
        "auber_data = rq.get(auber_url).json()\n",
        "chatelet_data = rq.get(chatelet_url).json()\n",
        "franklin_data = rq.get(franklin_url).json()\n"
      ],
      "metadata": {
        "id": "K_XwqOwDWi_V"
      },
      "execution_count": null,
      "outputs": []
    },
    {
      "cell_type": "code",
      "source": [
        "auber_df = pd.DataFrame(auber_data)\n",
        "chatelet_df = pd.DataFrame(chatelet_data)\n",
        "franklin_df = pd.DataFrame(franklin_data)"
      ],
      "metadata": {
        "id": "sIAufc2cWjBw"
      },
      "execution_count": null,
      "outputs": []
    },
    {
      "cell_type": "code",
      "source": [
        "franklin_df.info()"
      ],
      "metadata": {
        "id": "iUPHHbJkWjFI",
        "colab": {
          "base_uri": "https://localhost:8080/"
        },
        "outputId": "c816cd96-869b-4ce1-a783-2b6d47dcf241"
      },
      "execution_count": null,
      "outputs": [
        {
          "output_type": "stream",
          "name": "stdout",
          "text": [
            "<class 'pandas.core.frame.DataFrame'>\n",
            "RangeIndex: 85437 entries, 0 to 85436\n",
            "Data columns (total 7 columns):\n",
            " #   Column     Non-Null Count  Dtype \n",
            "---  ------     --------------  ----- \n",
            " 0   dateheure  85437 non-null  object\n",
            " 1   nofra1     80258 non-null  object\n",
            " 2   n2fra1     80798 non-null  object\n",
            " 3   10fra1     82514 non-null  object\n",
            " 4   c2fra1     80652 non-null  object\n",
            " 5   tfra1      83535 non-null  object\n",
            " 6   hyfra1     83528 non-null  object\n",
            "dtypes: object(7)\n",
            "memory usage: 4.6+ MB\n"
          ]
        }
      ]
    },
    {
      "cell_type": "code",
      "source": [
        "auber_df[auber_df.isna().any(axis=1)]"
      ],
      "metadata": {
        "id": "sOP973C2X59d",
        "colab": {
          "base_uri": "https://localhost:8080/",
          "height": 424
        },
        "outputId": "3cf32f73-9d58-476d-8197-3fc4c82c6472"
      },
      "execution_count": null,
      "outputs": [
        {
          "output_type": "execute_result",
          "data": {
            "text/plain": [
              "     dateheure noauba n2auba 10auba 25auba c2auba tauba hyauba\n",
              "0         None   None   None   None   None   None  None   None\n",
              "1         None   None   None   None   None   None  None   None\n",
              "2         None   None   None   None   None   None  None   None\n",
              "3         None   None   None   None   None   None  None   None\n",
              "4         None   None   None   None   None   None  None   None\n",
              "...        ...    ...    ...    ...    ...    ...   ...    ...\n",
              "8731      None   None   None   None   None   None  None   None\n",
              "8732      None   None   None   None   None   None  None   None\n",
              "8733      None   None   None   None   None   None  None   None\n",
              "8734      None   None   None   None   None   None  None   None\n",
              "8735      None   None   None   None   None   None  None   None\n",
              "\n",
              "[8736 rows x 8 columns]"
            ],
            "text/html": [
              "\n",
              "  <div id=\"df-0fb4b63f-5ee4-42bf-a86a-c651dd41e72a\">\n",
              "    <div class=\"colab-df-container\">\n",
              "      <div>\n",
              "<style scoped>\n",
              "    .dataframe tbody tr th:only-of-type {\n",
              "        vertical-align: middle;\n",
              "    }\n",
              "\n",
              "    .dataframe tbody tr th {\n",
              "        vertical-align: top;\n",
              "    }\n",
              "\n",
              "    .dataframe thead th {\n",
              "        text-align: right;\n",
              "    }\n",
              "</style>\n",
              "<table border=\"1\" class=\"dataframe\">\n",
              "  <thead>\n",
              "    <tr style=\"text-align: right;\">\n",
              "      <th></th>\n",
              "      <th>dateheure</th>\n",
              "      <th>noauba</th>\n",
              "      <th>n2auba</th>\n",
              "      <th>10auba</th>\n",
              "      <th>25auba</th>\n",
              "      <th>c2auba</th>\n",
              "      <th>tauba</th>\n",
              "      <th>hyauba</th>\n",
              "    </tr>\n",
              "  </thead>\n",
              "  <tbody>\n",
              "    <tr>\n",
              "      <th>0</th>\n",
              "      <td>None</td>\n",
              "      <td>None</td>\n",
              "      <td>None</td>\n",
              "      <td>None</td>\n",
              "      <td>None</td>\n",
              "      <td>None</td>\n",
              "      <td>None</td>\n",
              "      <td>None</td>\n",
              "    </tr>\n",
              "    <tr>\n",
              "      <th>1</th>\n",
              "      <td>None</td>\n",
              "      <td>None</td>\n",
              "      <td>None</td>\n",
              "      <td>None</td>\n",
              "      <td>None</td>\n",
              "      <td>None</td>\n",
              "      <td>None</td>\n",
              "      <td>None</td>\n",
              "    </tr>\n",
              "    <tr>\n",
              "      <th>2</th>\n",
              "      <td>None</td>\n",
              "      <td>None</td>\n",
              "      <td>None</td>\n",
              "      <td>None</td>\n",
              "      <td>None</td>\n",
              "      <td>None</td>\n",
              "      <td>None</td>\n",
              "      <td>None</td>\n",
              "    </tr>\n",
              "    <tr>\n",
              "      <th>3</th>\n",
              "      <td>None</td>\n",
              "      <td>None</td>\n",
              "      <td>None</td>\n",
              "      <td>None</td>\n",
              "      <td>None</td>\n",
              "      <td>None</td>\n",
              "      <td>None</td>\n",
              "      <td>None</td>\n",
              "    </tr>\n",
              "    <tr>\n",
              "      <th>4</th>\n",
              "      <td>None</td>\n",
              "      <td>None</td>\n",
              "      <td>None</td>\n",
              "      <td>None</td>\n",
              "      <td>None</td>\n",
              "      <td>None</td>\n",
              "      <td>None</td>\n",
              "      <td>None</td>\n",
              "    </tr>\n",
              "    <tr>\n",
              "      <th>...</th>\n",
              "      <td>...</td>\n",
              "      <td>...</td>\n",
              "      <td>...</td>\n",
              "      <td>...</td>\n",
              "      <td>...</td>\n",
              "      <td>...</td>\n",
              "      <td>...</td>\n",
              "      <td>...</td>\n",
              "    </tr>\n",
              "    <tr>\n",
              "      <th>8731</th>\n",
              "      <td>None</td>\n",
              "      <td>None</td>\n",
              "      <td>None</td>\n",
              "      <td>None</td>\n",
              "      <td>None</td>\n",
              "      <td>None</td>\n",
              "      <td>None</td>\n",
              "      <td>None</td>\n",
              "    </tr>\n",
              "    <tr>\n",
              "      <th>8732</th>\n",
              "      <td>None</td>\n",
              "      <td>None</td>\n",
              "      <td>None</td>\n",
              "      <td>None</td>\n",
              "      <td>None</td>\n",
              "      <td>None</td>\n",
              "      <td>None</td>\n",
              "      <td>None</td>\n",
              "    </tr>\n",
              "    <tr>\n",
              "      <th>8733</th>\n",
              "      <td>None</td>\n",
              "      <td>None</td>\n",
              "      <td>None</td>\n",
              "      <td>None</td>\n",
              "      <td>None</td>\n",
              "      <td>None</td>\n",
              "      <td>None</td>\n",
              "      <td>None</td>\n",
              "    </tr>\n",
              "    <tr>\n",
              "      <th>8734</th>\n",
              "      <td>None</td>\n",
              "      <td>None</td>\n",
              "      <td>None</td>\n",
              "      <td>None</td>\n",
              "      <td>None</td>\n",
              "      <td>None</td>\n",
              "      <td>None</td>\n",
              "      <td>None</td>\n",
              "    </tr>\n",
              "    <tr>\n",
              "      <th>8735</th>\n",
              "      <td>None</td>\n",
              "      <td>None</td>\n",
              "      <td>None</td>\n",
              "      <td>None</td>\n",
              "      <td>None</td>\n",
              "      <td>None</td>\n",
              "      <td>None</td>\n",
              "      <td>None</td>\n",
              "    </tr>\n",
              "  </tbody>\n",
              "</table>\n",
              "<p>8736 rows × 8 columns</p>\n",
              "</div>\n",
              "      <button class=\"colab-df-convert\" onclick=\"convertToInteractive('df-0fb4b63f-5ee4-42bf-a86a-c651dd41e72a')\"\n",
              "              title=\"Convert this dataframe to an interactive table.\"\n",
              "              style=\"display:none;\">\n",
              "        \n",
              "  <svg xmlns=\"http://www.w3.org/2000/svg\" height=\"24px\"viewBox=\"0 0 24 24\"\n",
              "       width=\"24px\">\n",
              "    <path d=\"M0 0h24v24H0V0z\" fill=\"none\"/>\n",
              "    <path d=\"M18.56 5.44l.94 2.06.94-2.06 2.06-.94-2.06-.94-.94-2.06-.94 2.06-2.06.94zm-11 1L8.5 8.5l.94-2.06 2.06-.94-2.06-.94L8.5 2.5l-.94 2.06-2.06.94zm10 10l.94 2.06.94-2.06 2.06-.94-2.06-.94-.94-2.06-.94 2.06-2.06.94z\"/><path d=\"M17.41 7.96l-1.37-1.37c-.4-.4-.92-.59-1.43-.59-.52 0-1.04.2-1.43.59L10.3 9.45l-7.72 7.72c-.78.78-.78 2.05 0 2.83L4 21.41c.39.39.9.59 1.41.59.51 0 1.02-.2 1.41-.59l7.78-7.78 2.81-2.81c.8-.78.8-2.07 0-2.86zM5.41 20L4 18.59l7.72-7.72 1.47 1.35L5.41 20z\"/>\n",
              "  </svg>\n",
              "      </button>\n",
              "      \n",
              "  <style>\n",
              "    .colab-df-container {\n",
              "      display:flex;\n",
              "      flex-wrap:wrap;\n",
              "      gap: 12px;\n",
              "    }\n",
              "\n",
              "    .colab-df-convert {\n",
              "      background-color: #E8F0FE;\n",
              "      border: none;\n",
              "      border-radius: 50%;\n",
              "      cursor: pointer;\n",
              "      display: none;\n",
              "      fill: #1967D2;\n",
              "      height: 32px;\n",
              "      padding: 0 0 0 0;\n",
              "      width: 32px;\n",
              "    }\n",
              "\n",
              "    .colab-df-convert:hover {\n",
              "      background-color: #E2EBFA;\n",
              "      box-shadow: 0px 1px 2px rgba(60, 64, 67, 0.3), 0px 1px 3px 1px rgba(60, 64, 67, 0.15);\n",
              "      fill: #174EA6;\n",
              "    }\n",
              "\n",
              "    [theme=dark] .colab-df-convert {\n",
              "      background-color: #3B4455;\n",
              "      fill: #D2E3FC;\n",
              "    }\n",
              "\n",
              "    [theme=dark] .colab-df-convert:hover {\n",
              "      background-color: #434B5C;\n",
              "      box-shadow: 0px 1px 3px 1px rgba(0, 0, 0, 0.15);\n",
              "      filter: drop-shadow(0px 1px 2px rgba(0, 0, 0, 0.3));\n",
              "      fill: #FFFFFF;\n",
              "    }\n",
              "  </style>\n",
              "\n",
              "      <script>\n",
              "        const buttonEl =\n",
              "          document.querySelector('#df-0fb4b63f-5ee4-42bf-a86a-c651dd41e72a button.colab-df-convert');\n",
              "        buttonEl.style.display =\n",
              "          google.colab.kernel.accessAllowed ? 'block' : 'none';\n",
              "\n",
              "        async function convertToInteractive(key) {\n",
              "          const element = document.querySelector('#df-0fb4b63f-5ee4-42bf-a86a-c651dd41e72a');\n",
              "          const dataTable =\n",
              "            await google.colab.kernel.invokeFunction('convertToInteractive',\n",
              "                                                     [key], {});\n",
              "          if (!dataTable) return;\n",
              "\n",
              "          const docLinkHtml = 'Like what you see? Visit the ' +\n",
              "            '<a target=\"_blank\" href=https://colab.research.google.com/notebooks/data_table.ipynb>data table notebook</a>'\n",
              "            + ' to learn more about interactive tables.';\n",
              "          element.innerHTML = '';\n",
              "          dataTable['output_type'] = 'display_data';\n",
              "          await google.colab.output.renderOutput(dataTable, element);\n",
              "          const docLink = document.createElement('div');\n",
              "          docLink.innerHTML = docLinkHtml;\n",
              "          element.appendChild(docLink);\n",
              "        }\n",
              "      </script>\n",
              "    </div>\n",
              "  </div>\n",
              "  "
            ]
          },
          "metadata": {},
          "execution_count": 74
        }
      ]
    },
    {
      "cell_type": "code",
      "source": [
        "auber_df.head()"
      ],
      "metadata": {
        "id": "fFFTmohPX5_n",
        "colab": {
          "base_uri": "https://localhost:8080/",
          "height": 206
        },
        "outputId": "7d1dbe02-041a-43dd-cbb8-e35aaa205cae"
      },
      "execution_count": null,
      "outputs": [
        {
          "output_type": "execute_result",
          "data": {
            "text/plain": [
              "  dateheure noauba n2auba 10auba 25auba c2auba tauba hyauba\n",
              "0      None   None   None   None   None   None  None   None\n",
              "1      None   None   None   None   None   None  None   None\n",
              "2      None   None   None   None   None   None  None   None\n",
              "3      None   None   None   None   None   None  None   None\n",
              "4      None   None   None   None   None   None  None   None"
            ],
            "text/html": [
              "\n",
              "  <div id=\"df-f1c71f47-82f3-4007-acbe-88fa662d3b48\">\n",
              "    <div class=\"colab-df-container\">\n",
              "      <div>\n",
              "<style scoped>\n",
              "    .dataframe tbody tr th:only-of-type {\n",
              "        vertical-align: middle;\n",
              "    }\n",
              "\n",
              "    .dataframe tbody tr th {\n",
              "        vertical-align: top;\n",
              "    }\n",
              "\n",
              "    .dataframe thead th {\n",
              "        text-align: right;\n",
              "    }\n",
              "</style>\n",
              "<table border=\"1\" class=\"dataframe\">\n",
              "  <thead>\n",
              "    <tr style=\"text-align: right;\">\n",
              "      <th></th>\n",
              "      <th>dateheure</th>\n",
              "      <th>noauba</th>\n",
              "      <th>n2auba</th>\n",
              "      <th>10auba</th>\n",
              "      <th>25auba</th>\n",
              "      <th>c2auba</th>\n",
              "      <th>tauba</th>\n",
              "      <th>hyauba</th>\n",
              "    </tr>\n",
              "  </thead>\n",
              "  <tbody>\n",
              "    <tr>\n",
              "      <th>0</th>\n",
              "      <td>None</td>\n",
              "      <td>None</td>\n",
              "      <td>None</td>\n",
              "      <td>None</td>\n",
              "      <td>None</td>\n",
              "      <td>None</td>\n",
              "      <td>None</td>\n",
              "      <td>None</td>\n",
              "    </tr>\n",
              "    <tr>\n",
              "      <th>1</th>\n",
              "      <td>None</td>\n",
              "      <td>None</td>\n",
              "      <td>None</td>\n",
              "      <td>None</td>\n",
              "      <td>None</td>\n",
              "      <td>None</td>\n",
              "      <td>None</td>\n",
              "      <td>None</td>\n",
              "    </tr>\n",
              "    <tr>\n",
              "      <th>2</th>\n",
              "      <td>None</td>\n",
              "      <td>None</td>\n",
              "      <td>None</td>\n",
              "      <td>None</td>\n",
              "      <td>None</td>\n",
              "      <td>None</td>\n",
              "      <td>None</td>\n",
              "      <td>None</td>\n",
              "    </tr>\n",
              "    <tr>\n",
              "      <th>3</th>\n",
              "      <td>None</td>\n",
              "      <td>None</td>\n",
              "      <td>None</td>\n",
              "      <td>None</td>\n",
              "      <td>None</td>\n",
              "      <td>None</td>\n",
              "      <td>None</td>\n",
              "      <td>None</td>\n",
              "    </tr>\n",
              "    <tr>\n",
              "      <th>4</th>\n",
              "      <td>None</td>\n",
              "      <td>None</td>\n",
              "      <td>None</td>\n",
              "      <td>None</td>\n",
              "      <td>None</td>\n",
              "      <td>None</td>\n",
              "      <td>None</td>\n",
              "      <td>None</td>\n",
              "    </tr>\n",
              "  </tbody>\n",
              "</table>\n",
              "</div>\n",
              "      <button class=\"colab-df-convert\" onclick=\"convertToInteractive('df-f1c71f47-82f3-4007-acbe-88fa662d3b48')\"\n",
              "              title=\"Convert this dataframe to an interactive table.\"\n",
              "              style=\"display:none;\">\n",
              "        \n",
              "  <svg xmlns=\"http://www.w3.org/2000/svg\" height=\"24px\"viewBox=\"0 0 24 24\"\n",
              "       width=\"24px\">\n",
              "    <path d=\"M0 0h24v24H0V0z\" fill=\"none\"/>\n",
              "    <path d=\"M18.56 5.44l.94 2.06.94-2.06 2.06-.94-2.06-.94-.94-2.06-.94 2.06-2.06.94zm-11 1L8.5 8.5l.94-2.06 2.06-.94-2.06-.94L8.5 2.5l-.94 2.06-2.06.94zm10 10l.94 2.06.94-2.06 2.06-.94-2.06-.94-.94-2.06-.94 2.06-2.06.94z\"/><path d=\"M17.41 7.96l-1.37-1.37c-.4-.4-.92-.59-1.43-.59-.52 0-1.04.2-1.43.59L10.3 9.45l-7.72 7.72c-.78.78-.78 2.05 0 2.83L4 21.41c.39.39.9.59 1.41.59.51 0 1.02-.2 1.41-.59l7.78-7.78 2.81-2.81c.8-.78.8-2.07 0-2.86zM5.41 20L4 18.59l7.72-7.72 1.47 1.35L5.41 20z\"/>\n",
              "  </svg>\n",
              "      </button>\n",
              "      \n",
              "  <style>\n",
              "    .colab-df-container {\n",
              "      display:flex;\n",
              "      flex-wrap:wrap;\n",
              "      gap: 12px;\n",
              "    }\n",
              "\n",
              "    .colab-df-convert {\n",
              "      background-color: #E8F0FE;\n",
              "      border: none;\n",
              "      border-radius: 50%;\n",
              "      cursor: pointer;\n",
              "      display: none;\n",
              "      fill: #1967D2;\n",
              "      height: 32px;\n",
              "      padding: 0 0 0 0;\n",
              "      width: 32px;\n",
              "    }\n",
              "\n",
              "    .colab-df-convert:hover {\n",
              "      background-color: #E2EBFA;\n",
              "      box-shadow: 0px 1px 2px rgba(60, 64, 67, 0.3), 0px 1px 3px 1px rgba(60, 64, 67, 0.15);\n",
              "      fill: #174EA6;\n",
              "    }\n",
              "\n",
              "    [theme=dark] .colab-df-convert {\n",
              "      background-color: #3B4455;\n",
              "      fill: #D2E3FC;\n",
              "    }\n",
              "\n",
              "    [theme=dark] .colab-df-convert:hover {\n",
              "      background-color: #434B5C;\n",
              "      box-shadow: 0px 1px 3px 1px rgba(0, 0, 0, 0.15);\n",
              "      filter: drop-shadow(0px 1px 2px rgba(0, 0, 0, 0.3));\n",
              "      fill: #FFFFFF;\n",
              "    }\n",
              "  </style>\n",
              "\n",
              "      <script>\n",
              "        const buttonEl =\n",
              "          document.querySelector('#df-f1c71f47-82f3-4007-acbe-88fa662d3b48 button.colab-df-convert');\n",
              "        buttonEl.style.display =\n",
              "          google.colab.kernel.accessAllowed ? 'block' : 'none';\n",
              "\n",
              "        async function convertToInteractive(key) {\n",
              "          const element = document.querySelector('#df-f1c71f47-82f3-4007-acbe-88fa662d3b48');\n",
              "          const dataTable =\n",
              "            await google.colab.kernel.invokeFunction('convertToInteractive',\n",
              "                                                     [key], {});\n",
              "          if (!dataTable) return;\n",
              "\n",
              "          const docLinkHtml = 'Like what you see? Visit the ' +\n",
              "            '<a target=\"_blank\" href=https://colab.research.google.com/notebooks/data_table.ipynb>data table notebook</a>'\n",
              "            + ' to learn more about interactive tables.';\n",
              "          element.innerHTML = '';\n",
              "          dataTable['output_type'] = 'display_data';\n",
              "          await google.colab.output.renderOutput(dataTable, element);\n",
              "          const docLink = document.createElement('div');\n",
              "          docLink.innerHTML = docLinkHtml;\n",
              "          element.appendChild(docLink);\n",
              "        }\n",
              "      </script>\n",
              "    </div>\n",
              "  </div>\n",
              "  "
            ]
          },
          "metadata": {},
          "execution_count": 75
        }
      ]
    },
    {
      "cell_type": "code",
      "source": [
        "franklin_df.head()"
      ],
      "metadata": {
        "id": "yZ9ByO8RX6C2",
        "colab": {
          "base_uri": "https://localhost:8080/",
          "height": 206
        },
        "outputId": "6e7850ed-42f1-4e8c-aeb2-2ea6e695a104"
      },
      "execution_count": null,
      "outputs": [
        {
          "output_type": "execute_result",
          "data": {
            "text/plain": [
              "                   dateheure nofra1 n2fra1 10fra1 c2fra1 tfra1 hyfra1\n",
              "0  2014-01-01T05:00:00+00:00     13     48     19    464  13,3   58,2\n",
              "1  2014-01-01T09:00:00+00:00      9     36     17    418  12,8   62,6\n",
              "2  2014-01-01T15:00:00+00:00     17     44     20    515  13,6   62,9\n",
              "3  2014-01-01T16:00:00+00:00     25     51     20    531  13,9   62,4\n",
              "4  2014-01-01T18:00:00+00:00     58     64     31    611  14,1   65,2"
            ],
            "text/html": [
              "\n",
              "  <div id=\"df-5222495b-2791-431d-8a9e-8d79225d5d56\">\n",
              "    <div class=\"colab-df-container\">\n",
              "      <div>\n",
              "<style scoped>\n",
              "    .dataframe tbody tr th:only-of-type {\n",
              "        vertical-align: middle;\n",
              "    }\n",
              "\n",
              "    .dataframe tbody tr th {\n",
              "        vertical-align: top;\n",
              "    }\n",
              "\n",
              "    .dataframe thead th {\n",
              "        text-align: right;\n",
              "    }\n",
              "</style>\n",
              "<table border=\"1\" class=\"dataframe\">\n",
              "  <thead>\n",
              "    <tr style=\"text-align: right;\">\n",
              "      <th></th>\n",
              "      <th>dateheure</th>\n",
              "      <th>nofra1</th>\n",
              "      <th>n2fra1</th>\n",
              "      <th>10fra1</th>\n",
              "      <th>c2fra1</th>\n",
              "      <th>tfra1</th>\n",
              "      <th>hyfra1</th>\n",
              "    </tr>\n",
              "  </thead>\n",
              "  <tbody>\n",
              "    <tr>\n",
              "      <th>0</th>\n",
              "      <td>2014-01-01T05:00:00+00:00</td>\n",
              "      <td>13</td>\n",
              "      <td>48</td>\n",
              "      <td>19</td>\n",
              "      <td>464</td>\n",
              "      <td>13,3</td>\n",
              "      <td>58,2</td>\n",
              "    </tr>\n",
              "    <tr>\n",
              "      <th>1</th>\n",
              "      <td>2014-01-01T09:00:00+00:00</td>\n",
              "      <td>9</td>\n",
              "      <td>36</td>\n",
              "      <td>17</td>\n",
              "      <td>418</td>\n",
              "      <td>12,8</td>\n",
              "      <td>62,6</td>\n",
              "    </tr>\n",
              "    <tr>\n",
              "      <th>2</th>\n",
              "      <td>2014-01-01T15:00:00+00:00</td>\n",
              "      <td>17</td>\n",
              "      <td>44</td>\n",
              "      <td>20</td>\n",
              "      <td>515</td>\n",
              "      <td>13,6</td>\n",
              "      <td>62,9</td>\n",
              "    </tr>\n",
              "    <tr>\n",
              "      <th>3</th>\n",
              "      <td>2014-01-01T16:00:00+00:00</td>\n",
              "      <td>25</td>\n",
              "      <td>51</td>\n",
              "      <td>20</td>\n",
              "      <td>531</td>\n",
              "      <td>13,9</td>\n",
              "      <td>62,4</td>\n",
              "    </tr>\n",
              "    <tr>\n",
              "      <th>4</th>\n",
              "      <td>2014-01-01T18:00:00+00:00</td>\n",
              "      <td>58</td>\n",
              "      <td>64</td>\n",
              "      <td>31</td>\n",
              "      <td>611</td>\n",
              "      <td>14,1</td>\n",
              "      <td>65,2</td>\n",
              "    </tr>\n",
              "  </tbody>\n",
              "</table>\n",
              "</div>\n",
              "      <button class=\"colab-df-convert\" onclick=\"convertToInteractive('df-5222495b-2791-431d-8a9e-8d79225d5d56')\"\n",
              "              title=\"Convert this dataframe to an interactive table.\"\n",
              "              style=\"display:none;\">\n",
              "        \n",
              "  <svg xmlns=\"http://www.w3.org/2000/svg\" height=\"24px\"viewBox=\"0 0 24 24\"\n",
              "       width=\"24px\">\n",
              "    <path d=\"M0 0h24v24H0V0z\" fill=\"none\"/>\n",
              "    <path d=\"M18.56 5.44l.94 2.06.94-2.06 2.06-.94-2.06-.94-.94-2.06-.94 2.06-2.06.94zm-11 1L8.5 8.5l.94-2.06 2.06-.94-2.06-.94L8.5 2.5l-.94 2.06-2.06.94zm10 10l.94 2.06.94-2.06 2.06-.94-2.06-.94-.94-2.06-.94 2.06-2.06.94z\"/><path d=\"M17.41 7.96l-1.37-1.37c-.4-.4-.92-.59-1.43-.59-.52 0-1.04.2-1.43.59L10.3 9.45l-7.72 7.72c-.78.78-.78 2.05 0 2.83L4 21.41c.39.39.9.59 1.41.59.51 0 1.02-.2 1.41-.59l7.78-7.78 2.81-2.81c.8-.78.8-2.07 0-2.86zM5.41 20L4 18.59l7.72-7.72 1.47 1.35L5.41 20z\"/>\n",
              "  </svg>\n",
              "      </button>\n",
              "      \n",
              "  <style>\n",
              "    .colab-df-container {\n",
              "      display:flex;\n",
              "      flex-wrap:wrap;\n",
              "      gap: 12px;\n",
              "    }\n",
              "\n",
              "    .colab-df-convert {\n",
              "      background-color: #E8F0FE;\n",
              "      border: none;\n",
              "      border-radius: 50%;\n",
              "      cursor: pointer;\n",
              "      display: none;\n",
              "      fill: #1967D2;\n",
              "      height: 32px;\n",
              "      padding: 0 0 0 0;\n",
              "      width: 32px;\n",
              "    }\n",
              "\n",
              "    .colab-df-convert:hover {\n",
              "      background-color: #E2EBFA;\n",
              "      box-shadow: 0px 1px 2px rgba(60, 64, 67, 0.3), 0px 1px 3px 1px rgba(60, 64, 67, 0.15);\n",
              "      fill: #174EA6;\n",
              "    }\n",
              "\n",
              "    [theme=dark] .colab-df-convert {\n",
              "      background-color: #3B4455;\n",
              "      fill: #D2E3FC;\n",
              "    }\n",
              "\n",
              "    [theme=dark] .colab-df-convert:hover {\n",
              "      background-color: #434B5C;\n",
              "      box-shadow: 0px 1px 3px 1px rgba(0, 0, 0, 0.15);\n",
              "      filter: drop-shadow(0px 1px 2px rgba(0, 0, 0, 0.3));\n",
              "      fill: #FFFFFF;\n",
              "    }\n",
              "  </style>\n",
              "\n",
              "      <script>\n",
              "        const buttonEl =\n",
              "          document.querySelector('#df-5222495b-2791-431d-8a9e-8d79225d5d56 button.colab-df-convert');\n",
              "        buttonEl.style.display =\n",
              "          google.colab.kernel.accessAllowed ? 'block' : 'none';\n",
              "\n",
              "        async function convertToInteractive(key) {\n",
              "          const element = document.querySelector('#df-5222495b-2791-431d-8a9e-8d79225d5d56');\n",
              "          const dataTable =\n",
              "            await google.colab.kernel.invokeFunction('convertToInteractive',\n",
              "                                                     [key], {});\n",
              "          if (!dataTable) return;\n",
              "\n",
              "          const docLinkHtml = 'Like what you see? Visit the ' +\n",
              "            '<a target=\"_blank\" href=https://colab.research.google.com/notebooks/data_table.ipynb>data table notebook</a>'\n",
              "            + ' to learn more about interactive tables.';\n",
              "          element.innerHTML = '';\n",
              "          dataTable['output_type'] = 'display_data';\n",
              "          await google.colab.output.renderOutput(dataTable, element);\n",
              "          const docLink = document.createElement('div');\n",
              "          docLink.innerHTML = docLinkHtml;\n",
              "          element.appendChild(docLink);\n",
              "        }\n",
              "      </script>\n",
              "    </div>\n",
              "  </div>\n",
              "  "
            ]
          },
          "metadata": {},
          "execution_count": 76
        }
      ]
    },
    {
      "cell_type": "markdown",
      "source": [
        "# EDA"
      ],
      "metadata": {
        "id": "5LHPGBFVTykX"
      }
    },
    {
      "cell_type": "code",
      "source": [
        "chatelet_df.head()"
      ],
      "metadata": {
        "id": "y768pUAST2GH",
        "colab": {
          "base_uri": "https://localhost:8080/",
          "height": 206
        },
        "outputId": "e3063fc3-398a-4214-f2ee-eb84d89270a8"
      },
      "execution_count": null,
      "outputs": [
        {
          "output_type": "execute_result",
          "data": {
            "text/plain": [
              "                   dateheure nocha4 n2cha4 10cha4 c2cha4 tcha4 hycha4\n",
              "0  2013-01-01T06:00:00+00:00      3     26    146    563  20,9     46\n",
              "1  2013-01-01T09:00:00+00:00      7     31    128    517  20,9   45,2\n",
              "2  2013-01-01T14:00:00+00:00     16     41    164    653    21   36,6\n",
              "3  2013-01-01T19:00:00+00:00     41     62    180    689    21     38\n",
              "4  2013-01-02T04:00:00+00:00      2     28      6    461  18,7   37,4"
            ],
            "text/html": [
              "\n",
              "  <div id=\"df-2da7b1df-f461-485a-b748-7ecdecfdd31d\">\n",
              "    <div class=\"colab-df-container\">\n",
              "      <div>\n",
              "<style scoped>\n",
              "    .dataframe tbody tr th:only-of-type {\n",
              "        vertical-align: middle;\n",
              "    }\n",
              "\n",
              "    .dataframe tbody tr th {\n",
              "        vertical-align: top;\n",
              "    }\n",
              "\n",
              "    .dataframe thead th {\n",
              "        text-align: right;\n",
              "    }\n",
              "</style>\n",
              "<table border=\"1\" class=\"dataframe\">\n",
              "  <thead>\n",
              "    <tr style=\"text-align: right;\">\n",
              "      <th></th>\n",
              "      <th>dateheure</th>\n",
              "      <th>nocha4</th>\n",
              "      <th>n2cha4</th>\n",
              "      <th>10cha4</th>\n",
              "      <th>c2cha4</th>\n",
              "      <th>tcha4</th>\n",
              "      <th>hycha4</th>\n",
              "    </tr>\n",
              "  </thead>\n",
              "  <tbody>\n",
              "    <tr>\n",
              "      <th>0</th>\n",
              "      <td>2013-01-01T06:00:00+00:00</td>\n",
              "      <td>3</td>\n",
              "      <td>26</td>\n",
              "      <td>146</td>\n",
              "      <td>563</td>\n",
              "      <td>20,9</td>\n",
              "      <td>46</td>\n",
              "    </tr>\n",
              "    <tr>\n",
              "      <th>1</th>\n",
              "      <td>2013-01-01T09:00:00+00:00</td>\n",
              "      <td>7</td>\n",
              "      <td>31</td>\n",
              "      <td>128</td>\n",
              "      <td>517</td>\n",
              "      <td>20,9</td>\n",
              "      <td>45,2</td>\n",
              "    </tr>\n",
              "    <tr>\n",
              "      <th>2</th>\n",
              "      <td>2013-01-01T14:00:00+00:00</td>\n",
              "      <td>16</td>\n",
              "      <td>41</td>\n",
              "      <td>164</td>\n",
              "      <td>653</td>\n",
              "      <td>21</td>\n",
              "      <td>36,6</td>\n",
              "    </tr>\n",
              "    <tr>\n",
              "      <th>3</th>\n",
              "      <td>2013-01-01T19:00:00+00:00</td>\n",
              "      <td>41</td>\n",
              "      <td>62</td>\n",
              "      <td>180</td>\n",
              "      <td>689</td>\n",
              "      <td>21</td>\n",
              "      <td>38</td>\n",
              "    </tr>\n",
              "    <tr>\n",
              "      <th>4</th>\n",
              "      <td>2013-01-02T04:00:00+00:00</td>\n",
              "      <td>2</td>\n",
              "      <td>28</td>\n",
              "      <td>6</td>\n",
              "      <td>461</td>\n",
              "      <td>18,7</td>\n",
              "      <td>37,4</td>\n",
              "    </tr>\n",
              "  </tbody>\n",
              "</table>\n",
              "</div>\n",
              "      <button class=\"colab-df-convert\" onclick=\"convertToInteractive('df-2da7b1df-f461-485a-b748-7ecdecfdd31d')\"\n",
              "              title=\"Convert this dataframe to an interactive table.\"\n",
              "              style=\"display:none;\">\n",
              "        \n",
              "  <svg xmlns=\"http://www.w3.org/2000/svg\" height=\"24px\"viewBox=\"0 0 24 24\"\n",
              "       width=\"24px\">\n",
              "    <path d=\"M0 0h24v24H0V0z\" fill=\"none\"/>\n",
              "    <path d=\"M18.56 5.44l.94 2.06.94-2.06 2.06-.94-2.06-.94-.94-2.06-.94 2.06-2.06.94zm-11 1L8.5 8.5l.94-2.06 2.06-.94-2.06-.94L8.5 2.5l-.94 2.06-2.06.94zm10 10l.94 2.06.94-2.06 2.06-.94-2.06-.94-.94-2.06-.94 2.06-2.06.94z\"/><path d=\"M17.41 7.96l-1.37-1.37c-.4-.4-.92-.59-1.43-.59-.52 0-1.04.2-1.43.59L10.3 9.45l-7.72 7.72c-.78.78-.78 2.05 0 2.83L4 21.41c.39.39.9.59 1.41.59.51 0 1.02-.2 1.41-.59l7.78-7.78 2.81-2.81c.8-.78.8-2.07 0-2.86zM5.41 20L4 18.59l7.72-7.72 1.47 1.35L5.41 20z\"/>\n",
              "  </svg>\n",
              "      </button>\n",
              "      \n",
              "  <style>\n",
              "    .colab-df-container {\n",
              "      display:flex;\n",
              "      flex-wrap:wrap;\n",
              "      gap: 12px;\n",
              "    }\n",
              "\n",
              "    .colab-df-convert {\n",
              "      background-color: #E8F0FE;\n",
              "      border: none;\n",
              "      border-radius: 50%;\n",
              "      cursor: pointer;\n",
              "      display: none;\n",
              "      fill: #1967D2;\n",
              "      height: 32px;\n",
              "      padding: 0 0 0 0;\n",
              "      width: 32px;\n",
              "    }\n",
              "\n",
              "    .colab-df-convert:hover {\n",
              "      background-color: #E2EBFA;\n",
              "      box-shadow: 0px 1px 2px rgba(60, 64, 67, 0.3), 0px 1px 3px 1px rgba(60, 64, 67, 0.15);\n",
              "      fill: #174EA6;\n",
              "    }\n",
              "\n",
              "    [theme=dark] .colab-df-convert {\n",
              "      background-color: #3B4455;\n",
              "      fill: #D2E3FC;\n",
              "    }\n",
              "\n",
              "    [theme=dark] .colab-df-convert:hover {\n",
              "      background-color: #434B5C;\n",
              "      box-shadow: 0px 1px 3px 1px rgba(0, 0, 0, 0.15);\n",
              "      filter: drop-shadow(0px 1px 2px rgba(0, 0, 0, 0.3));\n",
              "      fill: #FFFFFF;\n",
              "    }\n",
              "  </style>\n",
              "\n",
              "      <script>\n",
              "        const buttonEl =\n",
              "          document.querySelector('#df-2da7b1df-f461-485a-b748-7ecdecfdd31d button.colab-df-convert');\n",
              "        buttonEl.style.display =\n",
              "          google.colab.kernel.accessAllowed ? 'block' : 'none';\n",
              "\n",
              "        async function convertToInteractive(key) {\n",
              "          const element = document.querySelector('#df-2da7b1df-f461-485a-b748-7ecdecfdd31d');\n",
              "          const dataTable =\n",
              "            await google.colab.kernel.invokeFunction('convertToInteractive',\n",
              "                                                     [key], {});\n",
              "          if (!dataTable) return;\n",
              "\n",
              "          const docLinkHtml = 'Like what you see? Visit the ' +\n",
              "            '<a target=\"_blank\" href=https://colab.research.google.com/notebooks/data_table.ipynb>data table notebook</a>'\n",
              "            + ' to learn more about interactive tables.';\n",
              "          element.innerHTML = '';\n",
              "          dataTable['output_type'] = 'display_data';\n",
              "          await google.colab.output.renderOutput(dataTable, element);\n",
              "          const docLink = document.createElement('div');\n",
              "          docLink.innerHTML = docLinkHtml;\n",
              "          element.appendChild(docLink);\n",
              "        }\n",
              "      </script>\n",
              "    </div>\n",
              "  </div>\n",
              "  "
            ]
          },
          "metadata": {},
          "execution_count": 77
        }
      ]
    },
    {
      "cell_type": "code",
      "source": [
        "chatelet_df.tail()"
      ],
      "metadata": {
        "id": "naQVfh40YwGY",
        "colab": {
          "base_uri": "https://localhost:8080/",
          "height": 206
        },
        "outputId": "a0dea09d-bdfe-472b-b94b-967e00133061"
      },
      "execution_count": null,
      "outputs": [
        {
          "output_type": "execute_result",
          "data": {
            "text/plain": [
              "                       dateheure nocha4 n2cha4 10cha4 c2cha4 tcha4 hycha4\n",
              "85432  2022-10-09T06:00:00+00:00     ND     ND      5    437  17,2   42,9\n",
              "85433  2022-10-09T13:00:00+00:00     ND     ND     29    564    18   44,7\n",
              "85434  2022-10-09T15:00:00+00:00     ND     ND     43    578  18,5   43,7\n",
              "85435  2022-10-09T18:00:00+00:00     ND     ND     65    637  19,5   43,5\n",
              "85436  2022-10-10T00:00:00+00:00     ND     ND     43    508  18,2   49,1"
            ],
            "text/html": [
              "\n",
              "  <div id=\"df-cd8eb699-f869-4ab3-a2d1-c79376ed0179\">\n",
              "    <div class=\"colab-df-container\">\n",
              "      <div>\n",
              "<style scoped>\n",
              "    .dataframe tbody tr th:only-of-type {\n",
              "        vertical-align: middle;\n",
              "    }\n",
              "\n",
              "    .dataframe tbody tr th {\n",
              "        vertical-align: top;\n",
              "    }\n",
              "\n",
              "    .dataframe thead th {\n",
              "        text-align: right;\n",
              "    }\n",
              "</style>\n",
              "<table border=\"1\" class=\"dataframe\">\n",
              "  <thead>\n",
              "    <tr style=\"text-align: right;\">\n",
              "      <th></th>\n",
              "      <th>dateheure</th>\n",
              "      <th>nocha4</th>\n",
              "      <th>n2cha4</th>\n",
              "      <th>10cha4</th>\n",
              "      <th>c2cha4</th>\n",
              "      <th>tcha4</th>\n",
              "      <th>hycha4</th>\n",
              "    </tr>\n",
              "  </thead>\n",
              "  <tbody>\n",
              "    <tr>\n",
              "      <th>85432</th>\n",
              "      <td>2022-10-09T06:00:00+00:00</td>\n",
              "      <td>ND</td>\n",
              "      <td>ND</td>\n",
              "      <td>5</td>\n",
              "      <td>437</td>\n",
              "      <td>17,2</td>\n",
              "      <td>42,9</td>\n",
              "    </tr>\n",
              "    <tr>\n",
              "      <th>85433</th>\n",
              "      <td>2022-10-09T13:00:00+00:00</td>\n",
              "      <td>ND</td>\n",
              "      <td>ND</td>\n",
              "      <td>29</td>\n",
              "      <td>564</td>\n",
              "      <td>18</td>\n",
              "      <td>44,7</td>\n",
              "    </tr>\n",
              "    <tr>\n",
              "      <th>85434</th>\n",
              "      <td>2022-10-09T15:00:00+00:00</td>\n",
              "      <td>ND</td>\n",
              "      <td>ND</td>\n",
              "      <td>43</td>\n",
              "      <td>578</td>\n",
              "      <td>18,5</td>\n",
              "      <td>43,7</td>\n",
              "    </tr>\n",
              "    <tr>\n",
              "      <th>85435</th>\n",
              "      <td>2022-10-09T18:00:00+00:00</td>\n",
              "      <td>ND</td>\n",
              "      <td>ND</td>\n",
              "      <td>65</td>\n",
              "      <td>637</td>\n",
              "      <td>19,5</td>\n",
              "      <td>43,5</td>\n",
              "    </tr>\n",
              "    <tr>\n",
              "      <th>85436</th>\n",
              "      <td>2022-10-10T00:00:00+00:00</td>\n",
              "      <td>ND</td>\n",
              "      <td>ND</td>\n",
              "      <td>43</td>\n",
              "      <td>508</td>\n",
              "      <td>18,2</td>\n",
              "      <td>49,1</td>\n",
              "    </tr>\n",
              "  </tbody>\n",
              "</table>\n",
              "</div>\n",
              "      <button class=\"colab-df-convert\" onclick=\"convertToInteractive('df-cd8eb699-f869-4ab3-a2d1-c79376ed0179')\"\n",
              "              title=\"Convert this dataframe to an interactive table.\"\n",
              "              style=\"display:none;\">\n",
              "        \n",
              "  <svg xmlns=\"http://www.w3.org/2000/svg\" height=\"24px\"viewBox=\"0 0 24 24\"\n",
              "       width=\"24px\">\n",
              "    <path d=\"M0 0h24v24H0V0z\" fill=\"none\"/>\n",
              "    <path d=\"M18.56 5.44l.94 2.06.94-2.06 2.06-.94-2.06-.94-.94-2.06-.94 2.06-2.06.94zm-11 1L8.5 8.5l.94-2.06 2.06-.94-2.06-.94L8.5 2.5l-.94 2.06-2.06.94zm10 10l.94 2.06.94-2.06 2.06-.94-2.06-.94-.94-2.06-.94 2.06-2.06.94z\"/><path d=\"M17.41 7.96l-1.37-1.37c-.4-.4-.92-.59-1.43-.59-.52 0-1.04.2-1.43.59L10.3 9.45l-7.72 7.72c-.78.78-.78 2.05 0 2.83L4 21.41c.39.39.9.59 1.41.59.51 0 1.02-.2 1.41-.59l7.78-7.78 2.81-2.81c.8-.78.8-2.07 0-2.86zM5.41 20L4 18.59l7.72-7.72 1.47 1.35L5.41 20z\"/>\n",
              "  </svg>\n",
              "      </button>\n",
              "      \n",
              "  <style>\n",
              "    .colab-df-container {\n",
              "      display:flex;\n",
              "      flex-wrap:wrap;\n",
              "      gap: 12px;\n",
              "    }\n",
              "\n",
              "    .colab-df-convert {\n",
              "      background-color: #E8F0FE;\n",
              "      border: none;\n",
              "      border-radius: 50%;\n",
              "      cursor: pointer;\n",
              "      display: none;\n",
              "      fill: #1967D2;\n",
              "      height: 32px;\n",
              "      padding: 0 0 0 0;\n",
              "      width: 32px;\n",
              "    }\n",
              "\n",
              "    .colab-df-convert:hover {\n",
              "      background-color: #E2EBFA;\n",
              "      box-shadow: 0px 1px 2px rgba(60, 64, 67, 0.3), 0px 1px 3px 1px rgba(60, 64, 67, 0.15);\n",
              "      fill: #174EA6;\n",
              "    }\n",
              "\n",
              "    [theme=dark] .colab-df-convert {\n",
              "      background-color: #3B4455;\n",
              "      fill: #D2E3FC;\n",
              "    }\n",
              "\n",
              "    [theme=dark] .colab-df-convert:hover {\n",
              "      background-color: #434B5C;\n",
              "      box-shadow: 0px 1px 3px 1px rgba(0, 0, 0, 0.15);\n",
              "      filter: drop-shadow(0px 1px 2px rgba(0, 0, 0, 0.3));\n",
              "      fill: #FFFFFF;\n",
              "    }\n",
              "  </style>\n",
              "\n",
              "      <script>\n",
              "        const buttonEl =\n",
              "          document.querySelector('#df-cd8eb699-f869-4ab3-a2d1-c79376ed0179 button.colab-df-convert');\n",
              "        buttonEl.style.display =\n",
              "          google.colab.kernel.accessAllowed ? 'block' : 'none';\n",
              "\n",
              "        async function convertToInteractive(key) {\n",
              "          const element = document.querySelector('#df-cd8eb699-f869-4ab3-a2d1-c79376ed0179');\n",
              "          const dataTable =\n",
              "            await google.colab.kernel.invokeFunction('convertToInteractive',\n",
              "                                                     [key], {});\n",
              "          if (!dataTable) return;\n",
              "\n",
              "          const docLinkHtml = 'Like what you see? Visit the ' +\n",
              "            '<a target=\"_blank\" href=https://colab.research.google.com/notebooks/data_table.ipynb>data table notebook</a>'\n",
              "            + ' to learn more about interactive tables.';\n",
              "          element.innerHTML = '';\n",
              "          dataTable['output_type'] = 'display_data';\n",
              "          await google.colab.output.renderOutput(dataTable, element);\n",
              "          const docLink = document.createElement('div');\n",
              "          docLink.innerHTML = docLinkHtml;\n",
              "          element.appendChild(docLink);\n",
              "        }\n",
              "      </script>\n",
              "    </div>\n",
              "  </div>\n",
              "  "
            ]
          },
          "metadata": {},
          "execution_count": 78
        }
      ]
    },
    {
      "cell_type": "code",
      "source": [
        "chatelet_df.describe()"
      ],
      "metadata": {
        "id": "IMP0uHocYz8s",
        "colab": {
          "base_uri": "https://localhost:8080/",
          "height": 175
        },
        "outputId": "d7ed2cb2-f227-4653-d6db-61906562be5c"
      },
      "execution_count": null,
      "outputs": [
        {
          "output_type": "execute_result",
          "data": {
            "text/plain": [
              "                        dateheure nocha4 n2cha4 10cha4 c2cha4  tcha4 hycha4\n",
              "count                       85437  64108  72046  72820  73133  74852  74863\n",
              "unique                      85434    352    142    783    745    226    752\n",
              "top     2019-10-27T02:00:00+00:00     ND     ND     ND     ND   20,3   42,1\n",
              "freq                            2   6967   6113   2713   3418    882    412"
            ],
            "text/html": [
              "\n",
              "  <div id=\"df-b8a8229d-c4d2-4ff5-aa19-cfc112ba5c0c\">\n",
              "    <div class=\"colab-df-container\">\n",
              "      <div>\n",
              "<style scoped>\n",
              "    .dataframe tbody tr th:only-of-type {\n",
              "        vertical-align: middle;\n",
              "    }\n",
              "\n",
              "    .dataframe tbody tr th {\n",
              "        vertical-align: top;\n",
              "    }\n",
              "\n",
              "    .dataframe thead th {\n",
              "        text-align: right;\n",
              "    }\n",
              "</style>\n",
              "<table border=\"1\" class=\"dataframe\">\n",
              "  <thead>\n",
              "    <tr style=\"text-align: right;\">\n",
              "      <th></th>\n",
              "      <th>dateheure</th>\n",
              "      <th>nocha4</th>\n",
              "      <th>n2cha4</th>\n",
              "      <th>10cha4</th>\n",
              "      <th>c2cha4</th>\n",
              "      <th>tcha4</th>\n",
              "      <th>hycha4</th>\n",
              "    </tr>\n",
              "  </thead>\n",
              "  <tbody>\n",
              "    <tr>\n",
              "      <th>count</th>\n",
              "      <td>85437</td>\n",
              "      <td>64108</td>\n",
              "      <td>72046</td>\n",
              "      <td>72820</td>\n",
              "      <td>73133</td>\n",
              "      <td>74852</td>\n",
              "      <td>74863</td>\n",
              "    </tr>\n",
              "    <tr>\n",
              "      <th>unique</th>\n",
              "      <td>85434</td>\n",
              "      <td>352</td>\n",
              "      <td>142</td>\n",
              "      <td>783</td>\n",
              "      <td>745</td>\n",
              "      <td>226</td>\n",
              "      <td>752</td>\n",
              "    </tr>\n",
              "    <tr>\n",
              "      <th>top</th>\n",
              "      <td>2019-10-27T02:00:00+00:00</td>\n",
              "      <td>ND</td>\n",
              "      <td>ND</td>\n",
              "      <td>ND</td>\n",
              "      <td>ND</td>\n",
              "      <td>20,3</td>\n",
              "      <td>42,1</td>\n",
              "    </tr>\n",
              "    <tr>\n",
              "      <th>freq</th>\n",
              "      <td>2</td>\n",
              "      <td>6967</td>\n",
              "      <td>6113</td>\n",
              "      <td>2713</td>\n",
              "      <td>3418</td>\n",
              "      <td>882</td>\n",
              "      <td>412</td>\n",
              "    </tr>\n",
              "  </tbody>\n",
              "</table>\n",
              "</div>\n",
              "      <button class=\"colab-df-convert\" onclick=\"convertToInteractive('df-b8a8229d-c4d2-4ff5-aa19-cfc112ba5c0c')\"\n",
              "              title=\"Convert this dataframe to an interactive table.\"\n",
              "              style=\"display:none;\">\n",
              "        \n",
              "  <svg xmlns=\"http://www.w3.org/2000/svg\" height=\"24px\"viewBox=\"0 0 24 24\"\n",
              "       width=\"24px\">\n",
              "    <path d=\"M0 0h24v24H0V0z\" fill=\"none\"/>\n",
              "    <path d=\"M18.56 5.44l.94 2.06.94-2.06 2.06-.94-2.06-.94-.94-2.06-.94 2.06-2.06.94zm-11 1L8.5 8.5l.94-2.06 2.06-.94-2.06-.94L8.5 2.5l-.94 2.06-2.06.94zm10 10l.94 2.06.94-2.06 2.06-.94-2.06-.94-.94-2.06-.94 2.06-2.06.94z\"/><path d=\"M17.41 7.96l-1.37-1.37c-.4-.4-.92-.59-1.43-.59-.52 0-1.04.2-1.43.59L10.3 9.45l-7.72 7.72c-.78.78-.78 2.05 0 2.83L4 21.41c.39.39.9.59 1.41.59.51 0 1.02-.2 1.41-.59l7.78-7.78 2.81-2.81c.8-.78.8-2.07 0-2.86zM5.41 20L4 18.59l7.72-7.72 1.47 1.35L5.41 20z\"/>\n",
              "  </svg>\n",
              "      </button>\n",
              "      \n",
              "  <style>\n",
              "    .colab-df-container {\n",
              "      display:flex;\n",
              "      flex-wrap:wrap;\n",
              "      gap: 12px;\n",
              "    }\n",
              "\n",
              "    .colab-df-convert {\n",
              "      background-color: #E8F0FE;\n",
              "      border: none;\n",
              "      border-radius: 50%;\n",
              "      cursor: pointer;\n",
              "      display: none;\n",
              "      fill: #1967D2;\n",
              "      height: 32px;\n",
              "      padding: 0 0 0 0;\n",
              "      width: 32px;\n",
              "    }\n",
              "\n",
              "    .colab-df-convert:hover {\n",
              "      background-color: #E2EBFA;\n",
              "      box-shadow: 0px 1px 2px rgba(60, 64, 67, 0.3), 0px 1px 3px 1px rgba(60, 64, 67, 0.15);\n",
              "      fill: #174EA6;\n",
              "    }\n",
              "\n",
              "    [theme=dark] .colab-df-convert {\n",
              "      background-color: #3B4455;\n",
              "      fill: #D2E3FC;\n",
              "    }\n",
              "\n",
              "    [theme=dark] .colab-df-convert:hover {\n",
              "      background-color: #434B5C;\n",
              "      box-shadow: 0px 1px 3px 1px rgba(0, 0, 0, 0.15);\n",
              "      filter: drop-shadow(0px 1px 2px rgba(0, 0, 0, 0.3));\n",
              "      fill: #FFFFFF;\n",
              "    }\n",
              "  </style>\n",
              "\n",
              "      <script>\n",
              "        const buttonEl =\n",
              "          document.querySelector('#df-b8a8229d-c4d2-4ff5-aa19-cfc112ba5c0c button.colab-df-convert');\n",
              "        buttonEl.style.display =\n",
              "          google.colab.kernel.accessAllowed ? 'block' : 'none';\n",
              "\n",
              "        async function convertToInteractive(key) {\n",
              "          const element = document.querySelector('#df-b8a8229d-c4d2-4ff5-aa19-cfc112ba5c0c');\n",
              "          const dataTable =\n",
              "            await google.colab.kernel.invokeFunction('convertToInteractive',\n",
              "                                                     [key], {});\n",
              "          if (!dataTable) return;\n",
              "\n",
              "          const docLinkHtml = 'Like what you see? Visit the ' +\n",
              "            '<a target=\"_blank\" href=https://colab.research.google.com/notebooks/data_table.ipynb>data table notebook</a>'\n",
              "            + ' to learn more about interactive tables.';\n",
              "          element.innerHTML = '';\n",
              "          dataTable['output_type'] = 'display_data';\n",
              "          await google.colab.output.renderOutput(dataTable, element);\n",
              "          const docLink = document.createElement('div');\n",
              "          docLink.innerHTML = docLinkHtml;\n",
              "          element.appendChild(docLink);\n",
              "        }\n",
              "      </script>\n",
              "    </div>\n",
              "  </div>\n",
              "  "
            ]
          },
          "metadata": {},
          "execution_count": 79
        }
      ]
    },
    {
      "cell_type": "code",
      "source": [
        "#columns with missing values\n",
        "na_cols = chatelet_df.columns[chatelet_df.isna().any()].tolist()\n",
        "\n",
        "#Missing values summary\n",
        "mv = pd.DataFrame(chatelet_df[na_cols].isna().sum() , columns = ['Number_missing'])\n",
        "mv['Percentage_missing'] = np.round(100*mv['Number_missing']/len(chatelet_df),2)\n",
        "mv"
      ],
      "metadata": {
        "id": "51awtFnGY3vj",
        "colab": {
          "base_uri": "https://localhost:8080/",
          "height": 238
        },
        "outputId": "d525cd51-4b84-4a9d-aa74-6a0116772ae0"
      },
      "execution_count": null,
      "outputs": [
        {
          "output_type": "execute_result",
          "data": {
            "text/plain": [
              "        Number_missing  Percentage_missing\n",
              "nocha4           21329               24.96\n",
              "n2cha4           13391               15.67\n",
              "10cha4           12617               14.77\n",
              "c2cha4           12304               14.40\n",
              "tcha4            10585               12.39\n",
              "hycha4           10574               12.38"
            ],
            "text/html": [
              "\n",
              "  <div id=\"df-2272bb5e-8ccb-4b27-9935-fa9d2c75532d\">\n",
              "    <div class=\"colab-df-container\">\n",
              "      <div>\n",
              "<style scoped>\n",
              "    .dataframe tbody tr th:only-of-type {\n",
              "        vertical-align: middle;\n",
              "    }\n",
              "\n",
              "    .dataframe tbody tr th {\n",
              "        vertical-align: top;\n",
              "    }\n",
              "\n",
              "    .dataframe thead th {\n",
              "        text-align: right;\n",
              "    }\n",
              "</style>\n",
              "<table border=\"1\" class=\"dataframe\">\n",
              "  <thead>\n",
              "    <tr style=\"text-align: right;\">\n",
              "      <th></th>\n",
              "      <th>Number_missing</th>\n",
              "      <th>Percentage_missing</th>\n",
              "    </tr>\n",
              "  </thead>\n",
              "  <tbody>\n",
              "    <tr>\n",
              "      <th>nocha4</th>\n",
              "      <td>21329</td>\n",
              "      <td>24.96</td>\n",
              "    </tr>\n",
              "    <tr>\n",
              "      <th>n2cha4</th>\n",
              "      <td>13391</td>\n",
              "      <td>15.67</td>\n",
              "    </tr>\n",
              "    <tr>\n",
              "      <th>10cha4</th>\n",
              "      <td>12617</td>\n",
              "      <td>14.77</td>\n",
              "    </tr>\n",
              "    <tr>\n",
              "      <th>c2cha4</th>\n",
              "      <td>12304</td>\n",
              "      <td>14.40</td>\n",
              "    </tr>\n",
              "    <tr>\n",
              "      <th>tcha4</th>\n",
              "      <td>10585</td>\n",
              "      <td>12.39</td>\n",
              "    </tr>\n",
              "    <tr>\n",
              "      <th>hycha4</th>\n",
              "      <td>10574</td>\n",
              "      <td>12.38</td>\n",
              "    </tr>\n",
              "  </tbody>\n",
              "</table>\n",
              "</div>\n",
              "      <button class=\"colab-df-convert\" onclick=\"convertToInteractive('df-2272bb5e-8ccb-4b27-9935-fa9d2c75532d')\"\n",
              "              title=\"Convert this dataframe to an interactive table.\"\n",
              "              style=\"display:none;\">\n",
              "        \n",
              "  <svg xmlns=\"http://www.w3.org/2000/svg\" height=\"24px\"viewBox=\"0 0 24 24\"\n",
              "       width=\"24px\">\n",
              "    <path d=\"M0 0h24v24H0V0z\" fill=\"none\"/>\n",
              "    <path d=\"M18.56 5.44l.94 2.06.94-2.06 2.06-.94-2.06-.94-.94-2.06-.94 2.06-2.06.94zm-11 1L8.5 8.5l.94-2.06 2.06-.94-2.06-.94L8.5 2.5l-.94 2.06-2.06.94zm10 10l.94 2.06.94-2.06 2.06-.94-2.06-.94-.94-2.06-.94 2.06-2.06.94z\"/><path d=\"M17.41 7.96l-1.37-1.37c-.4-.4-.92-.59-1.43-.59-.52 0-1.04.2-1.43.59L10.3 9.45l-7.72 7.72c-.78.78-.78 2.05 0 2.83L4 21.41c.39.39.9.59 1.41.59.51 0 1.02-.2 1.41-.59l7.78-7.78 2.81-2.81c.8-.78.8-2.07 0-2.86zM5.41 20L4 18.59l7.72-7.72 1.47 1.35L5.41 20z\"/>\n",
              "  </svg>\n",
              "      </button>\n",
              "      \n",
              "  <style>\n",
              "    .colab-df-container {\n",
              "      display:flex;\n",
              "      flex-wrap:wrap;\n",
              "      gap: 12px;\n",
              "    }\n",
              "\n",
              "    .colab-df-convert {\n",
              "      background-color: #E8F0FE;\n",
              "      border: none;\n",
              "      border-radius: 50%;\n",
              "      cursor: pointer;\n",
              "      display: none;\n",
              "      fill: #1967D2;\n",
              "      height: 32px;\n",
              "      padding: 0 0 0 0;\n",
              "      width: 32px;\n",
              "    }\n",
              "\n",
              "    .colab-df-convert:hover {\n",
              "      background-color: #E2EBFA;\n",
              "      box-shadow: 0px 1px 2px rgba(60, 64, 67, 0.3), 0px 1px 3px 1px rgba(60, 64, 67, 0.15);\n",
              "      fill: #174EA6;\n",
              "    }\n",
              "\n",
              "    [theme=dark] .colab-df-convert {\n",
              "      background-color: #3B4455;\n",
              "      fill: #D2E3FC;\n",
              "    }\n",
              "\n",
              "    [theme=dark] .colab-df-convert:hover {\n",
              "      background-color: #434B5C;\n",
              "      box-shadow: 0px 1px 3px 1px rgba(0, 0, 0, 0.15);\n",
              "      filter: drop-shadow(0px 1px 2px rgba(0, 0, 0, 0.3));\n",
              "      fill: #FFFFFF;\n",
              "    }\n",
              "  </style>\n",
              "\n",
              "      <script>\n",
              "        const buttonEl =\n",
              "          document.querySelector('#df-2272bb5e-8ccb-4b27-9935-fa9d2c75532d button.colab-df-convert');\n",
              "        buttonEl.style.display =\n",
              "          google.colab.kernel.accessAllowed ? 'block' : 'none';\n",
              "\n",
              "        async function convertToInteractive(key) {\n",
              "          const element = document.querySelector('#df-2272bb5e-8ccb-4b27-9935-fa9d2c75532d');\n",
              "          const dataTable =\n",
              "            await google.colab.kernel.invokeFunction('convertToInteractive',\n",
              "                                                     [key], {});\n",
              "          if (!dataTable) return;\n",
              "\n",
              "          const docLinkHtml = 'Like what you see? Visit the ' +\n",
              "            '<a target=\"_blank\" href=https://colab.research.google.com/notebooks/data_table.ipynb>data table notebook</a>'\n",
              "            + ' to learn more about interactive tables.';\n",
              "          element.innerHTML = '';\n",
              "          dataTable['output_type'] = 'display_data';\n",
              "          await google.colab.output.renderOutput(dataTable, element);\n",
              "          const docLink = document.createElement('div');\n",
              "          docLink.innerHTML = docLinkHtml;\n",
              "          element.appendChild(docLink);\n",
              "        }\n",
              "      </script>\n",
              "    </div>\n",
              "  </div>\n",
              "  "
            ]
          },
          "metadata": {},
          "execution_count": 80
        }
      ]
    },
    {
      "cell_type": "code",
      "source": [
        "#columns with missing values\n",
        "na_cols = auber_df.columns[auber_df.isna().any()].tolist()\n",
        "\n",
        "#Missing values summary\n",
        "mv = pd.DataFrame(auber_df[na_cols].isna().sum() , columns = ['Number_missing'])\n",
        "mv['Percentage_missing'] = np.round(100*mv['Number_missing']/len(auber_df),2)\n",
        "mv"
      ],
      "metadata": {
        "id": "mploq1GictVP",
        "colab": {
          "base_uri": "https://localhost:8080/",
          "height": 300
        },
        "outputId": "d7c54906-a680-469f-824e-5fa70344ade5"
      },
      "execution_count": null,
      "outputs": [
        {
          "output_type": "execute_result",
          "data": {
            "text/plain": [
              "           Number_missing  Percentage_missing\n",
              "dateheure            8736               10.33\n",
              "noauba               8736               10.33\n",
              "n2auba               8736               10.33\n",
              "10auba               8736               10.33\n",
              "25auba               8736               10.33\n",
              "c2auba               8736               10.33\n",
              "tauba                8736               10.33\n",
              "hyauba               8736               10.33"
            ],
            "text/html": [
              "\n",
              "  <div id=\"df-f41fe572-1c93-4250-bbab-4ff1e2e3cce4\">\n",
              "    <div class=\"colab-df-container\">\n",
              "      <div>\n",
              "<style scoped>\n",
              "    .dataframe tbody tr th:only-of-type {\n",
              "        vertical-align: middle;\n",
              "    }\n",
              "\n",
              "    .dataframe tbody tr th {\n",
              "        vertical-align: top;\n",
              "    }\n",
              "\n",
              "    .dataframe thead th {\n",
              "        text-align: right;\n",
              "    }\n",
              "</style>\n",
              "<table border=\"1\" class=\"dataframe\">\n",
              "  <thead>\n",
              "    <tr style=\"text-align: right;\">\n",
              "      <th></th>\n",
              "      <th>Number_missing</th>\n",
              "      <th>Percentage_missing</th>\n",
              "    </tr>\n",
              "  </thead>\n",
              "  <tbody>\n",
              "    <tr>\n",
              "      <th>dateheure</th>\n",
              "      <td>8736</td>\n",
              "      <td>10.33</td>\n",
              "    </tr>\n",
              "    <tr>\n",
              "      <th>noauba</th>\n",
              "      <td>8736</td>\n",
              "      <td>10.33</td>\n",
              "    </tr>\n",
              "    <tr>\n",
              "      <th>n2auba</th>\n",
              "      <td>8736</td>\n",
              "      <td>10.33</td>\n",
              "    </tr>\n",
              "    <tr>\n",
              "      <th>10auba</th>\n",
              "      <td>8736</td>\n",
              "      <td>10.33</td>\n",
              "    </tr>\n",
              "    <tr>\n",
              "      <th>25auba</th>\n",
              "      <td>8736</td>\n",
              "      <td>10.33</td>\n",
              "    </tr>\n",
              "    <tr>\n",
              "      <th>c2auba</th>\n",
              "      <td>8736</td>\n",
              "      <td>10.33</td>\n",
              "    </tr>\n",
              "    <tr>\n",
              "      <th>tauba</th>\n",
              "      <td>8736</td>\n",
              "      <td>10.33</td>\n",
              "    </tr>\n",
              "    <tr>\n",
              "      <th>hyauba</th>\n",
              "      <td>8736</td>\n",
              "      <td>10.33</td>\n",
              "    </tr>\n",
              "  </tbody>\n",
              "</table>\n",
              "</div>\n",
              "      <button class=\"colab-df-convert\" onclick=\"convertToInteractive('df-f41fe572-1c93-4250-bbab-4ff1e2e3cce4')\"\n",
              "              title=\"Convert this dataframe to an interactive table.\"\n",
              "              style=\"display:none;\">\n",
              "        \n",
              "  <svg xmlns=\"http://www.w3.org/2000/svg\" height=\"24px\"viewBox=\"0 0 24 24\"\n",
              "       width=\"24px\">\n",
              "    <path d=\"M0 0h24v24H0V0z\" fill=\"none\"/>\n",
              "    <path d=\"M18.56 5.44l.94 2.06.94-2.06 2.06-.94-2.06-.94-.94-2.06-.94 2.06-2.06.94zm-11 1L8.5 8.5l.94-2.06 2.06-.94-2.06-.94L8.5 2.5l-.94 2.06-2.06.94zm10 10l.94 2.06.94-2.06 2.06-.94-2.06-.94-.94-2.06-.94 2.06-2.06.94z\"/><path d=\"M17.41 7.96l-1.37-1.37c-.4-.4-.92-.59-1.43-.59-.52 0-1.04.2-1.43.59L10.3 9.45l-7.72 7.72c-.78.78-.78 2.05 0 2.83L4 21.41c.39.39.9.59 1.41.59.51 0 1.02-.2 1.41-.59l7.78-7.78 2.81-2.81c.8-.78.8-2.07 0-2.86zM5.41 20L4 18.59l7.72-7.72 1.47 1.35L5.41 20z\"/>\n",
              "  </svg>\n",
              "      </button>\n",
              "      \n",
              "  <style>\n",
              "    .colab-df-container {\n",
              "      display:flex;\n",
              "      flex-wrap:wrap;\n",
              "      gap: 12px;\n",
              "    }\n",
              "\n",
              "    .colab-df-convert {\n",
              "      background-color: #E8F0FE;\n",
              "      border: none;\n",
              "      border-radius: 50%;\n",
              "      cursor: pointer;\n",
              "      display: none;\n",
              "      fill: #1967D2;\n",
              "      height: 32px;\n",
              "      padding: 0 0 0 0;\n",
              "      width: 32px;\n",
              "    }\n",
              "\n",
              "    .colab-df-convert:hover {\n",
              "      background-color: #E2EBFA;\n",
              "      box-shadow: 0px 1px 2px rgba(60, 64, 67, 0.3), 0px 1px 3px 1px rgba(60, 64, 67, 0.15);\n",
              "      fill: #174EA6;\n",
              "    }\n",
              "\n",
              "    [theme=dark] .colab-df-convert {\n",
              "      background-color: #3B4455;\n",
              "      fill: #D2E3FC;\n",
              "    }\n",
              "\n",
              "    [theme=dark] .colab-df-convert:hover {\n",
              "      background-color: #434B5C;\n",
              "      box-shadow: 0px 1px 3px 1px rgba(0, 0, 0, 0.15);\n",
              "      filter: drop-shadow(0px 1px 2px rgba(0, 0, 0, 0.3));\n",
              "      fill: #FFFFFF;\n",
              "    }\n",
              "  </style>\n",
              "\n",
              "      <script>\n",
              "        const buttonEl =\n",
              "          document.querySelector('#df-f41fe572-1c93-4250-bbab-4ff1e2e3cce4 button.colab-df-convert');\n",
              "        buttonEl.style.display =\n",
              "          google.colab.kernel.accessAllowed ? 'block' : 'none';\n",
              "\n",
              "        async function convertToInteractive(key) {\n",
              "          const element = document.querySelector('#df-f41fe572-1c93-4250-bbab-4ff1e2e3cce4');\n",
              "          const dataTable =\n",
              "            await google.colab.kernel.invokeFunction('convertToInteractive',\n",
              "                                                     [key], {});\n",
              "          if (!dataTable) return;\n",
              "\n",
              "          const docLinkHtml = 'Like what you see? Visit the ' +\n",
              "            '<a target=\"_blank\" href=https://colab.research.google.com/notebooks/data_table.ipynb>data table notebook</a>'\n",
              "            + ' to learn more about interactive tables.';\n",
              "          element.innerHTML = '';\n",
              "          dataTable['output_type'] = 'display_data';\n",
              "          await google.colab.output.renderOutput(dataTable, element);\n",
              "          const docLink = document.createElement('div');\n",
              "          docLink.innerHTML = docLinkHtml;\n",
              "          element.appendChild(docLink);\n",
              "        }\n",
              "      </script>\n",
              "    </div>\n",
              "  </div>\n",
              "  "
            ]
          },
          "metadata": {},
          "execution_count": 81
        }
      ]
    },
    {
      "cell_type": "code",
      "source": [
        "#columns with missing values\n",
        "na_cols = franklin_df.columns[franklin_df.isna().any()].tolist()\n",
        "\n",
        "#Missing values summary\n",
        "mv = pd.DataFrame(franklin_df[na_cols].isna().sum() , columns = ['Number_missing'])\n",
        "mv['Percentage_missing'] = np.round(100*mv['Number_missing']/len(franklin_df),2)\n",
        "mv"
      ],
      "metadata": {
        "id": "V9vRI22lctYp",
        "colab": {
          "base_uri": "https://localhost:8080/",
          "height": 238
        },
        "outputId": "21d586e0-a1a2-41f3-f70d-88e6ce1cdfad"
      },
      "execution_count": null,
      "outputs": [
        {
          "output_type": "execute_result",
          "data": {
            "text/plain": [
              "        Number_missing  Percentage_missing\n",
              "nofra1            5179                6.06\n",
              "n2fra1            4639                5.43\n",
              "10fra1            2923                3.42\n",
              "c2fra1            4785                5.60\n",
              "tfra1             1902                2.23\n",
              "hyfra1            1909                2.23"
            ],
            "text/html": [
              "\n",
              "  <div id=\"df-f47778b4-7e24-41a6-baec-ece6b2d402fb\">\n",
              "    <div class=\"colab-df-container\">\n",
              "      <div>\n",
              "<style scoped>\n",
              "    .dataframe tbody tr th:only-of-type {\n",
              "        vertical-align: middle;\n",
              "    }\n",
              "\n",
              "    .dataframe tbody tr th {\n",
              "        vertical-align: top;\n",
              "    }\n",
              "\n",
              "    .dataframe thead th {\n",
              "        text-align: right;\n",
              "    }\n",
              "</style>\n",
              "<table border=\"1\" class=\"dataframe\">\n",
              "  <thead>\n",
              "    <tr style=\"text-align: right;\">\n",
              "      <th></th>\n",
              "      <th>Number_missing</th>\n",
              "      <th>Percentage_missing</th>\n",
              "    </tr>\n",
              "  </thead>\n",
              "  <tbody>\n",
              "    <tr>\n",
              "      <th>nofra1</th>\n",
              "      <td>5179</td>\n",
              "      <td>6.06</td>\n",
              "    </tr>\n",
              "    <tr>\n",
              "      <th>n2fra1</th>\n",
              "      <td>4639</td>\n",
              "      <td>5.43</td>\n",
              "    </tr>\n",
              "    <tr>\n",
              "      <th>10fra1</th>\n",
              "      <td>2923</td>\n",
              "      <td>3.42</td>\n",
              "    </tr>\n",
              "    <tr>\n",
              "      <th>c2fra1</th>\n",
              "      <td>4785</td>\n",
              "      <td>5.60</td>\n",
              "    </tr>\n",
              "    <tr>\n",
              "      <th>tfra1</th>\n",
              "      <td>1902</td>\n",
              "      <td>2.23</td>\n",
              "    </tr>\n",
              "    <tr>\n",
              "      <th>hyfra1</th>\n",
              "      <td>1909</td>\n",
              "      <td>2.23</td>\n",
              "    </tr>\n",
              "  </tbody>\n",
              "</table>\n",
              "</div>\n",
              "      <button class=\"colab-df-convert\" onclick=\"convertToInteractive('df-f47778b4-7e24-41a6-baec-ece6b2d402fb')\"\n",
              "              title=\"Convert this dataframe to an interactive table.\"\n",
              "              style=\"display:none;\">\n",
              "        \n",
              "  <svg xmlns=\"http://www.w3.org/2000/svg\" height=\"24px\"viewBox=\"0 0 24 24\"\n",
              "       width=\"24px\">\n",
              "    <path d=\"M0 0h24v24H0V0z\" fill=\"none\"/>\n",
              "    <path d=\"M18.56 5.44l.94 2.06.94-2.06 2.06-.94-2.06-.94-.94-2.06-.94 2.06-2.06.94zm-11 1L8.5 8.5l.94-2.06 2.06-.94-2.06-.94L8.5 2.5l-.94 2.06-2.06.94zm10 10l.94 2.06.94-2.06 2.06-.94-2.06-.94-.94-2.06-.94 2.06-2.06.94z\"/><path d=\"M17.41 7.96l-1.37-1.37c-.4-.4-.92-.59-1.43-.59-.52 0-1.04.2-1.43.59L10.3 9.45l-7.72 7.72c-.78.78-.78 2.05 0 2.83L4 21.41c.39.39.9.59 1.41.59.51 0 1.02-.2 1.41-.59l7.78-7.78 2.81-2.81c.8-.78.8-2.07 0-2.86zM5.41 20L4 18.59l7.72-7.72 1.47 1.35L5.41 20z\"/>\n",
              "  </svg>\n",
              "      </button>\n",
              "      \n",
              "  <style>\n",
              "    .colab-df-container {\n",
              "      display:flex;\n",
              "      flex-wrap:wrap;\n",
              "      gap: 12px;\n",
              "    }\n",
              "\n",
              "    .colab-df-convert {\n",
              "      background-color: #E8F0FE;\n",
              "      border: none;\n",
              "      border-radius: 50%;\n",
              "      cursor: pointer;\n",
              "      display: none;\n",
              "      fill: #1967D2;\n",
              "      height: 32px;\n",
              "      padding: 0 0 0 0;\n",
              "      width: 32px;\n",
              "    }\n",
              "\n",
              "    .colab-df-convert:hover {\n",
              "      background-color: #E2EBFA;\n",
              "      box-shadow: 0px 1px 2px rgba(60, 64, 67, 0.3), 0px 1px 3px 1px rgba(60, 64, 67, 0.15);\n",
              "      fill: #174EA6;\n",
              "    }\n",
              "\n",
              "    [theme=dark] .colab-df-convert {\n",
              "      background-color: #3B4455;\n",
              "      fill: #D2E3FC;\n",
              "    }\n",
              "\n",
              "    [theme=dark] .colab-df-convert:hover {\n",
              "      background-color: #434B5C;\n",
              "      box-shadow: 0px 1px 3px 1px rgba(0, 0, 0, 0.15);\n",
              "      filter: drop-shadow(0px 1px 2px rgba(0, 0, 0, 0.3));\n",
              "      fill: #FFFFFF;\n",
              "    }\n",
              "  </style>\n",
              "\n",
              "      <script>\n",
              "        const buttonEl =\n",
              "          document.querySelector('#df-f47778b4-7e24-41a6-baec-ece6b2d402fb button.colab-df-convert');\n",
              "        buttonEl.style.display =\n",
              "          google.colab.kernel.accessAllowed ? 'block' : 'none';\n",
              "\n",
              "        async function convertToInteractive(key) {\n",
              "          const element = document.querySelector('#df-f47778b4-7e24-41a6-baec-ece6b2d402fb');\n",
              "          const dataTable =\n",
              "            await google.colab.kernel.invokeFunction('convertToInteractive',\n",
              "                                                     [key], {});\n",
              "          if (!dataTable) return;\n",
              "\n",
              "          const docLinkHtml = 'Like what you see? Visit the ' +\n",
              "            '<a target=\"_blank\" href=https://colab.research.google.com/notebooks/data_table.ipynb>data table notebook</a>'\n",
              "            + ' to learn more about interactive tables.';\n",
              "          element.innerHTML = '';\n",
              "          dataTable['output_type'] = 'display_data';\n",
              "          await google.colab.output.renderOutput(dataTable, element);\n",
              "          const docLink = document.createElement('div');\n",
              "          docLink.innerHTML = docLinkHtml;\n",
              "          element.appendChild(docLink);\n",
              "        }\n",
              "      </script>\n",
              "    </div>\n",
              "  </div>\n",
              "  "
            ]
          },
          "metadata": {},
          "execution_count": 82
        }
      ]
    },
    {
      "cell_type": "code",
      "source": [
        "sns.heatmap(chatelet_df.isnull(), yticklabels=False, cbar=False, cmap='viridis').set(title=\"Missing Values Chatelet\")"
      ],
      "metadata": {
        "id": "8XPl5gPQfKIO",
        "colab": {
          "base_uri": "https://localhost:8080/",
          "height": 298
        },
        "outputId": "2b448a3c-1360-406c-c6ab-7d13a61d539e"
      },
      "execution_count": null,
      "outputs": [
        {
          "output_type": "execute_result",
          "data": {
            "text/plain": [
              "[Text(0.5, 1.0, 'Missing Values Chatelet')]"
            ]
          },
          "metadata": {},
          "execution_count": 83
        },
        {
          "output_type": "display_data",
          "data": {
            "text/plain": [
              "<Figure size 432x288 with 1 Axes>"
            ],
            "image/png": "[encoded data removed]"
          },
          "metadata": {
            "needs_background": "light"
          }
        }
      ]
    },
    {
      "cell_type": "code",
      "source": [
        "sns.heatmap(auber_df.isnull(), yticklabels=False, cbar=False, cmap='viridis').set(title=\"Missing Values Auber\")"
      ],
      "metadata": {
        "id": "QasePQOmfd8Z",
        "colab": {
          "base_uri": "https://localhost:8080/",
          "height": 340
        },
        "outputId": "28a2ebc4-c248-4bc3-ee67-dbffcf5ec5c6"
      },
      "execution_count": null,
      "outputs": [
        {
          "output_type": "execute_result",
          "data": {
            "text/plain": [
              "[Text(0.5, 1.0, 'Missing Values Auber')]"
            ]
          },
          "metadata": {},
          "execution_count": 84
        },
        {
          "output_type": "display_data",
          "data": {
            "text/plain": [
              "<Figure size 432x288 with 1 Axes>"
            ],
            "image/png": "[encoded data removed]"
          },
          "metadata": {
            "needs_background": "light"
          }
        }
      ]
    },
    {
      "cell_type": "code",
      "source": [
        "sns.heatmap(franklin_df.isnull(), yticklabels=False, cbar=False, cmap='viridis').set(title=\"Missing Values Franklin\")"
      ],
      "metadata": {
        "id": "KlNZtHjyfeJ8",
        "colab": {
          "base_uri": "https://localhost:8080/",
          "height": 298
        },
        "outputId": "cf8f3019-e604-40d4-d2b4-4bbcbd685609"
      },
      "execution_count": null,
      "outputs": [
        {
          "output_type": "execute_result",
          "data": {
            "text/plain": [
              "[Text(0.5, 1.0, 'Missing Values Franklin')]"
            ]
          },
          "metadata": {},
          "execution_count": 85
        },
        {
          "output_type": "display_data",
          "data": {
            "text/plain": [
              "<Figure size 432x288 with 1 Axes>"
            ],
            "image/png": "[encoded data removed]"
          },
          "metadata": {
            "needs_background": "light"
          }
        }
      ]
    },
    {
      "cell_type": "code",
      "source": [
        "chatelet_df = chatelet_df.replace(',', '.', regex= True)\n",
        "auber_df = auber_df.replace(',', '.', regex= True)\n",
        "franklin_df = franklin_df.replace(',', '.', regex= True)"
      ],
      "metadata": {
        "id": "_jH2SoeOZVx8"
      },
      "execution_count": null,
      "outputs": []
    },
    {
      "cell_type": "code",
      "source": [
        "chatelet_df = chatelet_df.replace('ND', np.nan, regex= True)\n",
        "auber_df = auber_df.replace('ND', np.nan, regex= True)\n",
        "franklin_df = franklin_df.replace('ND', np.nan, regex= True)"
      ],
      "metadata": {
        "id": "gaU1kpTJeB9a"
      },
      "execution_count": null,
      "outputs": []
    },
    {
      "cell_type": "code",
      "source": [
        "chatelet_df = chatelet_df.rename(columns = {'dateheure':'Date_Heure','nocha4':'NO','n2cha4':'NO2','10cha4':'PM10','c2cha4':'CO2','tcha4':'TEMP','hycha4':'HUMI'})\n",
        "auber_df = auber_df.rename(columns = {'dateheure':'Date_Heure','noauba':'NO','n2auba':'NO2','10auba':'PM10','25auba':'PM25','c2auba':'CO2','tauba':'TEMP','hyauba':'HUMI'})\n",
        "franklin_df = franklin_df.rename(columns = {'dateheure':'Date_Heure','nofra1':'NO','n2fra1':'NO2','10fra1':'PM10','c2fra1':'CO2','tfra1':'TEMP','hyfra1':'HUMI'})"
      ],
      "metadata": {
        "id": "qeUwC1Odcqzf"
      },
      "execution_count": null,
      "outputs": []
    },
    {
      "cell_type": "code",
      "source": [
        "auber_df"
      ],
      "metadata": {
        "id": "BSSgulqAcq23",
        "colab": {
          "base_uri": "https://localhost:8080/",
          "height": 424
        },
        "outputId": "28551065-5ef6-4bff-f232-fb7f2ea42b0d"
      },
      "execution_count": null,
      "outputs": [
        {
          "output_type": "execute_result",
          "data": {
            "text/plain": [
              "                      Date_Heure    NO   NO2  PM10  PM25   CO2  TEMP  HUMI\n",
              "0                           None  None  None  None  None  None  None  None\n",
              "1                           None  None  None  None  None  None  None  None\n",
              "2                           None  None  None  None  None  None  None  None\n",
              "3                           None  None  None  None  None  None  None  None\n",
              "4                           None  None  None  None  None  None  None  None\n",
              "...                          ...   ...   ...   ...   ...   ...   ...   ...\n",
              "84539  2022-10-09T04:00:00+00:00    29    48    16     9   461  20.4  38.7\n",
              "84540  2022-10-09T12:00:00+00:00    21    37    86    30   525  20.8  39.6\n",
              "84541  2022-10-09T13:00:00+00:00     7    39   104    36   543  21.2  40.5\n",
              "84542  2022-10-09T19:00:00+00:00    <2    45   131    44   603  22.6  40.8\n",
              "84543  2022-10-10T00:00:00+00:00    28    56   103    35   509  21.7  43.7\n",
              "\n",
              "[84544 rows x 8 columns]"
            ],
            "text/html": [
              "\n",
              "  <div id=\"df-e79d1d1b-9c8f-4db2-a5a3-b3971ecc262e\">\n",
              "    <div class=\"colab-df-container\">\n",
              "      <div>\n",
              "<style scoped>\n",
              "    .dataframe tbody tr th:only-of-type {\n",
              "        vertical-align: middle;\n",
              "    }\n",
              "\n",
              "    .dataframe tbody tr th {\n",
              "        vertical-align: top;\n",
              "    }\n",
              "\n",
              "    .dataframe thead th {\n",
              "        text-align: right;\n",
              "    }\n",
              "</style>\n",
              "<table border=\"1\" class=\"dataframe\">\n",
              "  <thead>\n",
              "    <tr style=\"text-align: right;\">\n",
              "      <th></th>\n",
              "      <th>Date_Heure</th>\n",
              "      <th>NO</th>\n",
              "      <th>NO2</th>\n",
              "      <th>PM10</th>\n",
              "      <th>PM25</th>\n",
              "      <th>CO2</th>\n",
              "      <th>TEMP</th>\n",
              "      <th>HUMI</th>\n",
              "    </tr>\n",
              "  </thead>\n",
              "  <tbody>\n",
              "    <tr>\n",
              "      <th>0</th>\n",
              "      <td>None</td>\n",
              "      <td>None</td>\n",
              "      <td>None</td>\n",
              "      <td>None</td>\n",
              "      <td>None</td>\n",
              "      <td>None</td>\n",
              "      <td>None</td>\n",
              "      <td>None</td>\n",
              "    </tr>\n",
              "    <tr>\n",
              "      <th>1</th>\n",
              "      <td>None</td>\n",
              "      <td>None</td>\n",
              "      <td>None</td>\n",
              "      <td>None</td>\n",
              "      <td>None</td>\n",
              "      <td>None</td>\n",
              "      <td>None</td>\n",
              "      <td>None</td>\n",
              "    </tr>\n",
              "    <tr>\n",
              "      <th>2</th>\n",
              "      <td>None</td>\n",
              "      <td>None</td>\n",
              "      <td>None</td>\n",
              "      <td>None</td>\n",
              "      <td>None</td>\n",
              "      <td>None</td>\n",
              "      <td>None</td>\n",
              "      <td>None</td>\n",
              "    </tr>\n",
              "    <tr>\n",
              "      <th>3</th>\n",
              "      <td>None</td>\n",
              "      <td>None</td>\n",
              "      <td>None</td>\n",
              "      <td>None</td>\n",
              "      <td>None</td>\n",
              "      <td>None</td>\n",
              "      <td>None</td>\n",
              "      <td>None</td>\n",
              "    </tr>\n",
              "    <tr>\n",
              "      <th>4</th>\n",
              "      <td>None</td>\n",
              "      <td>None</td>\n",
              "      <td>None</td>\n",
              "      <td>None</td>\n",
              "      <td>None</td>\n",
              "      <td>None</td>\n",
              "      <td>None</td>\n",
              "      <td>None</td>\n",
              "    </tr>\n",
              "    <tr>\n",
              "      <th>...</th>\n",
              "      <td>...</td>\n",
              "      <td>...</td>\n",
              "      <td>...</td>\n",
              "      <td>...</td>\n",
              "      <td>...</td>\n",
              "      <td>...</td>\n",
              "      <td>...</td>\n",
              "      <td>...</td>\n",
              "    </tr>\n",
              "    <tr>\n",
              "      <th>84539</th>\n",
              "      <td>2022-10-09T04:00:00+00:00</td>\n",
              "      <td>29</td>\n",
              "      <td>48</td>\n",
              "      <td>16</td>\n",
              "      <td>9</td>\n",
              "      <td>461</td>\n",
              "      <td>20.4</td>\n",
              "      <td>38.7</td>\n",
              "    </tr>\n",
              "    <tr>\n",
              "      <th>84540</th>\n",
              "      <td>2022-10-09T12:00:00+00:00</td>\n",
              "      <td>21</td>\n",
              "      <td>37</td>\n",
              "      <td>86</td>\n",
              "      <td>30</td>\n",
              "      <td>525</td>\n",
              "      <td>20.8</td>\n",
              "      <td>39.6</td>\n",
              "    </tr>\n",
              "    <tr>\n",
              "      <th>84541</th>\n",
              "      <td>2022-10-09T13:00:00+00:00</td>\n",
              "      <td>7</td>\n",
              "      <td>39</td>\n",
              "      <td>104</td>\n",
              "      <td>36</td>\n",
              "      <td>543</td>\n",
              "      <td>21.2</td>\n",
              "      <td>40.5</td>\n",
              "    </tr>\n",
              "    <tr>\n",
              "      <th>84542</th>\n",
              "      <td>2022-10-09T19:00:00+00:00</td>\n",
              "      <td>&lt;2</td>\n",
              "      <td>45</td>\n",
              "      <td>131</td>\n",
              "      <td>44</td>\n",
              "      <td>603</td>\n",
              "      <td>22.6</td>\n",
              "      <td>40.8</td>\n",
              "    </tr>\n",
              "    <tr>\n",
              "      <th>84543</th>\n",
              "      <td>2022-10-10T00:00:00+00:00</td>\n",
              "      <td>28</td>\n",
              "      <td>56</td>\n",
              "      <td>103</td>\n",
              "      <td>35</td>\n",
              "      <td>509</td>\n",
              "      <td>21.7</td>\n",
              "      <td>43.7</td>\n",
              "    </tr>\n",
              "  </tbody>\n",
              "</table>\n",
              "<p>84544 rows × 8 columns</p>\n",
              "</div>\n",
              "      <button class=\"colab-df-convert\" onclick=\"convertToInteractive('df-e79d1d1b-9c8f-4db2-a5a3-b3971ecc262e')\"\n",
              "              title=\"Convert this dataframe to an interactive table.\"\n",
              "              style=\"display:none;\">\n",
              "        \n",
              "  <svg xmlns=\"http://www.w3.org/2000/svg\" height=\"24px\"viewBox=\"0 0 24 24\"\n",
              "       width=\"24px\">\n",
              "    <path d=\"M0 0h24v24H0V0z\" fill=\"none\"/>\n",
              "    <path d=\"M18.56 5.44l.94 2.06.94-2.06 2.06-.94-2.06-.94-.94-2.06-.94 2.06-2.06.94zm-11 1L8.5 8.5l.94-2.06 2.06-.94-2.06-.94L8.5 2.5l-.94 2.06-2.06.94zm10 10l.94 2.06.94-2.06 2.06-.94-2.06-.94-.94-2.06-.94 2.06-2.06.94z\"/><path d=\"M17.41 7.96l-1.37-1.37c-.4-.4-.92-.59-1.43-.59-.52 0-1.04.2-1.43.59L10.3 9.45l-7.72 7.72c-.78.78-.78 2.05 0 2.83L4 21.41c.39.39.9.59 1.41.59.51 0 1.02-.2 1.41-.59l7.78-7.78 2.81-2.81c.8-.78.8-2.07 0-2.86zM5.41 20L4 18.59l7.72-7.72 1.47 1.35L5.41 20z\"/>\n",
              "  </svg>\n",
              "      </button>\n",
              "      \n",
              "  <style>\n",
              "    .colab-df-container {\n",
              "      display:flex;\n",
              "      flex-wrap:wrap;\n",
              "      gap: 12px;\n",
              "    }\n",
              "\n",
              "    .colab-df-convert {\n",
              "      background-color: #E8F0FE;\n",
              "      border: none;\n",
              "      border-radius: 50%;\n",
              "      cursor: pointer;\n",
              "      display: none;\n",
              "      fill: #1967D2;\n",
              "      height: 32px;\n",
              "      padding: 0 0 0 0;\n",
              "      width: 32px;\n",
              "    }\n",
              "\n",
              "    .colab-df-convert:hover {\n",
              "      background-color: #E2EBFA;\n",
              "      box-shadow: 0px 1px 2px rgba(60, 64, 67, 0.3), 0px 1px 3px 1px rgba(60, 64, 67, 0.15);\n",
              "      fill: #174EA6;\n",
              "    }\n",
              "\n",
              "    [theme=dark] .colab-df-convert {\n",
              "      background-color: #3B4455;\n",
              "      fill: #D2E3FC;\n",
              "    }\n",
              "\n",
              "    [theme=dark] .colab-df-convert:hover {\n",
              "      background-color: #434B5C;\n",
              "      box-shadow: 0px 1px 3px 1px rgba(0, 0, 0, 0.15);\n",
              "      filter: drop-shadow(0px 1px 2px rgba(0, 0, 0, 0.3));\n",
              "      fill: #FFFFFF;\n",
              "    }\n",
              "  </style>\n",
              "\n",
              "      <script>\n",
              "        const buttonEl =\n",
              "          document.querySelector('#df-e79d1d1b-9c8f-4db2-a5a3-b3971ecc262e button.colab-df-convert');\n",
              "        buttonEl.style.display =\n",
              "          google.colab.kernel.accessAllowed ? 'block' : 'none';\n",
              "\n",
              "        async function convertToInteractive(key) {\n",
              "          const element = document.querySelector('#df-e79d1d1b-9c8f-4db2-a5a3-b3971ecc262e');\n",
              "          const dataTable =\n",
              "            await google.colab.kernel.invokeFunction('convertToInteractive',\n",
              "                                                     [key], {});\n",
              "          if (!dataTable) return;\n",
              "\n",
              "          const docLinkHtml = 'Like what you see? Visit the ' +\n",
              "            '<a target=\"_blank\" href=https://colab.research.google.com/notebooks/data_table.ipynb>data table notebook</a>'\n",
              "            + ' to learn more about interactive tables.';\n",
              "          element.innerHTML = '';\n",
              "          dataTable['output_type'] = 'display_data';\n",
              "          await google.colab.output.renderOutput(dataTable, element);\n",
              "          const docLink = document.createElement('div');\n",
              "          docLink.innerHTML = docLinkHtml;\n",
              "          element.appendChild(docLink);\n",
              "        }\n",
              "      </script>\n",
              "    </div>\n",
              "  </div>\n",
              "  "
            ]
          },
          "metadata": {},
          "execution_count": 89
        }
      ]
    },
    {
      "cell_type": "code",
      "source": [
        "auber_df.dropna(thresh=6, inplace=True)\n",
        "franklin_df.dropna(thresh=5, inplace=True)\n",
        "chatelet_df.dropna(thresh=5, inplace=True)"
      ],
      "metadata": {
        "id": "fir8mKmxrDSR"
      },
      "execution_count": null,
      "outputs": []
    },
    {
      "cell_type": "code",
      "source": [
        "sns.heatmap(auber_df.isnull(), yticklabels=False, cbar=False, cmap='viridis').set(title=\"Missing Values Auber\")"
      ],
      "metadata": {
        "id": "Hue5WX3Ls_0f",
        "colab": {
          "base_uri": "https://localhost:8080/",
          "height": 299
        },
        "outputId": "3eaebbf3-e4d2-4457-e59a-cd9db3c658db"
      },
      "execution_count": null,
      "outputs": [
        {
          "output_type": "execute_result",
          "data": {
            "text/plain": [
              "[Text(0.5, 1.0, 'Missing Values Auber')]"
            ]
          },
          "metadata": {},
          "execution_count": 91
        },
        {
          "output_type": "display_data",
          "data": {
            "text/plain": [
              "<Figure size 432x288 with 1 Axes>"
            ],
            "image/png": "[encoded data removed]"
          },
          "metadata": {
            "needs_background": "light"
          }
        }
      ]
    },
    {
      "cell_type": "code",
      "source": [
        "sns.heatmap(chatelet_df.isnull(), yticklabels=False, cbar=False, cmap='viridis').set(title=\"Missing Values Chatelet\")"
      ],
      "metadata": {
        "id": "O5LJQjAgwzcG",
        "colab": {
          "base_uri": "https://localhost:8080/",
          "height": 299
        },
        "outputId": "6bedffce-8fc1-44f5-94b1-7ae94da30301"
      },
      "execution_count": null,
      "outputs": [
        {
          "output_type": "execute_result",
          "data": {
            "text/plain": [
              "[Text(0.5, 1.0, 'Missing Values Chatelet')]"
            ]
          },
          "metadata": {},
          "execution_count": 92
        },
        {
          "output_type": "display_data",
          "data": {
            "text/plain": [
              "<Figure size 432x288 with 1 Axes>"
            ],
            "image/png": "[encoded data removed]"
          },
          "metadata": {
            "needs_background": "light"
          }
        }
      ]
    },
    {
      "cell_type": "code",
      "source": [
        "sns.heatmap(franklin_df.isnull(), yticklabels=False, cbar=False, cmap='viridis').set(title=\"Missing Values Franklin\")"
      ],
      "metadata": {
        "id": "qANFa7dMw4TM",
        "colab": {
          "base_uri": "https://localhost:8080/",
          "height": 299
        },
        "outputId": "5509189d-92f0-463f-a0b9-cd538ac5c1ec"
      },
      "execution_count": null,
      "outputs": [
        {
          "output_type": "execute_result",
          "data": {
            "text/plain": [
              "[Text(0.5, 1.0, 'Missing Values Franklin')]"
            ]
          },
          "metadata": {},
          "execution_count": 93
        },
        {
          "output_type": "display_data",
          "data": {
            "text/plain": [
              "<Figure size 432x288 with 1 Axes>"
            ],
            "image/png": "[encoded data removed]"
          },
          "metadata": {
            "needs_background": "light"
          }
        }
      ]
    },
    {
      "cell_type": "code",
      "source": [
        "auber_df['Date_Heure'] = pd.to_datetime(auber_df['Date_Heure'], errors='coerce')\n",
        "chatelet_df['Date_Heure'] = pd.to_datetime(chatelet_df['Date_Heure'], errors='coerce')\n",
        "franklin_df['Date_Heure'] = pd.to_datetime(franklin_df['Date_Heure'], errors='coerce')\n",
        "auber_df['Date_Heure'] = auber_df['Date_Heure'].dt.strftime('%Y-%m-%d %H:%M:%S')\n",
        "chatelet_df['Date_Heure'] = chatelet_df['Date_Heure'].dt.strftime('%Y-%m-%d %H:%M:%S')\n",
        "franklin_df['Date_Heure'] = franklin_df['Date_Heure'].dt.strftime('%Y-%m-%d %H:%M:%S')"
      ],
      "metadata": {
        "id": "2ZteXq-5uy2T"
      },
      "execution_count": null,
      "outputs": []
    },
    {
      "cell_type": "code",
      "source": [
        "auber_df"
      ],
      "metadata": {
        "id": "JSewgmnjtDLm",
        "colab": {
          "base_uri": "https://localhost:8080/",
          "height": 424
        },
        "outputId": "362f2460-d377-4745-80a1-512072ea4f93"
      },
      "execution_count": null,
      "outputs": [
        {
          "output_type": "execute_result",
          "data": {
            "text/plain": [
              "                Date_Heure  NO NO2 PM10 PM25  CO2  TEMP  HUMI\n",
              "8736   2016-01-01 01:00:00  17  48   88   46  493  19.6  42.6\n",
              "8737   2016-01-01 13:00:00  16  44   69   28  461  18.6  44.7\n",
              "8738   2016-01-01 15:00:00  20  45   80   48  483  18.9  45.3\n",
              "8739   2016-01-02 00:00:00  11  36   68   26  442  18.6  43.9\n",
              "8740   2016-01-02 11:00:00  12  44   82   32  493  18.8  47.2\n",
              "...                    ...  ..  ..  ...  ...  ...   ...   ...\n",
              "84539  2022-10-09 04:00:00  29  48   16    9  461  20.4  38.7\n",
              "84540  2022-10-09 12:00:00  21  37   86   30  525  20.8  39.6\n",
              "84541  2022-10-09 13:00:00   7  39  104   36  543  21.2  40.5\n",
              "84542  2022-10-09 19:00:00  <2  45  131   44  603  22.6  40.8\n",
              "84543  2022-10-10 00:00:00  28  56  103   35  509  21.7  43.7\n",
              "\n",
              "[49219 rows x 8 columns]"
            ],
            "text/html": [
              "\n",
              "  <div id=\"df-c0b7af74-f4d0-429c-a9d8-54c1f35d1662\">\n",
              "    <div class=\"colab-df-container\">\n",
              "      <div>\n",
              "<style scoped>\n",
              "    .dataframe tbody tr th:only-of-type {\n",
              "        vertical-align: middle;\n",
              "    }\n",
              "\n",
              "    .dataframe tbody tr th {\n",
              "        vertical-align: top;\n",
              "    }\n",
              "\n",
              "    .dataframe thead th {\n",
              "        text-align: right;\n",
              "    }\n",
              "</style>\n",
              "<table border=\"1\" class=\"dataframe\">\n",
              "  <thead>\n",
              "    <tr style=\"text-align: right;\">\n",
              "      <th></th>\n",
              "      <th>Date_Heure</th>\n",
              "      <th>NO</th>\n",
              "      <th>NO2</th>\n",
              "      <th>PM10</th>\n",
              "      <th>PM25</th>\n",
              "      <th>CO2</th>\n",
              "      <th>TEMP</th>\n",
              "      <th>HUMI</th>\n",
              "    </tr>\n",
              "  </thead>\n",
              "  <tbody>\n",
              "    <tr>\n",
              "      <th>8736</th>\n",
              "      <td>2016-01-01 01:00:00</td>\n",
              "      <td>17</td>\n",
              "      <td>48</td>\n",
              "      <td>88</td>\n",
              "      <td>46</td>\n",
              "      <td>493</td>\n",
              "      <td>19.6</td>\n",
              "      <td>42.6</td>\n",
              "    </tr>\n",
              "    <tr>\n",
              "      <th>8737</th>\n",
              "      <td>2016-01-01 13:00:00</td>\n",
              "      <td>16</td>\n",
              "      <td>44</td>\n",
              "      <td>69</td>\n",
              "      <td>28</td>\n",
              "      <td>461</td>\n",
              "      <td>18.6</td>\n",
              "      <td>44.7</td>\n",
              "    </tr>\n",
              "    <tr>\n",
              "      <th>8738</th>\n",
              "      <td>2016-01-01 15:00:00</td>\n",
              "      <td>20</td>\n",
              "      <td>45</td>\n",
              "      <td>80</td>\n",
              "      <td>48</td>\n",
              "      <td>483</td>\n",
              "      <td>18.9</td>\n",
              "      <td>45.3</td>\n",
              "    </tr>\n",
              "    <tr>\n",
              "      <th>8739</th>\n",
              "      <td>2016-01-02 00:00:00</td>\n",
              "      <td>11</td>\n",
              "      <td>36</td>\n",
              "      <td>68</td>\n",
              "      <td>26</td>\n",
              "      <td>442</td>\n",
              "      <td>18.6</td>\n",
              "      <td>43.9</td>\n",
              "    </tr>\n",
              "    <tr>\n",
              "      <th>8740</th>\n",
              "      <td>2016-01-02 11:00:00</td>\n",
              "      <td>12</td>\n",
              "      <td>44</td>\n",
              "      <td>82</td>\n",
              "      <td>32</td>\n",
              "      <td>493</td>\n",
              "      <td>18.8</td>\n",
              "      <td>47.2</td>\n",
              "    </tr>\n",
              "    <tr>\n",
              "      <th>...</th>\n",
              "      <td>...</td>\n",
              "      <td>...</td>\n",
              "      <td>...</td>\n",
              "      <td>...</td>\n",
              "      <td>...</td>\n",
              "      <td>...</td>\n",
              "      <td>...</td>\n",
              "      <td>...</td>\n",
              "    </tr>\n",
              "    <tr>\n",
              "      <th>84539</th>\n",
              "      <td>2022-10-09 04:00:00</td>\n",
              "      <td>29</td>\n",
              "      <td>48</td>\n",
              "      <td>16</td>\n",
              "      <td>9</td>\n",
              "      <td>461</td>\n",
              "      <td>20.4</td>\n",
              "      <td>38.7</td>\n",
              "    </tr>\n",
              "    <tr>\n",
              "      <th>84540</th>\n",
              "      <td>2022-10-09 12:00:00</td>\n",
              "      <td>21</td>\n",
              "      <td>37</td>\n",
              "      <td>86</td>\n",
              "      <td>30</td>\n",
              "      <td>525</td>\n",
              "      <td>20.8</td>\n",
              "      <td>39.6</td>\n",
              "    </tr>\n",
              "    <tr>\n",
              "      <th>84541</th>\n",
              "      <td>2022-10-09 13:00:00</td>\n",
              "      <td>7</td>\n",
              "      <td>39</td>\n",
              "      <td>104</td>\n",
              "      <td>36</td>\n",
              "      <td>543</td>\n",
              "      <td>21.2</td>\n",
              "      <td>40.5</td>\n",
              "    </tr>\n",
              "    <tr>\n",
              "      <th>84542</th>\n",
              "      <td>2022-10-09 19:00:00</td>\n",
              "      <td>&lt;2</td>\n",
              "      <td>45</td>\n",
              "      <td>131</td>\n",
              "      <td>44</td>\n",
              "      <td>603</td>\n",
              "      <td>22.6</td>\n",
              "      <td>40.8</td>\n",
              "    </tr>\n",
              "    <tr>\n",
              "      <th>84543</th>\n",
              "      <td>2022-10-10 00:00:00</td>\n",
              "      <td>28</td>\n",
              "      <td>56</td>\n",
              "      <td>103</td>\n",
              "      <td>35</td>\n",
              "      <td>509</td>\n",
              "      <td>21.7</td>\n",
              "      <td>43.7</td>\n",
              "    </tr>\n",
              "  </tbody>\n",
              "</table>\n",
              "<p>49219 rows × 8 columns</p>\n",
              "</div>\n",
              "      <button class=\"colab-df-convert\" onclick=\"convertToInteractive('df-c0b7af74-f4d0-429c-a9d8-54c1f35d1662')\"\n",
              "              title=\"Convert this dataframe to an interactive table.\"\n",
              "              style=\"display:none;\">\n",
              "        \n",
              "  <svg xmlns=\"http://www.w3.org/2000/svg\" height=\"24px\"viewBox=\"0 0 24 24\"\n",
              "       width=\"24px\">\n",
              "    <path d=\"M0 0h24v24H0V0z\" fill=\"none\"/>\n",
              "    <path d=\"M18.56 5.44l.94 2.06.94-2.06 2.06-.94-2.06-.94-.94-2.06-.94 2.06-2.06.94zm-11 1L8.5 8.5l.94-2.06 2.06-.94-2.06-.94L8.5 2.5l-.94 2.06-2.06.94zm10 10l.94 2.06.94-2.06 2.06-.94-2.06-.94-.94-2.06-.94 2.06-2.06.94z\"/><path d=\"M17.41 7.96l-1.37-1.37c-.4-.4-.92-.59-1.43-.59-.52 0-1.04.2-1.43.59L10.3 9.45l-7.72 7.72c-.78.78-.78 2.05 0 2.83L4 21.41c.39.39.9.59 1.41.59.51 0 1.02-.2 1.41-.59l7.78-7.78 2.81-2.81c.8-.78.8-2.07 0-2.86zM5.41 20L4 18.59l7.72-7.72 1.47 1.35L5.41 20z\"/>\n",
              "  </svg>\n",
              "      </button>\n",
              "      \n",
              "  <style>\n",
              "    .colab-df-container {\n",
              "      display:flex;\n",
              "      flex-wrap:wrap;\n",
              "      gap: 12px;\n",
              "    }\n",
              "\n",
              "    .colab-df-convert {\n",
              "      background-color: #E8F0FE;\n",
              "      border: none;\n",
              "      border-radius: 50%;\n",
              "      cursor: pointer;\n",
              "      display: none;\n",
              "      fill: #1967D2;\n",
              "      height: 32px;\n",
              "      padding: 0 0 0 0;\n",
              "      width: 32px;\n",
              "    }\n",
              "\n",
              "    .colab-df-convert:hover {\n",
              "      background-color: #E2EBFA;\n",
              "      box-shadow: 0px 1px 2px rgba(60, 64, 67, 0.3), 0px 1px 3px 1px rgba(60, 64, 67, 0.15);\n",
              "      fill: #174EA6;\n",
              "    }\n",
              "\n",
              "    [theme=dark] .colab-df-convert {\n",
              "      background-color: #3B4455;\n",
              "      fill: #D2E3FC;\n",
              "    }\n",
              "\n",
              "    [theme=dark] .colab-df-convert:hover {\n",
              "      background-color: #434B5C;\n",
              "      box-shadow: 0px 1px 3px 1px rgba(0, 0, 0, 0.15);\n",
              "      filter: drop-shadow(0px 1px 2px rgba(0, 0, 0, 0.3));\n",
              "      fill: #FFFFFF;\n",
              "    }\n",
              "  </style>\n",
              "\n",
              "      <script>\n",
              "        const buttonEl =\n",
              "          document.querySelector('#df-c0b7af74-f4d0-429c-a9d8-54c1f35d1662 button.colab-df-convert');\n",
              "        buttonEl.style.display =\n",
              "          google.colab.kernel.accessAllowed ? 'block' : 'none';\n",
              "\n",
              "        async function convertToInteractive(key) {\n",
              "          const element = document.querySelector('#df-c0b7af74-f4d0-429c-a9d8-54c1f35d1662');\n",
              "          const dataTable =\n",
              "            await google.colab.kernel.invokeFunction('convertToInteractive',\n",
              "                                                     [key], {});\n",
              "          if (!dataTable) return;\n",
              "\n",
              "          const docLinkHtml = 'Like what you see? Visit the ' +\n",
              "            '<a target=\"_blank\" href=https://colab.research.google.com/notebooks/data_table.ipynb>data table notebook</a>'\n",
              "            + ' to learn more about interactive tables.';\n",
              "          element.innerHTML = '';\n",
              "          dataTable['output_type'] = 'display_data';\n",
              "          await google.colab.output.renderOutput(dataTable, element);\n",
              "          const docLink = document.createElement('div');\n",
              "          docLink.innerHTML = docLinkHtml;\n",
              "          element.appendChild(docLink);\n",
              "        }\n",
              "      </script>\n",
              "    </div>\n",
              "  </div>\n",
              "  "
            ]
          },
          "metadata": {},
          "execution_count": 95
        }
      ]
    },
    {
      "cell_type": "code",
      "source": [
        "chatelet_df = chatelet_df.replace(to_replace=[r'<',r'>'], value='', regex=True)\n",
        "auber_df = auber_df.replace(to_replace=[r'<',r'>'], value='', regex=True)\n",
        "franklin_df = franklin_df.replace(to_replace=[r'<',r'>'], value='', regex=True)"
      ],
      "metadata": {
        "id": "ymkKc8S7wLpE"
      },
      "execution_count": null,
      "outputs": []
    },
    {
      "cell_type": "code",
      "source": [
        "chatelet_df[[\"NO\",\t\"NO2\",\t\"PM10\",\t\"CO2\",\t\"TEMP\",\t\"HUMI\"]] = chatelet_df[[\"NO\",\t\"NO2\",\t\"PM10\",\t\"CO2\",\t\"TEMP\",\t\"HUMI\"]].apply(pd.to_numeric)\n",
        "auber_df[[\"NO\",\t\"NO2\",\t\"PM10\",\"PM25\"\t,\"CO2\",\t\"TEMP\",\t\"HUMI\"]] = auber_df[[\"NO\",\t\"NO2\",\t\"PM10\",\"PM25\"\t,\"CO2\",\t\"TEMP\",\t\"HUMI\"]].apply(pd.to_numeric)\n",
        "franklin_df[[\"NO\",\t\"NO2\",\t\"PM10\",\t\"CO2\",\t\"TEMP\",\t\"HUMI\"]] = franklin_df[[\"NO\",\t\"NO2\",\t\"PM10\",\t\"CO2\",\t\"TEMP\",\t\"HUMI\"]].apply(pd.to_numeric)"
      ],
      "metadata": {
        "id": "P-eCEDVgcA7E"
      },
      "execution_count": null,
      "outputs": []
    },
    {
      "cell_type": "code",
      "source": [
        "chatelet_df.info()"
      ],
      "metadata": {
        "id": "j6qVE4LZzsC_",
        "colab": {
          "base_uri": "https://localhost:8080/"
        },
        "outputId": "6ad7dafc-2ebd-48bf-c5b1-5bdfce2f0041"
      },
      "execution_count": null,
      "outputs": [
        {
          "output_type": "stream",
          "name": "stdout",
          "text": [
            "<class 'pandas.core.frame.DataFrame'>\n",
            "Int64Index: 72359 entries, 0 to 85436\n",
            "Data columns (total 7 columns):\n",
            " #   Column      Non-Null Count  Dtype  \n",
            "---  ------      --------------  -----  \n",
            " 0   Date_Heure  72359 non-null  object \n",
            " 1   NO          57123 non-null  float64\n",
            " 2   NO2         65856 non-null  float64\n",
            " 3   PM10        69487 non-null  float64\n",
            " 4   CO2         69469 non-null  float64\n",
            " 5   TEMP        72178 non-null  float64\n",
            " 6   HUMI        72167 non-null  float64\n",
            "dtypes: float64(6), object(1)\n",
            "memory usage: 4.4+ MB\n"
          ]
        }
      ]
    },
    {
      "cell_type": "code",
      "source": [
        "auber_df['Date_Heure'] = pd.to_datetime(auber_df['Date_Heure'], errors='coerce')\n",
        "chatelet_df['Date_Heure'] = pd.to_datetime(chatelet_df['Date_Heure'], errors='coerce')\n",
        "franklin_df['Date_Heure'] = pd.to_datetime(franklin_df['Date_Heure'], errors='coerce')"
      ],
      "metadata": {
        "id": "S2ok_DIN4ieh"
      },
      "execution_count": null,
      "outputs": []
    },
    {
      "cell_type": "code",
      "source": [
        "chatelet_df.groupby([chatelet_df['Date_Heure'].dt.date,chatelet_df['Date_Heure'].dt.hour]).NO.mean()"
      ],
      "metadata": {
        "id": "5I0aPjb9zNAT",
        "colab": {
          "base_uri": "https://localhost:8080/"
        },
        "outputId": "662c1745-ddd4-4502-c1a8-e698b21a9ace"
      },
      "execution_count": null,
      "outputs": [
        {
          "output_type": "execute_result",
          "data": {
            "text/plain": [
              "Date_Heure  Date_Heure\n",
              "2013-01-01  1             6.0\n",
              "            2             6.0\n",
              "            3             4.0\n",
              "            4             3.0\n",
              "            5             4.0\n",
              "                         ... \n",
              "2022-10-09  20            NaN\n",
              "            21            NaN\n",
              "            22            NaN\n",
              "            23            NaN\n",
              "2022-10-10  0             NaN\n",
              "Name: NO, Length: 72358, dtype: float64"
            ]
          },
          "metadata": {},
          "execution_count": 100
        }
      ]
    },
    {
      "cell_type": "code",
      "source": [
        "# chatelet_df[\"NO\"] = chatelet_df.groupby([chatelet_df['Date_Heure'].dt.hour]).transform(lambda x: x.fillna(x.mean()))\n",
        "chatelet_df['NO'] = chatelet_df['NO'].fillna(chatelet_df.groupby([chatelet_df['Date_Heure'].dt.hour])['NO'].transform('mean'))\n",
        "chatelet_df['NO2'] = chatelet_df['NO2'].fillna(chatelet_df.groupby([chatelet_df['Date_Heure'].dt.hour])['NO2'].transform('mean'))\n",
        "chatelet_df['PM10'] = chatelet_df['PM10'].fillna(chatelet_df.groupby([chatelet_df['Date_Heure'].dt.hour])['PM10'].transform('mean'))\n",
        "chatelet_df['CO2'] = chatelet_df['CO2'].fillna(chatelet_df.groupby([chatelet_df['Date_Heure'].dt.hour])['CO2'].transform('mean'))\n",
        "chatelet_df['TEMP'] = chatelet_df['TEMP'].fillna(chatelet_df.groupby([chatelet_df['Date_Heure'].dt.hour])['TEMP'].transform('mean'))\n",
        "chatelet_df['HUMI'] = chatelet_df['HUMI'].fillna(chatelet_df.groupby([chatelet_df['Date_Heure'].dt.hour])['HUMI'].transform('mean'))"
      ],
      "metadata": {
        "id": "Y4Ykwm4H6sQS"
      },
      "execution_count": null,
      "outputs": []
    },
    {
      "cell_type": "code",
      "source": [
        "sns.heatmap(chatelet_df.isnull(), yticklabels=False, cbar=False, cmap='viridis').set(title=\"Missing Values Chatelet\")"
      ],
      "metadata": {
        "id": "6sfsSj9m8QGQ",
        "colab": {
          "base_uri": "https://localhost:8080/",
          "height": 299
        },
        "outputId": "c01dcbcf-3df1-45e1-a61c-d3054cdab610"
      },
      "execution_count": null,
      "outputs": [
        {
          "output_type": "execute_result",
          "data": {
            "text/plain": [
              "[Text(0.5, 1.0, 'Missing Values Chatelet')]"
            ]
          },
          "metadata": {},
          "execution_count": 102
        },
        {
          "output_type": "display_data",
          "data": {
            "text/plain": [
              "<Figure size 432x288 with 1 Axes>"
            ],
            "image/png": "[encoded data removed]"
          },
          "metadata": {
            "needs_background": "light"
          }
        }
      ]
    },
    {
      "cell_type": "code",
      "source": [
        "auber_df.info()"
      ],
      "metadata": {
        "id": "zjccAfM1-3NN",
        "colab": {
          "base_uri": "https://localhost:8080/"
        },
        "outputId": "bc11828e-b247-4b47-8fad-3a1d53eb5028"
      },
      "execution_count": null,
      "outputs": [
        {
          "output_type": "stream",
          "name": "stdout",
          "text": [
            "<class 'pandas.core.frame.DataFrame'>\n",
            "Int64Index: 49219 entries, 8736 to 84543\n",
            "Data columns (total 8 columns):\n",
            " #   Column      Non-Null Count  Dtype         \n",
            "---  ------      --------------  -----         \n",
            " 0   Date_Heure  49219 non-null  datetime64[ns]\n",
            " 1   NO          46323 non-null  float64       \n",
            " 2   NO2         46622 non-null  float64       \n",
            " 3   PM10        48519 non-null  float64       \n",
            " 4   PM25        47682 non-null  float64       \n",
            " 5   CO2         46352 non-null  float64       \n",
            " 6   TEMP        47474 non-null  float64       \n",
            " 7   HUMI        47475 non-null  float64       \n",
            "dtypes: datetime64[ns](1), float64(7)\n",
            "memory usage: 3.4 MB\n"
          ]
        }
      ]
    },
    {
      "cell_type": "code",
      "source": [
        "# auber_df[\"NO\"] = auber_df.groupby([auber_df['Date_Heure'].dt.hour]).transform(lambda x: x.fillna(x.mean()))\n",
        "auber_df['NO'] = auber_df['NO'].fillna(auber_df.groupby([auber_df['Date_Heure'].dt.hour])['NO'].transform('mean'))\n",
        "auber_df['NO2'] = auber_df['NO2'].fillna(auber_df.groupby([auber_df['Date_Heure'].dt.hour])['NO2'].transform('mean'))\n",
        "auber_df['PM10'] = auber_df['PM10'].fillna(auber_df.groupby([auber_df['Date_Heure'].dt.hour])['PM10'].transform('mean'))\n",
        "auber_df['PM25'] = auber_df['PM25'].fillna(auber_df.groupby([auber_df['Date_Heure'].dt.hour])['PM25'].transform('mean'))\n",
        "auber_df['CO2'] = auber_df['CO2'].fillna(auber_df.groupby([auber_df['Date_Heure'].dt.hour])['CO2'].transform('mean'))\n",
        "auber_df['TEMP'] = auber_df['TEMP'].fillna(auber_df.groupby([auber_df['Date_Heure'].dt.hour])['TEMP'].transform('mean'))\n",
        "auber_df['HUMI'] = auber_df['HUMI'].fillna(auber_df.groupby([auber_df['Date_Heure'].dt.hour])['HUMI'].transform('mean'))"
      ],
      "metadata": {
        "id": "lddCKRoC9szz"
      },
      "execution_count": null,
      "outputs": []
    },
    {
      "cell_type": "code",
      "source": [
        "sns.heatmap(auber_df.isnull(), yticklabels=False, cbar=False, cmap='viridis').set(title=\"Missing Values Auber\")"
      ],
      "metadata": {
        "id": "Tl-9lrjl_Tpe",
        "colab": {
          "base_uri": "https://localhost:8080/",
          "height": 299
        },
        "outputId": "6d136be3-c6dc-4015-f380-f9a8e12993c4"
      },
      "execution_count": null,
      "outputs": [
        {
          "output_type": "execute_result",
          "data": {
            "text/plain": [
              "[Text(0.5, 1.0, 'Missing Values Auber')]"
            ]
          },
          "metadata": {},
          "execution_count": 105
        },
        {
          "output_type": "display_data",
          "data": {
            "text/plain": [
              "<Figure size 432x288 with 1 Axes>"
            ],
            "image/png": "[encoded data removed]"
          },
          "metadata": {
            "needs_background": "light"
          }
        }
      ]
    },
    {
      "cell_type": "code",
      "source": [
        "franklin_df.info()"
      ],
      "metadata": {
        "id": "6TTxr6FA_FNA",
        "colab": {
          "base_uri": "https://localhost:8080/"
        },
        "outputId": "6e22d5ee-2fa8-4a93-a9d9-2d1235f7e4c7"
      },
      "execution_count": null,
      "outputs": [
        {
          "output_type": "stream",
          "name": "stdout",
          "text": [
            "<class 'pandas.core.frame.DataFrame'>\n",
            "Int64Index: 81726 entries, 0 to 85436\n",
            "Data columns (total 7 columns):\n",
            " #   Column      Non-Null Count  Dtype         \n",
            "---  ------      --------------  -----         \n",
            " 0   Date_Heure  81726 non-null  datetime64[ns]\n",
            " 1   NO          75989 non-null  float64       \n",
            " 2   NO2         77392 non-null  float64       \n",
            " 3   PM10        79294 non-null  float64       \n",
            " 4   CO2         77163 non-null  float64       \n",
            " 5   TEMP        81300 non-null  float64       \n",
            " 6   HUMI        81289 non-null  float64       \n",
            "dtypes: datetime64[ns](1), float64(6)\n",
            "memory usage: 5.0 MB\n"
          ]
        }
      ]
    },
    {
      "cell_type": "code",
      "source": [
        "# franklin_df[\"NO\"] = franklin_df.groupby([franklin_df['Date_Heure'].dt.hour]).transform(lambda x: x.fillna(x.mean()))\n",
        "franklin_df['NO'] = franklin_df['NO'].fillna(franklin_df.groupby([franklin_df['Date_Heure'].dt.hour])['NO'].transform('mean'))\n",
        "franklin_df['NO2'] = franklin_df['NO2'].fillna(franklin_df.groupby([franklin_df['Date_Heure'].dt.hour])['NO2'].transform('mean'))\n",
        "franklin_df['PM10'] = franklin_df['PM10'].fillna(franklin_df.groupby([franklin_df['Date_Heure'].dt.hour])['PM10'].transform('mean'))\n",
        "franklin_df['CO2'] = franklin_df['CO2'].fillna(franklin_df.groupby([franklin_df['Date_Heure'].dt.hour])['CO2'].transform('mean'))\n",
        "franklin_df['TEMP'] = franklin_df['TEMP'].fillna(franklin_df.groupby([franklin_df['Date_Heure'].dt.hour])['TEMP'].transform('mean'))\n",
        "franklin_df['HUMI'] = franklin_df['HUMI'].fillna(franklin_df.groupby([franklin_df['Date_Heure'].dt.hour])['HUMI'].transform('mean'))"
      ],
      "metadata": {
        "id": "0eMawX0w_IRb"
      },
      "execution_count": null,
      "outputs": []
    },
    {
      "cell_type": "code",
      "source": [
        "sns.heatmap(franklin_df.isnull(), yticklabels=False, cbar=False, cmap='viridis').set(title=\"Missing Values Franklin\")"
      ],
      "metadata": {
        "id": "yv1igMsH_Qu1",
        "colab": {
          "base_uri": "https://localhost:8080/",
          "height": 299
        },
        "outputId": "03c5d64c-62e2-47e2-9d5e-16d7234066d4"
      },
      "execution_count": null,
      "outputs": [
        {
          "output_type": "execute_result",
          "data": {
            "text/plain": [
              "[Text(0.5, 1.0, 'Missing Values Franklin')]"
            ]
          },
          "metadata": {},
          "execution_count": 108
        },
        {
          "output_type": "display_data",
          "data": {
            "text/plain": [
              "<Figure size 432x288 with 1 Axes>"
            ],
            "image/png": "[encoded data removed]"
          },
          "metadata": {
            "needs_background": "light"
          }
        }
      ]
    },
    {
      "cell_type": "code",
      "source": [
        "franklin_df['hour'] = franklin_df['Date_Heure'].apply(lambda x: x.hour)\n",
        "franklin_df['weekday'] = franklin_df['Date_Heure'].apply(lambda x: x.weekday())\n",
        "franklin_df['month'] = franklin_df['Date_Heure'].apply(lambda x: x.month)\n",
        "franklin_df['year'] = franklin_df['Date_Heure'].apply(lambda x: x.year)\n",
        "auber_df['hour'] = auber_df['Date_Heure'].apply(lambda x: x.hour)\n",
        "auber_df['weekday'] = auber_df['Date_Heure'].apply(lambda x: x.weekday())\n",
        "auber_df['month'] = auber_df['Date_Heure'].apply(lambda x: x.month)\n",
        "auber_df['year'] = auber_df['Date_Heure'].apply(lambda x: x.year)\n",
        "chatelet_df['hour'] = chatelet_df['Date_Heure'].apply(lambda x: x.hour)\n",
        "chatelet_df['weekday'] = chatelet_df['Date_Heure'].apply(lambda x: x.weekday())\n",
        "chatelet_df['month'] = chatelet_df['Date_Heure'].apply(lambda x: x.month)\n",
        "chatelet_df['year'] = chatelet_df['Date_Heure'].apply(lambda x: x.year)\n",
        "chatelet_df"
      ],
      "metadata": {
        "id": "R759XZ_3_are",
        "colab": {
          "base_uri": "https://localhost:8080/",
          "height": 424
        },
        "outputId": "fe5acbe6-6170-4afc-ab32-946399b27418"
      },
      "execution_count": null,
      "outputs": [
        {
          "output_type": "execute_result",
          "data": {
            "text/plain": [
              "               Date_Heure         NO        NO2   PM10    CO2  TEMP  HUMI  \\\n",
              "0     2013-01-01 06:00:00   3.000000  26.000000  146.0  563.0  20.9  46.0   \n",
              "1     2013-01-01 09:00:00   7.000000  31.000000  128.0  517.0  20.9  45.2   \n",
              "2     2013-01-01 14:00:00  16.000000  41.000000  164.0  653.0  21.0  36.6   \n",
              "3     2013-01-01 19:00:00  41.000000  62.000000  180.0  689.0  21.0  38.0   \n",
              "4     2013-01-02 04:00:00   2.000000  28.000000    6.0  461.0  18.7  37.4   \n",
              "...                   ...        ...        ...    ...    ...   ...   ...   \n",
              "85432 2022-10-09 06:00:00  19.347024  28.921234    5.0  437.0  17.2  42.9   \n",
              "85433 2022-10-09 13:00:00  22.614840  35.675082   29.0  564.0  18.0  44.7   \n",
              "85434 2022-10-09 15:00:00  20.103809  34.873580   43.0  578.0  18.5  43.7   \n",
              "85435 2022-10-09 18:00:00  20.257613  35.894376   65.0  637.0  19.5  43.5   \n",
              "85436 2022-10-10 00:00:00  15.947974  32.102984   43.0  508.0  18.2  49.1   \n",
              "\n",
              "       hour  weekday  month  year  \n",
              "0         6        1      1  2013  \n",
              "1         9        1      1  2013  \n",
              "2        14        1      1  2013  \n",
              "3        19        1      1  2013  \n",
              "4         4        2      1  2013  \n",
              "...     ...      ...    ...   ...  \n",
              "85432     6        6     10  2022  \n",
              "85433    13        6     10  2022  \n",
              "85434    15        6     10  2022  \n",
              "85435    18        6     10  2022  \n",
              "85436     0        0     10  2022  \n",
              "\n",
              "[72359 rows x 11 columns]"
            ],
            "text/html": [
              "\n",
              "  <div id=\"df-1c99d393-4e54-46e1-89a0-c5dfb04ea949\">\n",
              "    <div class=\"colab-df-container\">\n",
              "      <div>\n",
              "<style scoped>\n",
              "    .dataframe tbody tr th:only-of-type {\n",
              "        vertical-align: middle;\n",
              "    }\n",
              "\n",
              "    .dataframe tbody tr th {\n",
              "        vertical-align: top;\n",
              "    }\n",
              "\n",
              "    .dataframe thead th {\n",
              "        text-align: right;\n",
              "    }\n",
              "</style>\n",
              "<table border=\"1\" class=\"dataframe\">\n",
              "  <thead>\n",
              "    <tr style=\"text-align: right;\">\n",
              "      <th></th>\n",
              "      <th>Date_Heure</th>\n",
              "      <th>NO</th>\n",
              "      <th>NO2</th>\n",
              "      <th>PM10</th>\n",
              "      <th>CO2</th>\n",
              "      <th>TEMP</th>\n",
              "      <th>HUMI</th>\n",
              "      <th>hour</th>\n",
              "      <th>weekday</th>\n",
              "      <th>month</th>\n",
              "      <th>year</th>\n",
              "    </tr>\n",
              "  </thead>\n",
              "  <tbody>\n",
              "    <tr>\n",
              "      <th>0</th>\n",
              "      <td>2013-01-01 06:00:00</td>\n",
              "      <td>3.000000</td>\n",
              "      <td>26.000000</td>\n",
              "      <td>146.0</td>\n",
              "      <td>563.0</td>\n",
              "      <td>20.9</td>\n",
              "      <td>46.0</td>\n",
              "      <td>6</td>\n",
              "      <td>1</td>\n",
              "      <td>1</td>\n",
              "      <td>2013</td>\n",
              "    </tr>\n",
              "    <tr>\n",
              "      <th>1</th>\n",
              "      <td>2013-01-01 09:00:00</td>\n",
              "      <td>7.000000</td>\n",
              "      <td>31.000000</td>\n",
              "      <td>128.0</td>\n",
              "      <td>517.0</td>\n",
              "      <td>20.9</td>\n",
              "      <td>45.2</td>\n",
              "      <td>9</td>\n",
              "      <td>1</td>\n",
              "      <td>1</td>\n",
              "      <td>2013</td>\n",
              "    </tr>\n",
              "    <tr>\n",
              "      <th>2</th>\n",
              "      <td>2013-01-01 14:00:00</td>\n",
              "      <td>16.000000</td>\n",
              "      <td>41.000000</td>\n",
              "      <td>164.0</td>\n",
              "      <td>653.0</td>\n",
              "      <td>21.0</td>\n",
              "      <td>36.6</td>\n",
              "      <td>14</td>\n",
              "      <td>1</td>\n",
              "      <td>1</td>\n",
              "      <td>2013</td>\n",
              "    </tr>\n",
              "    <tr>\n",
              "      <th>3</th>\n",
              "      <td>2013-01-01 19:00:00</td>\n",
              "      <td>41.000000</td>\n",
              "      <td>62.000000</td>\n",
              "      <td>180.0</td>\n",
              "      <td>689.0</td>\n",
              "      <td>21.0</td>\n",
              "      <td>38.0</td>\n",
              "      <td>19</td>\n",
              "      <td>1</td>\n",
              "      <td>1</td>\n",
              "      <td>2013</td>\n",
              "    </tr>\n",
              "    <tr>\n",
              "      <th>4</th>\n",
              "      <td>2013-01-02 04:00:00</td>\n",
              "      <td>2.000000</td>\n",
              "      <td>28.000000</td>\n",
              "      <td>6.0</td>\n",
              "      <td>461.0</td>\n",
              "      <td>18.7</td>\n",
              "      <td>37.4</td>\n",
              "      <td>4</td>\n",
              "      <td>2</td>\n",
              "      <td>1</td>\n",
              "      <td>2013</td>\n",
              "    </tr>\n",
              "    <tr>\n",
              "      <th>...</th>\n",
              "      <td>...</td>\n",
              "      <td>...</td>\n",
              "      <td>...</td>\n",
              "      <td>...</td>\n",
              "      <td>...</td>\n",
              "      <td>...</td>\n",
              "      <td>...</td>\n",
              "      <td>...</td>\n",
              "      <td>...</td>\n",
              "      <td>...</td>\n",
              "      <td>...</td>\n",
              "    </tr>\n",
              "    <tr>\n",
              "      <th>85432</th>\n",
              "      <td>2022-10-09 06:00:00</td>\n",
              "      <td>19.347024</td>\n",
              "      <td>28.921234</td>\n",
              "      <td>5.0</td>\n",
              "      <td>437.0</td>\n",
              "      <td>17.2</td>\n",
              "      <td>42.9</td>\n",
              "      <td>6</td>\n",
              "      <td>6</td>\n",
              "      <td>10</td>\n",
              "      <td>2022</td>\n",
              "    </tr>\n",
              "    <tr>\n",
              "      <th>85433</th>\n",
              "      <td>2022-10-09 13:00:00</td>\n",
              "      <td>22.614840</td>\n",
              "      <td>35.675082</td>\n",
              "      <td>29.0</td>\n",
              "      <td>564.0</td>\n",
              "      <td>18.0</td>\n",
              "      <td>44.7</td>\n",
              "      <td>13</td>\n",
              "      <td>6</td>\n",
              "      <td>10</td>\n",
              "      <td>2022</td>\n",
              "    </tr>\n",
              "    <tr>\n",
              "      <th>85434</th>\n",
              "      <td>2022-10-09 15:00:00</td>\n",
              "      <td>20.103809</td>\n",
              "      <td>34.873580</td>\n",
              "      <td>43.0</td>\n",
              "      <td>578.0</td>\n",
              "      <td>18.5</td>\n",
              "      <td>43.7</td>\n",
              "      <td>15</td>\n",
              "      <td>6</td>\n",
              "      <td>10</td>\n",
              "      <td>2022</td>\n",
              "    </tr>\n",
              "    <tr>\n",
              "      <th>85435</th>\n",
              "      <td>2022-10-09 18:00:00</td>\n",
              "      <td>20.257613</td>\n",
              "      <td>35.894376</td>\n",
              "      <td>65.0</td>\n",
              "      <td>637.0</td>\n",
              "      <td>19.5</td>\n",
              "      <td>43.5</td>\n",
              "      <td>18</td>\n",
              "      <td>6</td>\n",
              "      <td>10</td>\n",
              "      <td>2022</td>\n",
              "    </tr>\n",
              "    <tr>\n",
              "      <th>85436</th>\n",
              "      <td>2022-10-10 00:00:00</td>\n",
              "      <td>15.947974</td>\n",
              "      <td>32.102984</td>\n",
              "      <td>43.0</td>\n",
              "      <td>508.0</td>\n",
              "      <td>18.2</td>\n",
              "      <td>49.1</td>\n",
              "      <td>0</td>\n",
              "      <td>0</td>\n",
              "      <td>10</td>\n",
              "      <td>2022</td>\n",
              "    </tr>\n",
              "  </tbody>\n",
              "</table>\n",
              "<p>72359 rows × 11 columns</p>\n",
              "</div>\n",
              "      <button class=\"colab-df-convert\" onclick=\"convertToInteractive('df-1c99d393-4e54-46e1-89a0-c5dfb04ea949')\"\n",
              "              title=\"Convert this dataframe to an interactive table.\"\n",
              "              style=\"display:none;\">\n",
              "        \n",
              "  <svg xmlns=\"http://www.w3.org/2000/svg\" height=\"24px\"viewBox=\"0 0 24 24\"\n",
              "       width=\"24px\">\n",
              "    <path d=\"M0 0h24v24H0V0z\" fill=\"none\"/>\n",
              "    <path d=\"M18.56 5.44l.94 2.06.94-2.06 2.06-.94-2.06-.94-.94-2.06-.94 2.06-2.06.94zm-11 1L8.5 8.5l.94-2.06 2.06-.94-2.06-.94L8.5 2.5l-.94 2.06-2.06.94zm10 10l.94 2.06.94-2.06 2.06-.94-2.06-.94-.94-2.06-.94 2.06-2.06.94z\"/><path d=\"M17.41 7.96l-1.37-1.37c-.4-.4-.92-.59-1.43-.59-.52 0-1.04.2-1.43.59L10.3 9.45l-7.72 7.72c-.78.78-.78 2.05 0 2.83L4 21.41c.39.39.9.59 1.41.59.51 0 1.02-.2 1.41-.59l7.78-7.78 2.81-2.81c.8-.78.8-2.07 0-2.86zM5.41 20L4 18.59l7.72-7.72 1.47 1.35L5.41 20z\"/>\n",
              "  </svg>\n",
              "      </button>\n",
              "      \n",
              "  <style>\n",
              "    .colab-df-container {\n",
              "      display:flex;\n",
              "      flex-wrap:wrap;\n",
              "      gap: 12px;\n",
              "    }\n",
              "\n",
              "    .colab-df-convert {\n",
              "      background-color: #E8F0FE;\n",
              "      border: none;\n",
              "      border-radius: 50%;\n",
              "      cursor: pointer;\n",
              "      display: none;\n",
              "      fill: #1967D2;\n",
              "      height: 32px;\n",
              "      padding: 0 0 0 0;\n",
              "      width: 32px;\n",
              "    }\n",
              "\n",
              "    .colab-df-convert:hover {\n",
              "      background-color: #E2EBFA;\n",
              "      box-shadow: 0px 1px 2px rgba(60, 64, 67, 0.3), 0px 1px 3px 1px rgba(60, 64, 67, 0.15);\n",
              "      fill: #174EA6;\n",
              "    }\n",
              "\n",
              "    [theme=dark] .colab-df-convert {\n",
              "      background-color: #3B4455;\n",
              "      fill: #D2E3FC;\n",
              "    }\n",
              "\n",
              "    [theme=dark] .colab-df-convert:hover {\n",
              "      background-color: #434B5C;\n",
              "      box-shadow: 0px 1px 3px 1px rgba(0, 0, 0, 0.15);\n",
              "      filter: drop-shadow(0px 1px 2px rgba(0, 0, 0, 0.3));\n",
              "      fill: #FFFFFF;\n",
              "    }\n",
              "  </style>\n",
              "\n",
              "      <script>\n",
              "        const buttonEl =\n",
              "          document.querySelector('#df-1c99d393-4e54-46e1-89a0-c5dfb04ea949 button.colab-df-convert');\n",
              "        buttonEl.style.display =\n",
              "          google.colab.kernel.accessAllowed ? 'block' : 'none';\n",
              "\n",
              "        async function convertToInteractive(key) {\n",
              "          const element = document.querySelector('#df-1c99d393-4e54-46e1-89a0-c5dfb04ea949');\n",
              "          const dataTable =\n",
              "            await google.colab.kernel.invokeFunction('convertToInteractive',\n",
              "                                                     [key], {});\n",
              "          if (!dataTable) return;\n",
              "\n",
              "          const docLinkHtml = 'Like what you see? Visit the ' +\n",
              "            '<a target=\"_blank\" href=https://colab.research.google.com/notebooks/data_table.ipynb>data table notebook</a>'\n",
              "            + ' to learn more about interactive tables.';\n",
              "          element.innerHTML = '';\n",
              "          dataTable['output_type'] = 'display_data';\n",
              "          await google.colab.output.renderOutput(dataTable, element);\n",
              "          const docLink = document.createElement('div');\n",
              "          docLink.innerHTML = docLinkHtml;\n",
              "          element.appendChild(docLink);\n",
              "        }\n",
              "      </script>\n",
              "    </div>\n",
              "  </div>\n",
              "  "
            ]
          },
          "metadata": {},
          "execution_count": 109
        }
      ]
    },
    {
      "cell_type": "code",
      "source": [
        "sns.boxplot(data=franklin_df,x='hour',y='CO2').set_title('CO2 per hour at Franklin')\n",
        "plt.ylim(0, 2500)"
      ],
      "metadata": {
        "colab": {
          "base_uri": "https://localhost:8080/",
          "height": 312
        },
        "id": "CKwYIRnsYTW4",
        "outputId": "8e169132-fc14-47c5-f822-b9c6e6faf15b"
      },
      "execution_count": null,
      "outputs": [
        {
          "output_type": "execute_result",
          "data": {
            "text/plain": [
              "(0.0, 2500.0)"
            ]
          },
          "metadata": {},
          "execution_count": 110
        },
        {
          "output_type": "display_data",
          "data": {
            "text/plain": [
              "<Figure size 432x288 with 1 Axes>"
            ],
            "image/png": "[encoded data removed]"
          },
          "metadata": {
            "needs_background": "light"
          }
        }
      ]
    },
    {
      "cell_type": "code",
      "source": [
        "sns.boxplot(data=auber_df,x='hour',y='CO2').set_title('CO2 per hour at Auber')\n",
        "plt.ylim(0, 2500)"
      ],
      "metadata": {
        "colab": {
          "base_uri": "https://localhost:8080/",
          "height": 312
        },
        "id": "CjanJONeYTx9",
        "outputId": "d6106b1c-f627-40b4-f2de-ec78a1a70ff1"
      },
      "execution_count": null,
      "outputs": [
        {
          "output_type": "execute_result",
          "data": {
            "text/plain": [
              "(0.0, 2500.0)"
            ]
          },
          "metadata": {},
          "execution_count": 111
        },
        {
          "output_type": "display_data",
          "data": {
            "text/plain": [
              "<Figure size 432x288 with 1 Axes>"
            ],
            "image/png": "[encoded data removed]"
          },
          "metadata": {
            "needs_background": "light"
          }
        }
      ]
    },
    {
      "cell_type": "code",
      "source": [
        "sns.boxplot(data=chatelet_df,x='hour',y='CO2').set_title('CO2 per hour at Chatelet')\n",
        "plt.ylim(0, 2500)"
      ],
      "metadata": {
        "colab": {
          "base_uri": "https://localhost:8080/",
          "height": 312
        },
        "id": "QPuoI6MOYUF3",
        "outputId": "ab6fd522-608e-45be-db31-ae4e973265ba"
      },
      "execution_count": null,
      "outputs": [
        {
          "output_type": "execute_result",
          "data": {
            "text/plain": [
              "(0.0, 2500.0)"
            ]
          },
          "metadata": {},
          "execution_count": 112
        },
        {
          "output_type": "display_data",
          "data": {
            "text/plain": [
              "<Figure size 432x288 with 1 Axes>"
            ],
            "image/png": "[encoded data removed]"
          },
          "metadata": {
            "needs_background": "light"
          }
        }
      ]
    },
    {
      "cell_type": "code",
      "source": [
        "sns.boxplot(data=franklin_df,x='weekday',y='CO2').set_title('CO2 per Weekday at Franklin')\n",
        "plt.ylim(0, 2500)"
      ],
      "metadata": {
        "id": "zqo1bzZvUQR5",
        "colab": {
          "base_uri": "https://localhost:8080/",
          "height": 312
        },
        "outputId": "e05d765d-d035-40b3-db67-032616b223dd"
      },
      "execution_count": null,
      "outputs": [
        {
          "output_type": "execute_result",
          "data": {
            "text/plain": [
              "(0.0, 2500.0)"
            ]
          },
          "metadata": {},
          "execution_count": 113
        },
        {
          "output_type": "display_data",
          "data": {
            "text/plain": [
              "<Figure size 432x288 with 1 Axes>"
            ],
            "image/png": "[encoded data removed]"
          },
          "metadata": {
            "needs_background": "light"
          }
        }
      ]
    },
    {
      "cell_type": "code",
      "source": [
        "sns.boxplot(data=auber_df,x='weekday',y='CO2').set_title('CO2 per Weekday at Auber')\n",
        "plt.ylim(0, 2500)"
      ],
      "metadata": {
        "id": "K8v0SfOBXjQk",
        "colab": {
          "base_uri": "https://localhost:8080/",
          "height": 312
        },
        "outputId": "93edd08b-3322-490d-8cbd-03be2ff1dbf9"
      },
      "execution_count": null,
      "outputs": [
        {
          "output_type": "execute_result",
          "data": {
            "text/plain": [
              "(0.0, 2500.0)"
            ]
          },
          "metadata": {},
          "execution_count": 114
        },
        {
          "output_type": "display_data",
          "data": {
            "text/plain": [
              "<Figure size 432x288 with 1 Axes>"
            ],
            "image/png": "[encoded data removed]"
          },
          "metadata": {
            "needs_background": "light"
          }
        }
      ]
    },
    {
      "cell_type": "code",
      "source": [
        "sns.boxplot(data=chatelet_df,x='weekday',y='CO2').set_title('CO2 per Weekday at Chatelet')\n",
        "plt.ylim(0, 2500)"
      ],
      "metadata": {
        "id": "ZmrOd0okXjec",
        "colab": {
          "base_uri": "https://localhost:8080/",
          "height": 312
        },
        "outputId": "f9f5ebb5-79eb-4bf1-ef06-ef004ab6f4df"
      },
      "execution_count": null,
      "outputs": [
        {
          "output_type": "execute_result",
          "data": {
            "text/plain": [
              "(0.0, 2500.0)"
            ]
          },
          "metadata": {},
          "execution_count": 115
        },
        {
          "output_type": "display_data",
          "data": {
            "text/plain": [
              "<Figure size 432x288 with 1 Axes>"
            ],
            "image/png": "[encoded data removed]"
          },
          "metadata": {
            "needs_background": "light"
          }
        }
      ]
    },
    {
      "cell_type": "code",
      "source": [
        "sns.boxplot(data=franklin_df,x='month',y='CO2').set_title('CO2 per month at Franklin')\n",
        "plt.ylim(0, 2000)"
      ],
      "metadata": {
        "id": "WjlU1DKPYOw7",
        "colab": {
          "base_uri": "https://localhost:8080/",
          "height": 312
        },
        "outputId": "b70632c8-95d3-48c0-c1ee-bce49c577d17"
      },
      "execution_count": null,
      "outputs": [
        {
          "output_type": "execute_result",
          "data": {
            "text/plain": [
              "(0.0, 2000.0)"
            ]
          },
          "metadata": {},
          "execution_count": 116
        },
        {
          "output_type": "display_data",
          "data": {
            "text/plain": [
              "<Figure size 432x288 with 1 Axes>"
            ],
            "image/png": "[encoded data removed]"
          },
          "metadata": {
            "needs_background": "light"
          }
        }
      ]
    },
    {
      "cell_type": "code",
      "source": [
        "sns.boxplot(data=auber_df,x='month',y='CO2').set_title('CO2 per month at Auber')\n",
        "plt.ylim(0, 2000)"
      ],
      "metadata": {
        "id": "NA2YWvNPYO5Q",
        "colab": {
          "base_uri": "https://localhost:8080/",
          "height": 312
        },
        "outputId": "ff8cb625-85f0-4204-a8ba-6404f07c3df8"
      },
      "execution_count": null,
      "outputs": [
        {
          "output_type": "execute_result",
          "data": {
            "text/plain": [
              "(0.0, 2000.0)"
            ]
          },
          "metadata": {},
          "execution_count": 117
        },
        {
          "output_type": "display_data",
          "data": {
            "text/plain": [
              "<Figure size 432x288 with 1 Axes>"
            ],
            "image/png": "[encoded data removed]"
          },
          "metadata": {
            "needs_background": "light"
          }
        }
      ]
    },
    {
      "cell_type": "code",
      "source": [
        "sns.boxplot(data=chatelet_df,x='month',y='CO2').set_title('CO2 per month at Chatelet')\n",
        "plt.ylim(0, 2000)"
      ],
      "metadata": {
        "id": "W94-vd-FYFE0",
        "colab": {
          "base_uri": "https://localhost:8080/",
          "height": 312
        },
        "outputId": "b12bb870-af79-44ea-fe43-78fc8f05fa64"
      },
      "execution_count": null,
      "outputs": [
        {
          "output_type": "execute_result",
          "data": {
            "text/plain": [
              "(0.0, 2000.0)"
            ]
          },
          "metadata": {},
          "execution_count": 118
        },
        {
          "output_type": "display_data",
          "data": {
            "text/plain": [
              "<Figure size 432x288 with 1 Axes>"
            ],
            "image/png": "[encoded data removed]"
          },
          "metadata": {
            "needs_background": "light"
          }
        }
      ]
    },
    {
      "cell_type": "markdown",
      "source": [
        "# Machine Learning"
      ],
      "metadata": {
        "id": "SgKEduDRIz3C"
      }
    },
    {
      "cell_type": "code",
      "source": [
        "from sklearn.metrics import classification_report\n",
        "from sklearn import metrics\n",
        "from sklearn.model_selection import train_test_split\n",
        "from sklearn.metrics import confusion_matrix\n",
        "from sklearn.metrics import plot_confusion_matrix\n",
        "from sklearn.metrics import plot_roc_curve\n",
        "from sklearn.metrics import accuracy_score\n",
        "from sklearn.linear_model import LinearRegression\n",
        "from sklearn.metrics import mean_absolute_error, mean_squared_error\n",
        "from sklearn.tree import DecisionTreeRegressor\n",
        "from sklearn.linear_model import Ridge"
      ],
      "metadata": {
        "id": "hKbMo7tsL3ny"
      },
      "execution_count": null,
      "outputs": []
    },
    {
      "cell_type": "code",
      "source": [
        "import datetime as dt\n",
        "X = chatelet_df.drop(['CO2', 'NO', 'NO2','PM10'], axis=1)\n",
        "y = chatelet_df['CO2']\n",
        "\n",
        "\n",
        "X['Date_Heure']=X['Date_Heure'].map(dt.datetime.toordinal)"
      ],
      "metadata": {
        "id": "lHmocyi7MBrw"
      },
      "execution_count": null,
      "outputs": []
    },
    {
      "cell_type": "code",
      "source": [
        "df_to_use = chatelet_df"
      ],
      "metadata": {
        "id": "QJV7EhjrpSz0"
      },
      "execution_count": null,
      "outputs": []
    },
    {
      "cell_type": "code",
      "source": [
        "X_train, X_eval, y_train, y_eval = train_test_split(X, y,test_size=0.3)"
      ],
      "metadata": {
        "id": "fOQPPCCEL-J_"
      },
      "execution_count": null,
      "outputs": []
    },
    {
      "cell_type": "code",
      "source": [
        "#displays the correlation values\n",
        "sns.heatmap(round(df_to_use.corr(),2),annot=True).set(title='Pearson Correlations');"
      ],
      "metadata": {
        "id": "lceFHAhvoN56",
        "colab": {
          "base_uri": "https://localhost:8080/",
          "height": 316
        },
        "outputId": "bb4cbdcf-f5b5-4b6f-cae1-3fd610614e5e"
      },
      "execution_count": null,
      "outputs": [
        {
          "output_type": "display_data",
          "data": {
            "text/plain": [
              "<Figure size 432x288 with 2 Axes>"
            ],
            "image/png": "[encoded data removed]"
          },
          "metadata": {
            "needs_background": "light"
          }
        }
      ]
    },
    {
      "cell_type": "markdown",
      "source": [
        "## Regression Methods"
      ],
      "metadata": {
        "id": "e_hDb2uiI5SA"
      }
    },
    {
      "cell_type": "markdown",
      "source": [
        "## Linear Regression"
      ],
      "metadata": {
        "id": "xMvHu1YHjzHs"
      }
    },
    {
      "cell_type": "code",
      "source": [
        "# With text trian split\n",
        "\n",
        "lm = LinearRegression()\n",
        "model = lm.fit(X_train,y_train)\n",
        "print(f'alpha = {model.intercept_}')\n",
        "print(f'betas = {model.coef_}')\n",
        "feature_names = X.columns\n",
        "model_coefficients = lm.coef_\n",
        "\n",
        "coefficients_df = pd.DataFrame(data = model_coefficients, \n",
        "                              index = feature_names, \n",
        "                              columns = ['Coefficient value'])\n",
        "print(coefficients_df)\n",
        "y_pred = model.predict(X_eval)\n",
        "\n",
        "results = pd.DataFrame({'Actual': y_eval, 'Predicted': y_pred})\n",
        "\n",
        "\n"
      ],
      "metadata": {
        "id": "WDMRy5TxlpAw",
        "colab": {
          "base_uri": "https://localhost:8080/"
        },
        "outputId": "06f341c0-b759-4218-c835-e7da3c5d631a"
      },
      "execution_count": null,
      "outputs": [
        {
          "output_type": "stream",
          "name": "stdout",
          "text": [
            "alpha = 24283.600840205727\n",
            "betas = [ 1.20086103e-01 -4.33665881e-02 -2.29087129e-01  8.86465522e+00\n",
            " -3.53853261e+00 -4.76052155e+00 -5.56308580e+01]\n",
            "            Coefficient value\n",
            "Date_Heure           0.120086\n",
            "TEMP                -0.043367\n",
            "HUMI                -0.229087\n",
            "hour                 8.864655\n",
            "weekday             -3.538533\n",
            "month               -4.760522\n",
            "year               -55.630858\n"
          ]
        }
      ]
    },
    {
      "cell_type": "code",
      "source": [
        "# Evaluation of the model\n",
        "mae = mean_absolute_error(y_eval, y_pred)\n",
        "mse = mean_squared_error(y_eval, y_pred)\n",
        "rmse = np.sqrt(mse)\n",
        "\n",
        "\n",
        "print(f'Mean absolute error: {mae:.2f}')\n",
        "print(f'Mean squared error: {mse:.2f}')\n",
        "print(f'Root mean squared error: {rmse:.2f}')\n",
        "\n",
        "print('R2: ',lm.score(X_eval, y_eval))\n",
        "actual_minus_predicted = sum((y_eval - y_pred)**2)\n",
        "actual_minus_actual_mean = sum((y_eval - y_eval.mean())**2)\n",
        "r2 = 1 - actual_minus_predicted/actual_minus_actual_mean\n",
        "print('R²:', r2)\n",
        "lm.score(X_eval, y_eval)\n",
        "\n",
        "#lm.score(X_train, y_train)"
      ],
      "metadata": {
        "id": "LUQlY_3DqK_b",
        "colab": {
          "base_uri": "https://localhost:8080/"
        },
        "outputId": "1f6c51bd-9d7d-41ac-9404-8bf5d46a165e"
      },
      "execution_count": null,
      "outputs": [
        {
          "output_type": "stream",
          "name": "stdout",
          "text": [
            "Mean absolute error: 80.03\n",
            "Mean squared error: 11169.29\n",
            "Root mean squared error: 105.68\n",
            "R2:  0.3135438959893395\n",
            "R²: 0.3135438959893454\n"
          ]
        },
        {
          "output_type": "execute_result",
          "data": {
            "text/plain": [
              "0.3135438959893395"
            ]
          },
          "metadata": {},
          "execution_count": 257
        }
      ]
    },
    {
      "cell_type": "code",
      "source": [
        "\n",
        "plt.plot(y_pred[0:24*7], label=\"predicted\")\n",
        "plt.plot(y_eval[0:24*7].reset_index(drop=True), label=\"real\")\n",
        "plt.title('CO2 in seven day')\n",
        "plt.xlabel('time')\n",
        "plt.ylabel('CO2')\n",
        "plt.legend(loc=\"upper right\")\n",
        "plt.grid(linestyle = '--')\n",
        "plt.show()"
      ],
      "metadata": {
        "id": "HiPGbNNnmLmj",
        "colab": {
          "base_uri": "https://localhost:8080/",
          "height": 295
        },
        "outputId": "30905944-2373-4bff-aa0f-e11ece8094ae"
      },
      "execution_count": null,
      "outputs": [
        {
          "output_type": "display_data",
          "data": {
            "text/plain": [
              "<Figure size 432x288 with 1 Axes>"
            ],
            "image/png": "[encoded data removed]"
          },
          "metadata": {
            "needs_background": "light"
          }
        }
      ]
    },
    {
      "cell_type": "code",
      "source": [],
      "metadata": {
        "id": "C0xdSpqRBPn4"
      },
      "execution_count": null,
      "outputs": []
    },
    {
      "cell_type": "markdown",
      "source": [
        "## Decision Trees"
      ],
      "metadata": {
        "id": "yO_fxPwbzMte"
      }
    },
    {
      "cell_type": "code",
      "source": [
        "regressor = DecisionTreeRegressor()\n",
        "regressor.fit(X_train, y_train)\n",
        "y_pred = regressor.predict(X_eval)\n",
        "df=pd.DataFrame({'Actual':y_eval, 'Predicted':y_pred})\n",
        "\n",
        "print('Mean Absolute Error:', metrics.mean_absolute_error(y_eval, y_pred))\n",
        "print('Mean Squared Error:', metrics.mean_squared_error(y_eval, y_pred))\n",
        "print('Root Mean Squared Error:', np.sqrt(metrics.mean_squared_error(y_eval, y_pred)))\n",
        "print('R2: ',regressor.score(X_eval, y_eval))\n",
        "#actual_minus_predicted = sum((y_eval - y_pred)**2)\n",
        "#actual_minus_actual_mean = sum((y_eval - y_eval.mean())**2)\n",
        "#r2 = 1 - actual_minus_predicted/actual_minus_actual_mean\n",
        "#print('R²:', r2)\n",
        "\n",
        "plt.plot(y_pred[0:24], label=\"predicted\")\n",
        "plt.plot(y_eval[0:24].reset_index(drop=True), label=\"real\")\n",
        "plt.title('CO2 in one day')\n",
        "plt.xlabel('time')\n",
        "plt.ylabel('CO2')\n",
        "plt.legend(loc=\"upper right\")\n",
        "plt.grid(linestyle = '--')\n",
        "plt.show()"
      ],
      "metadata": {
        "id": "89VtIE_-zLg_",
        "colab": {
          "base_uri": "https://localhost:8080/",
          "height": 364
        },
        "outputId": "a462108d-8ebc-4ca1-bf32-12c27888ba72"
      },
      "execution_count": null,
      "outputs": [
        {
          "output_type": "stream",
          "name": "stdout",
          "text": [
            "Mean Absolute Error: 32.588125127320545\n",
            "Mean Squared Error: 2759.256967305255\n",
            "Root Mean Squared Error: 52.52862997742521\n",
            "R2:  0.8304182061464807\n"
          ]
        },
        {
          "output_type": "display_data",
          "data": {
            "text/plain": [
              "<Figure size 432x288 with 1 Axes>"
            ],
            "image/png": "[encoded data removed]"
          },
          "metadata": {
            "needs_background": "light"
          }
        }
      ]
    },
    {
      "cell_type": "markdown",
      "source": [
        "## Ridge"
      ],
      "metadata": {
        "id": "juDzCCdO7cHz"
      }
    },
    {
      "cell_type": "code",
      "source": [
        "from sklearn import linear_model\n",
        "ridge = linear_model.Ridge(alpha=.5)\n",
        "ridge.fit(X_train, y_train)\n",
        "y_pred = ridge.predict(X_eval)\n",
        "\n",
        "print('Mean Absolute Error:', metrics.mean_absolute_error(y_eval, y_pred))\n",
        "print('Mean Squared Error:', metrics.mean_squared_error(y_eval, y_pred))\n",
        "print('Root Mean Squared Error:', np.sqrt(metrics.mean_squared_error(y_eval, y_pred)))\n",
        "\n",
        "actual_minus_predicted = sum((y_eval - y_pred)**2)\n",
        "actual_minus_actual_mean = sum((y_eval - y_eval.mean())**2)\n",
        "r2 = 1 - actual_minus_predicted/actual_minus_actual_mean\n",
        "print('R²:', r2)\n",
        "ridge.score(X_eval, y_eval)\n",
        "\n",
        "\n",
        "model_coefficients = ridge.coef_\n",
        "\n",
        "#coefficients_df = pd.DataFrame(data = model_coefficients, \n",
        "#                              index = feature_names, \n",
        "#                              columns = ['Coefficient value'])\n",
        "#print(coefficients_df)"
      ],
      "metadata": {
        "id": "O3Z7MW1Z7nZM",
        "colab": {
          "base_uri": "https://localhost:8080/"
        },
        "outputId": "896a450b-dc70-40b7-e056-d26d08600d19"
      },
      "execution_count": null,
      "outputs": [
        {
          "output_type": "stream",
          "name": "stdout",
          "text": [
            "Mean Absolute Error: 80.02768962478497\n",
            "Mean Squared Error: 11169.225784889035\n",
            "Root Mean Squared Error: 105.6845579301396\n",
            "R²: 0.3135480431870513\n"
          ]
        }
      ]
    },
    {
      "cell_type": "code",
      "source": [
        "from sklearn.metrics import mean_squared_error, mean_absolute_error, r2_score, median_absolute_error\n",
        "import math\n",
        "import math\n",
        "reg = Ridge(alpha=.5)\n",
        "reg.fit(X_train, y_train)\n",
        "y_pred = reg.predict(X_eval)\n",
        "\n",
        "print(\"The Explained Variance: %.2f\" % reg.score(X_eval, y_eval))\n",
        "print(\"The Mean Absolute Error: %.2f \" % mean_absolute_error(y_eval, y_pred))\n",
        "print(\"The Median Absolute Error: %.2f \" % median_absolute_error(y_eval, y_pred))\n",
        "\n",
        "mse = mean_squared_error(y_eval, y_pred)\n",
        "r2 = r2_score(y_eval, y_pred)\n",
        "intercept = reg.intercept_\n",
        "\n",
        "print(\"Mean squared error: %.2f\" %mse)\n",
        "print(\"Root mean squared error: %.2f\" %math.sqrt(mse))\n",
        "print(\"R2 Score: %.2f\" %r2)\n",
        "#print(\"Intercept: %.6f\" %intercept)\n",
        "\n",
        "\n",
        "#print('Linear coefficients:', reg.coef_)\n"
      ],
      "metadata": {
        "id": "GUayd8w4CXWI",
        "colab": {
          "base_uri": "https://localhost:8080/"
        },
        "outputId": "099f21b0-3f3c-4279-bdb4-4a4f4a6b673b"
      },
      "execution_count": null,
      "outputs": [
        {
          "output_type": "stream",
          "name": "stdout",
          "text": [
            "The Explained Variance: 0.31\n",
            "The Mean Absolute Error: 80.03 \n",
            "The Median Absolute Error: 63.48 \n",
            "Mean squared error: 11169.23\n",
            "Root mean squared error: 105.68\n",
            "R2 Score: 0.31\n"
          ]
        }
      ]
    },
    {
      "cell_type": "markdown",
      "source": [
        "## Lasso Regression"
      ],
      "metadata": {
        "id": "E3nS2_qc71nM"
      }
    },
    {
      "cell_type": "code",
      "source": [
        "from sklearn.linear_model import Lasso\n",
        "lasso = Lasso(alpha=1.0)\n",
        "lasso.fit(X_train, y_train)"
      ],
      "metadata": {
        "id": "IRVFOlw374ob",
        "colab": {
          "base_uri": "https://localhost:8080/"
        },
        "outputId": "c18d46df-88b4-4fa2-f482-5aec10136dbe"
      },
      "execution_count": null,
      "outputs": [
        {
          "output_type": "execute_result",
          "data": {
            "text/plain": [
              "Lasso()"
            ]
          },
          "metadata": {},
          "execution_count": 229
        }
      ]
    },
    {
      "cell_type": "code",
      "source": [
        "lasso.score(X_eval, y_eval), lasso.score(X_train, y_train)"
      ],
      "metadata": {
        "id": "4En1_KHm74qx",
        "colab": {
          "base_uri": "https://localhost:8080/"
        },
        "outputId": "33157be6-17a0-44f4-a7da-9613a45f9dc3"
      },
      "execution_count": null,
      "outputs": [
        {
          "output_type": "execute_result",
          "data": {
            "text/plain": [
              "(0.31368811422006193, 0.32152772926348994)"
            ]
          },
          "metadata": {},
          "execution_count": 230
        }
      ]
    },
    {
      "cell_type": "code",
      "source": [
        "from sklearn.linear_model import Lasso\n",
        "lasso = Lasso(alpha=.5)\n",
        "lasso.fit(X_train, y_train)\n",
        "y_pred = lasso.predict(X_eval)\n",
        "\n",
        "print('Mean Absolute Error:', metrics.mean_absolute_error(y_eval, y_pred))\n",
        "print('Mean Squared Error:', metrics.mean_squared_error(y_eval, y_pred))\n",
        "print('Root Mean Squared Error:', np.sqrt(metrics.mean_squared_error(y_eval, y_pred)))\n",
        "\n",
        "actual_minus_predicted = sum((y_eval - y_pred)**2)\n",
        "actual_minus_actual_mean = sum((y_eval - y_eval.mean())**2)\n",
        "r2 = 1 - actual_minus_predicted/actual_minus_actual_mean\n",
        "print('R²:', r2)\n",
        "#lasso.score(X_eval, y_eval)\n",
        "\n",
        "\n",
        "#model_coefficients = lasso.coef_\n",
        "\n",
        "#coefficients_df = pd.DataFrame(data = model_coefficients, \n",
        "#                              index = feature_names, \n",
        "#                              columns = ['Coefficient value'])\n",
        "#print(coefficients_df)"
      ],
      "metadata": {
        "id": "wVyIL0cj74s7",
        "colab": {
          "base_uri": "https://localhost:8080/"
        },
        "outputId": "26ffed80-7058-401e-bafe-bc5ed42bee40"
      },
      "execution_count": null,
      "outputs": [
        {
          "output_type": "stream",
          "name": "stdout",
          "text": [
            "Mean Absolute Error: 80.02895265797393\n",
            "Mean Squared Error: 11166.85617656868\n",
            "Root Mean Squared Error: 105.67334657598708\n",
            "R²: 0.31369367747717036\n"
          ]
        }
      ]
    },
    {
      "cell_type": "markdown",
      "source": [
        "## Elac Net"
      ],
      "metadata": {
        "id": "giS2hMLqhtvI"
      }
    },
    {
      "cell_type": "code",
      "source": [
        "from sklearn.linear_model import ElasticNet\n",
        "ENet = ElasticNet(alpha=.5)\n",
        "ENet.fit(X_train, y_train)\n",
        "y_pred = ENet.predict(X_eval)\n",
        "\n",
        "print('Mean Absolute Error:', metrics.mean_absolute_error(y_eval, y_pred))\n",
        "print('Mean Squared Error:', metrics.mean_squared_error(y_eval, y_pred))\n",
        "print('Root Mean Squared Error:', np.sqrt(metrics.mean_squared_error(y_eval, y_pred)))\n",
        "\n",
        "actual_minus_predicted = sum((y_eval - y_pred)**2)\n",
        "actual_minus_actual_mean = sum((y_eval - y_eval.mean())**2)\n",
        "r2 = 1 - actual_minus_predicted/actual_minus_actual_mean\n",
        "print('R²:', r2)\n",
        "ENet.score(X_eval, y_eval)\n",
        "\n",
        "\n",
        "#model_coefficients = ENet.coef_\n",
        "\n",
        "#coefficients_df = pd.DataFrame(data = model_coefficients, \n",
        "#                              index = feature_names, \n",
        "#                              columns = ['Coefficient value'])\n",
        "#print(coefficients_df)"
      ],
      "metadata": {
        "id": "Dc3Wla8t74vT",
        "colab": {
          "base_uri": "https://localhost:8080/"
        },
        "outputId": "048c5841-35e0-4f02-ae2c-56f21c2b4de3"
      },
      "execution_count": null,
      "outputs": [
        {
          "output_type": "stream",
          "name": "stdout",
          "text": [
            "Mean Absolute Error: 80.06103806341615\n",
            "Mean Squared Error: 11167.119969984882\n",
            "Root Mean Squared Error: 105.67459472354214\n",
            "R²: 0.3136774649383446\n"
          ]
        },
        {
          "output_type": "execute_result",
          "data": {
            "text/plain": [
              "0.31367746493833826"
            ]
          },
          "metadata": {},
          "execution_count": 232
        }
      ]
    },
    {
      "cell_type": "markdown",
      "source": [
        "# Time Series Models"
      ],
      "metadata": {
        "id": "Qr7bu_XCP1cN"
      }
    },
    {
      "cell_type": "code",
      "source": [
        "chatelet_time_data = chatelet_df[['Date_Heure','CO2']]\n",
        "chatelet_time_data.set_index('Date_Heure', inplace=True)\n",
        "train_data = chatelet_time_data['CO2'][:len(chatelet_time_data)-16000]\n",
        "test_data = chatelet_time_data['CO2'][len(chatelet_time_data)-16000:]"
      ],
      "metadata": {
        "id": "hnIQnpKcQ2XK"
      },
      "execution_count": null,
      "outputs": []
    },
    {
      "cell_type": "code",
      "source": [
        "fig, ax = plt.subplots()\n",
        "ax = chatelet_time_data.plot()"
      ],
      "metadata": {
        "id": "NKWgklF6eMKR",
        "colab": {
          "base_uri": "https://localhost:8080/"
        },
        "outputId": "2e3b66d2-837d-464a-e5fa-e6b7e58b598d"
      },
      "execution_count": null,
      "outputs": [
        {
          "output_type": "display_data",
          "data": {
            "text/plain": [
              "<Figure size 432x288 with 1 Axes>"
            ],
            "image/png": "[encoded data removed]"
          },
          "metadata": {
            "needs_background": "light"
          }
        },
        {
          "output_type": "display_data",
          "data": {
            "text/plain": [
              "<Figure size 432x288 with 1 Axes>"
            ],
            "image/png": "[encoded data removed]"
          },
          "metadata": {
            "needs_background": "light"
          }
        }
      ]
    },
    {
      "cell_type": "markdown",
      "source": [
        "### Seasonal Autoregressive Integrated Moving-Average with Exogenous Regressors (SARIMAX)"
      ],
      "metadata": {
        "id": "mrndwkyaQByo"
      }
    },
    {
      "cell_type": "code",
      "source": [
        "from scipy.stats import norm\n",
        "import statsmodels.api as sm\n",
        "from tqdm import tqdm"
      ],
      "metadata": {
        "id": "yaZFGzEQuUAn"
      },
      "execution_count": null,
      "outputs": []
    },
    {
      "cell_type": "code",
      "source": [
        "data_chatelet = chatelet_df\n",
        "data_chatelet.index = data_chatelet.Date_Heure\n",
        "data_chatelet = data_chatelet.drop(['Date_Heure','NO','NO2','PM10'], axis=1)\n",
        "data_chatelet.head()"
      ],
      "metadata": {
        "id": "_CpmQp__uUDK",
        "colab": {
          "base_uri": "https://localhost:8080/",
          "height": 238
        },
        "outputId": "a547b894-403f-4cb8-c6bc-c95098d32c74"
      },
      "execution_count": null,
      "outputs": [
        {
          "output_type": "execute_result",
          "data": {
            "text/plain": [
              "                       CO2  TEMP  HUMI  hour  weekday  month  year\n",
              "Date_Heure                                                        \n",
              "2013-01-01 06:00:00  563.0  20.9  46.0     6        1      1  2013\n",
              "2013-01-01 09:00:00  517.0  20.9  45.2     9        1      1  2013\n",
              "2013-01-01 14:00:00  653.0  21.0  36.6    14        1      1  2013\n",
              "2013-01-01 19:00:00  689.0  21.0  38.0    19        1      1  2013\n",
              "2013-01-02 04:00:00  461.0  18.7  37.4     4        2      1  2013"
            ],
            "text/html": [
              "\n",
              "  <div id=\"df-df3e4f86-6c58-4b86-8a4a-2c7e15dc094a\">\n",
              "    <div class=\"colab-df-container\">\n",
              "      <div>\n",
              "<style scoped>\n",
              "    .dataframe tbody tr th:only-of-type {\n",
              "        vertical-align: middle;\n",
              "    }\n",
              "\n",
              "    .dataframe tbody tr th {\n",
              "        vertical-align: top;\n",
              "    }\n",
              "\n",
              "    .dataframe thead th {\n",
              "        text-align: right;\n",
              "    }\n",
              "</style>\n",
              "<table border=\"1\" class=\"dataframe\">\n",
              "  <thead>\n",
              "    <tr style=\"text-align: right;\">\n",
              "      <th></th>\n",
              "      <th>CO2</th>\n",
              "      <th>TEMP</th>\n",
              "      <th>HUMI</th>\n",
              "      <th>hour</th>\n",
              "      <th>weekday</th>\n",
              "      <th>month</th>\n",
              "      <th>year</th>\n",
              "    </tr>\n",
              "    <tr>\n",
              "      <th>Date_Heure</th>\n",
              "      <th></th>\n",
              "      <th></th>\n",
              "      <th></th>\n",
              "      <th></th>\n",
              "      <th></th>\n",
              "      <th></th>\n",
              "      <th></th>\n",
              "    </tr>\n",
              "  </thead>\n",
              "  <tbody>\n",
              "    <tr>\n",
              "      <th>2013-01-01 06:00:00</th>\n",
              "      <td>563.0</td>\n",
              "      <td>20.9</td>\n",
              "      <td>46.0</td>\n",
              "      <td>6</td>\n",
              "      <td>1</td>\n",
              "      <td>1</td>\n",
              "      <td>2013</td>\n",
              "    </tr>\n",
              "    <tr>\n",
              "      <th>2013-01-01 09:00:00</th>\n",
              "      <td>517.0</td>\n",
              "      <td>20.9</td>\n",
              "      <td>45.2</td>\n",
              "      <td>9</td>\n",
              "      <td>1</td>\n",
              "      <td>1</td>\n",
              "      <td>2013</td>\n",
              "    </tr>\n",
              "    <tr>\n",
              "      <th>2013-01-01 14:00:00</th>\n",
              "      <td>653.0</td>\n",
              "      <td>21.0</td>\n",
              "      <td>36.6</td>\n",
              "      <td>14</td>\n",
              "      <td>1</td>\n",
              "      <td>1</td>\n",
              "      <td>2013</td>\n",
              "    </tr>\n",
              "    <tr>\n",
              "      <th>2013-01-01 19:00:00</th>\n",
              "      <td>689.0</td>\n",
              "      <td>21.0</td>\n",
              "      <td>38.0</td>\n",
              "      <td>19</td>\n",
              "      <td>1</td>\n",
              "      <td>1</td>\n",
              "      <td>2013</td>\n",
              "    </tr>\n",
              "    <tr>\n",
              "      <th>2013-01-02 04:00:00</th>\n",
              "      <td>461.0</td>\n",
              "      <td>18.7</td>\n",
              "      <td>37.4</td>\n",
              "      <td>4</td>\n",
              "      <td>2</td>\n",
              "      <td>1</td>\n",
              "      <td>2013</td>\n",
              "    </tr>\n",
              "  </tbody>\n",
              "</table>\n",
              "</div>\n",
              "      <button class=\"colab-df-convert\" onclick=\"convertToInteractive('df-df3e4f86-6c58-4b86-8a4a-2c7e15dc094a')\"\n",
              "              title=\"Convert this dataframe to an interactive table.\"\n",
              "              style=\"display:none;\">\n",
              "        \n",
              "  <svg xmlns=\"http://www.w3.org/2000/svg\" height=\"24px\"viewBox=\"0 0 24 24\"\n",
              "       width=\"24px\">\n",
              "    <path d=\"M0 0h24v24H0V0z\" fill=\"none\"/>\n",
              "    <path d=\"M18.56 5.44l.94 2.06.94-2.06 2.06-.94-2.06-.94-.94-2.06-.94 2.06-2.06.94zm-11 1L8.5 8.5l.94-2.06 2.06-.94-2.06-.94L8.5 2.5l-.94 2.06-2.06.94zm10 10l.94 2.06.94-2.06 2.06-.94-2.06-.94-.94-2.06-.94 2.06-2.06.94z\"/><path d=\"M17.41 7.96l-1.37-1.37c-.4-.4-.92-.59-1.43-.59-.52 0-1.04.2-1.43.59L10.3 9.45l-7.72 7.72c-.78.78-.78 2.05 0 2.83L4 21.41c.39.39.9.59 1.41.59.51 0 1.02-.2 1.41-.59l7.78-7.78 2.81-2.81c.8-.78.8-2.07 0-2.86zM5.41 20L4 18.59l7.72-7.72 1.47 1.35L5.41 20z\"/>\n",
              "  </svg>\n",
              "      </button>\n",
              "      \n",
              "  <style>\n",
              "    .colab-df-container {\n",
              "      display:flex;\n",
              "      flex-wrap:wrap;\n",
              "      gap: 12px;\n",
              "    }\n",
              "\n",
              "    .colab-df-convert {\n",
              "      background-color: #E8F0FE;\n",
              "      border: none;\n",
              "      border-radius: 50%;\n",
              "      cursor: pointer;\n",
              "      display: none;\n",
              "      fill: #1967D2;\n",
              "      height: 32px;\n",
              "      padding: 0 0 0 0;\n",
              "      width: 32px;\n",
              "    }\n",
              "\n",
              "    .colab-df-convert:hover {\n",
              "      background-color: #E2EBFA;\n",
              "      box-shadow: 0px 1px 2px rgba(60, 64, 67, 0.3), 0px 1px 3px 1px rgba(60, 64, 67, 0.15);\n",
              "      fill: #174EA6;\n",
              "    }\n",
              "\n",
              "    [theme=dark] .colab-df-convert {\n",
              "      background-color: #3B4455;\n",
              "      fill: #D2E3FC;\n",
              "    }\n",
              "\n",
              "    [theme=dark] .colab-df-convert:hover {\n",
              "      background-color: #434B5C;\n",
              "      box-shadow: 0px 1px 3px 1px rgba(0, 0, 0, 0.15);\n",
              "      filter: drop-shadow(0px 1px 2px rgba(0, 0, 0, 0.3));\n",
              "      fill: #FFFFFF;\n",
              "    }\n",
              "  </style>\n",
              "\n",
              "      <script>\n",
              "        const buttonEl =\n",
              "          document.querySelector('#df-df3e4f86-6c58-4b86-8a4a-2c7e15dc094a button.colab-df-convert');\n",
              "        buttonEl.style.display =\n",
              "          google.colab.kernel.accessAllowed ? 'block' : 'none';\n",
              "\n",
              "        async function convertToInteractive(key) {\n",
              "          const element = document.querySelector('#df-df3e4f86-6c58-4b86-8a4a-2c7e15dc094a');\n",
              "          const dataTable =\n",
              "            await google.colab.kernel.invokeFunction('convertToInteractive',\n",
              "                                                     [key], {});\n",
              "          if (!dataTable) return;\n",
              "\n",
              "          const docLinkHtml = 'Like what you see? Visit the ' +\n",
              "            '<a target=\"_blank\" href=https://colab.research.google.com/notebooks/data_table.ipynb>data table notebook</a>'\n",
              "            + ' to learn more about interactive tables.';\n",
              "          element.innerHTML = '';\n",
              "          dataTable['output_type'] = 'display_data';\n",
              "          await google.colab.output.renderOutput(dataTable, element);\n",
              "          const docLink = document.createElement('div');\n",
              "          docLink.innerHTML = docLinkHtml;\n",
              "          element.appendChild(docLink);\n",
              "        }\n",
              "      </script>\n",
              "    </div>\n",
              "  </div>\n",
              "  "
            ]
          },
          "metadata": {},
          "execution_count": 244
        }
      ]
    },
    {
      "cell_type": "code",
      "source": [
        "train = data_chatelet.iloc[:int(0.9*len(data_chatelet))]\n",
        "test = data_chatelet.iloc[int(0.9*len(data_chatelet)):]"
      ],
      "metadata": {
        "id": "akk-6F7nuUFU"
      },
      "execution_count": null,
      "outputs": []
    },
    {
      "cell_type": "code",
      "source": [
        "# Variables\n",
        "exog_data = train.drop(['CO2'],axis=1)\n",
        "exog = sm.add_constant(exog_data)\n",
        "endog = train[[u'CO2']]\n"
      ],
      "metadata": {
        "id": "RwjR0TpzuUH7",
        "colab": {
          "base_uri": "https://localhost:8080/"
        },
        "outputId": "36893b5c-1e1e-40f6-cdf6-08068de38804"
      },
      "execution_count": null,
      "outputs": [
        {
          "output_type": "stream",
          "name": "stderr",
          "text": [
            "/usr/local/lib/python3.7/dist-packages/statsmodels/tsa/tsatools.py:142: FutureWarning: In a future version of pandas all arguments of concat except for the argument 'objs' will be keyword-only\n",
            "  x = pd.concat(x[::order], 1)\n"
          ]
        }
      ]
    },
    {
      "cell_type": "code",
      "source": [
        "# Fit the model\n",
        "mod = sm.tsa.statespace.SARIMAX(endog, exog=exog, order=(1,0,1))\n",
        "fit_res = mod.fit(disp=False)\n",
        "print(fit_res.summary())"
      ],
      "metadata": {
        "id": "EZzG3UuMuUKD",
        "colab": {
          "base_uri": "https://localhost:8080/"
        },
        "outputId": "cc7b314d-99c7-4e85-efaa-620ef3b61722"
      },
      "execution_count": null,
      "outputs": [
        {
          "output_type": "stream",
          "name": "stderr",
          "text": [
            "/usr/local/lib/python3.7/dist-packages/statsmodels/tsa/base/tsa_model.py:583: ValueWarning: A date index has been provided, but it has no associated frequency information and so will be ignored when e.g. forecasting.\n",
            "  ' ignored when e.g. forecasting.', ValueWarning)\n",
            "/usr/local/lib/python3.7/dist-packages/statsmodels/tsa/base/tsa_model.py:587: ValueWarning: A date index has been provided, but it is not monotonic and so will be ignored when e.g. forecasting.\n",
            "  ' forecasting.', ValueWarning)\n",
            "/usr/local/lib/python3.7/dist-packages/statsmodels/tsa/base/tsa_model.py:583: ValueWarning: A date index has been provided, but it has no associated frequency information and so will be ignored when e.g. forecasting.\n",
            "  ' ignored when e.g. forecasting.', ValueWarning)\n",
            "/usr/local/lib/python3.7/dist-packages/statsmodels/tsa/base/tsa_model.py:587: ValueWarning: A date index has been provided, but it is not monotonic and so will be ignored when e.g. forecasting.\n",
            "  ' forecasting.', ValueWarning)\n",
            "/usr/local/lib/python3.7/dist-packages/statsmodels/tsa/statespace/sarimax.py:966: UserWarning: Non-stationary starting autoregressive parameters found. Using zeros as starting parameters.\n",
            "  warn('Non-stationary starting autoregressive parameters'\n",
            "/usr/local/lib/python3.7/dist-packages/statsmodels/base/model.py:568: ConvergenceWarning: Maximum Likelihood optimization failed to converge. Check mle_retvals\n",
            "  ConvergenceWarning)\n"
          ]
        },
        {
          "output_type": "stream",
          "name": "stdout",
          "text": [
            "                               SARIMAX Results                                \n",
            "==============================================================================\n",
            "Dep. Variable:                    CO2   No. Observations:                65123\n",
            "Model:               SARIMAX(1, 0, 1)   Log Likelihood             -393509.683\n",
            "Date:                Wed, 02 Nov 2022   AIC                         787039.365\n",
            "Time:                        20:01:19   BIC                         787130.206\n",
            "Sample:                             0   HQIC                        787067.475\n",
            "                              - 65123                                         \n",
            "Covariance Type:                  opg                                         \n",
            "==============================================================================\n",
            "                 coef    std err          z      P>|z|      [0.025      0.975]\n",
            "------------------------------------------------------------------------------\n",
            "const       2.965e+04   1206.256     24.583      0.000    2.73e+04     3.2e+04\n",
            "TEMP           9.5956      0.229     41.987      0.000       9.148      10.044\n",
            "HUMI           0.1395      0.055      2.558      0.011       0.033       0.246\n",
            "hour           8.3489      0.063    132.384      0.000       8.225       8.473\n",
            "weekday       -3.7332      0.217    -17.181      0.000      -4.159      -3.307\n",
            "month         -1.3561      0.252     -5.377      0.000      -1.850      -0.862\n",
            "year         -14.5619      0.599    -24.329      0.000     -15.735     -13.389\n",
            "ar.L1          0.9989      0.000   5497.037      0.000       0.999       0.999\n",
            "ma.L1         -0.9787      0.001  -1151.871      0.000      -0.980      -0.977\n",
            "sigma2      1.038e+04     39.744    261.072      0.000    1.03e+04    1.05e+04\n",
            "===================================================================================\n",
            "Ljung-Box (L1) (Q):                   8.92   Jarque-Bera (JB):             27633.91\n",
            "Prob(Q):                              0.00   Prob(JB):                         0.00\n",
            "Heteroskedasticity (H):               0.40   Skew:                             0.68\n",
            "Prob(H) (two-sided):                  0.00   Kurtosis:                         5.89\n",
            "===================================================================================\n",
            "\n",
            "Warnings:\n",
            "[1] Covariance matrix calculated using the outer product of gradients (complex-step).\n"
          ]
        }
      ]
    },
    {
      "cell_type": "code",
      "source": [
        "first_predict = test.iloc[0].name\n",
        "# print(last_train,first_predict)\n",
        "# import datetime as dt\n",
        "\n",
        "# start_dt = dt.datetime.strptime(last_train, '%Y-%m-%d %H:%M:%S')\n",
        "# predict_dt = dt.datetime.strptime(first_predict, '%Y-%m-%d %H:%M:%S')\n",
        "# diff = (predict_dt - start_dt) \n",
        "# days, seconds = diff.days, diff.seconds\n",
        "# hours = days * 24 + seconds // 3600\n",
        "# print(hours)\n",
        "\n",
        "exog1 = (sm.add_constant(test).loc[first_predict:])\n",
        "exog1 = exog1.drop(['CO2'],axis=1)\n",
        "\n",
        "# print(pd.concat([exog,exog1]))\n",
        "# predict = fit_res.predict(start=hours,end=hours,exog=exog1)\n",
        "# print(predict)\n",
        "\n",
        "forecast = fit_res.forecast(steps = len(test),exog = exog1)"
      ],
      "metadata": {
        "id": "DShT0rlTuUMV",
        "colab": {
          "base_uri": "https://localhost:8080/"
        },
        "outputId": "d7727955-dee0-482d-8fce-c50de05394fd"
      },
      "execution_count": null,
      "outputs": [
        {
          "output_type": "stream",
          "name": "stderr",
          "text": [
            "/usr/local/lib/python3.7/dist-packages/statsmodels/tsa/tsatools.py:142: FutureWarning: In a future version of pandas all arguments of concat except for the argument 'objs' will be keyword-only\n",
            "  x = pd.concat(x[::order], 1)\n",
            "/usr/local/lib/python3.7/dist-packages/statsmodels/tsa/base/tsa_model.py:379: ValueWarning: No supported index is available. Prediction results will be given with an integer index beginning at `start`.\n",
            "  ValueWarning)\n"
          ]
        }
      ]
    },
    {
      "cell_type": "code",
      "source": [
        "result_data = pd.DataFrame(index=test.index, columns=['Date_Heure','CO2'])\n",
        "result_data.head()"
      ],
      "metadata": {
        "id": "2HGqvLqduUOf",
        "colab": {
          "base_uri": "https://localhost:8080/",
          "height": 238
        },
        "outputId": "99c66e8d-b08f-471d-9820-d8e4c6084af6"
      },
      "execution_count": null,
      "outputs": [
        {
          "output_type": "execute_result",
          "data": {
            "text/plain": [
              "                    Date_Heure  CO2\n",
              "Date_Heure                         \n",
              "2021-07-30 03:00:00        NaN  NaN\n",
              "2021-07-30 14:00:00        NaN  NaN\n",
              "2021-07-30 17:00:00        NaN  NaN\n",
              "2021-07-30 20:00:00        NaN  NaN\n",
              "2021-07-30 21:00:00        NaN  NaN"
            ],
            "text/html": [
              "\n",
              "  <div id=\"df-8387f9e4-5b7a-4c17-83de-bdcf9c3af351\">\n",
              "    <div class=\"colab-df-container\">\n",
              "      <div>\n",
              "<style scoped>\n",
              "    .dataframe tbody tr th:only-of-type {\n",
              "        vertical-align: middle;\n",
              "    }\n",
              "\n",
              "    .dataframe tbody tr th {\n",
              "        vertical-align: top;\n",
              "    }\n",
              "\n",
              "    .dataframe thead th {\n",
              "        text-align: right;\n",
              "    }\n",
              "</style>\n",
              "<table border=\"1\" class=\"dataframe\">\n",
              "  <thead>\n",
              "    <tr style=\"text-align: right;\">\n",
              "      <th></th>\n",
              "      <th>Date_Heure</th>\n",
              "      <th>CO2</th>\n",
              "    </tr>\n",
              "    <tr>\n",
              "      <th>Date_Heure</th>\n",
              "      <th></th>\n",
              "      <th></th>\n",
              "    </tr>\n",
              "  </thead>\n",
              "  <tbody>\n",
              "    <tr>\n",
              "      <th>2021-07-30 03:00:00</th>\n",
              "      <td>NaN</td>\n",
              "      <td>NaN</td>\n",
              "    </tr>\n",
              "    <tr>\n",
              "      <th>2021-07-30 14:00:00</th>\n",
              "      <td>NaN</td>\n",
              "      <td>NaN</td>\n",
              "    </tr>\n",
              "    <tr>\n",
              "      <th>2021-07-30 17:00:00</th>\n",
              "      <td>NaN</td>\n",
              "      <td>NaN</td>\n",
              "    </tr>\n",
              "    <tr>\n",
              "      <th>2021-07-30 20:00:00</th>\n",
              "      <td>NaN</td>\n",
              "      <td>NaN</td>\n",
              "    </tr>\n",
              "    <tr>\n",
              "      <th>2021-07-30 21:00:00</th>\n",
              "      <td>NaN</td>\n",
              "      <td>NaN</td>\n",
              "    </tr>\n",
              "  </tbody>\n",
              "</table>\n",
              "</div>\n",
              "      <button class=\"colab-df-convert\" onclick=\"convertToInteractive('df-8387f9e4-5b7a-4c17-83de-bdcf9c3af351')\"\n",
              "              title=\"Convert this dataframe to an interactive table.\"\n",
              "              style=\"display:none;\">\n",
              "        \n",
              "  <svg xmlns=\"http://www.w3.org/2000/svg\" height=\"24px\"viewBox=\"0 0 24 24\"\n",
              "       width=\"24px\">\n",
              "    <path d=\"M0 0h24v24H0V0z\" fill=\"none\"/>\n",
              "    <path d=\"M18.56 5.44l.94 2.06.94-2.06 2.06-.94-2.06-.94-.94-2.06-.94 2.06-2.06.94zm-11 1L8.5 8.5l.94-2.06 2.06-.94-2.06-.94L8.5 2.5l-.94 2.06-2.06.94zm10 10l.94 2.06.94-2.06 2.06-.94-2.06-.94-.94-2.06-.94 2.06-2.06.94z\"/><path d=\"M17.41 7.96l-1.37-1.37c-.4-.4-.92-.59-1.43-.59-.52 0-1.04.2-1.43.59L10.3 9.45l-7.72 7.72c-.78.78-.78 2.05 0 2.83L4 21.41c.39.39.9.59 1.41.59.51 0 1.02-.2 1.41-.59l7.78-7.78 2.81-2.81c.8-.78.8-2.07 0-2.86zM5.41 20L4 18.59l7.72-7.72 1.47 1.35L5.41 20z\"/>\n",
              "  </svg>\n",
              "      </button>\n",
              "      \n",
              "  <style>\n",
              "    .colab-df-container {\n",
              "      display:flex;\n",
              "      flex-wrap:wrap;\n",
              "      gap: 12px;\n",
              "    }\n",
              "\n",
              "    .colab-df-convert {\n",
              "      background-color: #E8F0FE;\n",
              "      border: none;\n",
              "      border-radius: 50%;\n",
              "      cursor: pointer;\n",
              "      display: none;\n",
              "      fill: #1967D2;\n",
              "      height: 32px;\n",
              "      padding: 0 0 0 0;\n",
              "      width: 32px;\n",
              "    }\n",
              "\n",
              "    .colab-df-convert:hover {\n",
              "      background-color: #E2EBFA;\n",
              "      box-shadow: 0px 1px 2px rgba(60, 64, 67, 0.3), 0px 1px 3px 1px rgba(60, 64, 67, 0.15);\n",
              "      fill: #174EA6;\n",
              "    }\n",
              "\n",
              "    [theme=dark] .colab-df-convert {\n",
              "      background-color: #3B4455;\n",
              "      fill: #D2E3FC;\n",
              "    }\n",
              "\n",
              "    [theme=dark] .colab-df-convert:hover {\n",
              "      background-color: #434B5C;\n",
              "      box-shadow: 0px 1px 3px 1px rgba(0, 0, 0, 0.15);\n",
              "      filter: drop-shadow(0px 1px 2px rgba(0, 0, 0, 0.3));\n",
              "      fill: #FFFFFF;\n",
              "    }\n",
              "  </style>\n",
              "\n",
              "      <script>\n",
              "        const buttonEl =\n",
              "          document.querySelector('#df-8387f9e4-5b7a-4c17-83de-bdcf9c3af351 button.colab-df-convert');\n",
              "        buttonEl.style.display =\n",
              "          google.colab.kernel.accessAllowed ? 'block' : 'none';\n",
              "\n",
              "        async function convertToInteractive(key) {\n",
              "          const element = document.querySelector('#df-8387f9e4-5b7a-4c17-83de-bdcf9c3af351');\n",
              "          const dataTable =\n",
              "            await google.colab.kernel.invokeFunction('convertToInteractive',\n",
              "                                                     [key], {});\n",
              "          if (!dataTable) return;\n",
              "\n",
              "          const docLinkHtml = 'Like what you see? Visit the ' +\n",
              "            '<a target=\"_blank\" href=https://colab.research.google.com/notebooks/data_table.ipynb>data table notebook</a>'\n",
              "            + ' to learn more about interactive tables.';\n",
              "          element.innerHTML = '';\n",
              "          dataTable['output_type'] = 'display_data';\n",
              "          await google.colab.output.renderOutput(dataTable, element);\n",
              "          const docLink = document.createElement('div');\n",
              "          docLink.innerHTML = docLinkHtml;\n",
              "          element.appendChild(docLink);\n",
              "        }\n",
              "      </script>\n",
              "    </div>\n",
              "  </div>\n",
              "  "
            ]
          },
          "metadata": {},
          "execution_count": 249
        }
      ]
    },
    {
      "cell_type": "code",
      "source": [
        "chk = 0\n",
        "for i in tqdm(forecast):\n",
        "    result_data.iloc[chk][\"Date_Heure\"] = test.iloc[chk].name\n",
        "    result_data.iloc[chk][\"CO2\"] = i\n",
        "    chk+=1\n",
        "result_data.head()"
      ],
      "metadata": {
        "id": "fh1FFaTeuUQh",
        "colab": {
          "base_uri": "https://localhost:8080/",
          "height": 255
        },
        "outputId": "1fbf39e3-5b45-48d0-a425-5db826bd67b3"
      },
      "execution_count": null,
      "outputs": [
        {
          "output_type": "stream",
          "name": "stderr",
          "text": [
            "100%|██████████| 7236/7236 [00:02<00:00, 2961.65it/s]\n"
          ]
        },
        {
          "output_type": "execute_result",
          "data": {
            "text/plain": [
              "                              Date_Heure         CO2\n",
              "Date_Heure                                          \n",
              "2021-07-30 03:00:00  2021-07-30 03:00:00  418.354873\n",
              "2021-07-30 14:00:00  2021-07-30 14:00:00  520.376048\n",
              "2021-07-30 17:00:00  2021-07-30 17:00:00  548.261187\n",
              "2021-07-30 20:00:00  2021-07-30 20:00:00  573.535834\n",
              "2021-07-30 21:00:00  2021-07-30 21:00:00  580.999616"
            ],
            "text/html": [
              "\n",
              "  <div id=\"df-95b845de-7a04-4184-9030-e72f308c77e8\">\n",
              "    <div class=\"colab-df-container\">\n",
              "      <div>\n",
              "<style scoped>\n",
              "    .dataframe tbody tr th:only-of-type {\n",
              "        vertical-align: middle;\n",
              "    }\n",
              "\n",
              "    .dataframe tbody tr th {\n",
              "        vertical-align: top;\n",
              "    }\n",
              "\n",
              "    .dataframe thead th {\n",
              "        text-align: right;\n",
              "    }\n",
              "</style>\n",
              "<table border=\"1\" class=\"dataframe\">\n",
              "  <thead>\n",
              "    <tr style=\"text-align: right;\">\n",
              "      <th></th>\n",
              "      <th>Date_Heure</th>\n",
              "      <th>CO2</th>\n",
              "    </tr>\n",
              "    <tr>\n",
              "      <th>Date_Heure</th>\n",
              "      <th></th>\n",
              "      <th></th>\n",
              "    </tr>\n",
              "  </thead>\n",
              "  <tbody>\n",
              "    <tr>\n",
              "      <th>2021-07-30 03:00:00</th>\n",
              "      <td>2021-07-30 03:00:00</td>\n",
              "      <td>418.354873</td>\n",
              "    </tr>\n",
              "    <tr>\n",
              "      <th>2021-07-30 14:00:00</th>\n",
              "      <td>2021-07-30 14:00:00</td>\n",
              "      <td>520.376048</td>\n",
              "    </tr>\n",
              "    <tr>\n",
              "      <th>2021-07-30 17:00:00</th>\n",
              "      <td>2021-07-30 17:00:00</td>\n",
              "      <td>548.261187</td>\n",
              "    </tr>\n",
              "    <tr>\n",
              "      <th>2021-07-30 20:00:00</th>\n",
              "      <td>2021-07-30 20:00:00</td>\n",
              "      <td>573.535834</td>\n",
              "    </tr>\n",
              "    <tr>\n",
              "      <th>2021-07-30 21:00:00</th>\n",
              "      <td>2021-07-30 21:00:00</td>\n",
              "      <td>580.999616</td>\n",
              "    </tr>\n",
              "  </tbody>\n",
              "</table>\n",
              "</div>\n",
              "      <button class=\"colab-df-convert\" onclick=\"convertToInteractive('df-95b845de-7a04-4184-9030-e72f308c77e8')\"\n",
              "              title=\"Convert this dataframe to an interactive table.\"\n",
              "              style=\"display:none;\">\n",
              "        \n",
              "  <svg xmlns=\"http://www.w3.org/2000/svg\" height=\"24px\"viewBox=\"0 0 24 24\"\n",
              "       width=\"24px\">\n",
              "    <path d=\"M0 0h24v24H0V0z\" fill=\"none\"/>\n",
              "    <path d=\"M18.56 5.44l.94 2.06.94-2.06 2.06-.94-2.06-.94-.94-2.06-.94 2.06-2.06.94zm-11 1L8.5 8.5l.94-2.06 2.06-.94-2.06-.94L8.5 2.5l-.94 2.06-2.06.94zm10 10l.94 2.06.94-2.06 2.06-.94-2.06-.94-.94-2.06-.94 2.06-2.06.94z\"/><path d=\"M17.41 7.96l-1.37-1.37c-.4-.4-.92-.59-1.43-.59-.52 0-1.04.2-1.43.59L10.3 9.45l-7.72 7.72c-.78.78-.78 2.05 0 2.83L4 21.41c.39.39.9.59 1.41.59.51 0 1.02-.2 1.41-.59l7.78-7.78 2.81-2.81c.8-.78.8-2.07 0-2.86zM5.41 20L4 18.59l7.72-7.72 1.47 1.35L5.41 20z\"/>\n",
              "  </svg>\n",
              "      </button>\n",
              "      \n",
              "  <style>\n",
              "    .colab-df-container {\n",
              "      display:flex;\n",
              "      flex-wrap:wrap;\n",
              "      gap: 12px;\n",
              "    }\n",
              "\n",
              "    .colab-df-convert {\n",
              "      background-color: #E8F0FE;\n",
              "      border: none;\n",
              "      border-radius: 50%;\n",
              "      cursor: pointer;\n",
              "      display: none;\n",
              "      fill: #1967D2;\n",
              "      height: 32px;\n",
              "      padding: 0 0 0 0;\n",
              "      width: 32px;\n",
              "    }\n",
              "\n",
              "    .colab-df-convert:hover {\n",
              "      background-color: #E2EBFA;\n",
              "      box-shadow: 0px 1px 2px rgba(60, 64, 67, 0.3), 0px 1px 3px 1px rgba(60, 64, 67, 0.15);\n",
              "      fill: #174EA6;\n",
              "    }\n",
              "\n",
              "    [theme=dark] .colab-df-convert {\n",
              "      background-color: #3B4455;\n",
              "      fill: #D2E3FC;\n",
              "    }\n",
              "\n",
              "    [theme=dark] .colab-df-convert:hover {\n",
              "      background-color: #434B5C;\n",
              "      box-shadow: 0px 1px 3px 1px rgba(0, 0, 0, 0.15);\n",
              "      filter: drop-shadow(0px 1px 2px rgba(0, 0, 0, 0.3));\n",
              "      fill: #FFFFFF;\n",
              "    }\n",
              "  </style>\n",
              "\n",
              "      <script>\n",
              "        const buttonEl =\n",
              "          document.querySelector('#df-95b845de-7a04-4184-9030-e72f308c77e8 button.colab-df-convert');\n",
              "        buttonEl.style.display =\n",
              "          google.colab.kernel.accessAllowed ? 'block' : 'none';\n",
              "\n",
              "        async function convertToInteractive(key) {\n",
              "          const element = document.querySelector('#df-95b845de-7a04-4184-9030-e72f308c77e8');\n",
              "          const dataTable =\n",
              "            await google.colab.kernel.invokeFunction('convertToInteractive',\n",
              "                                                     [key], {});\n",
              "          if (!dataTable) return;\n",
              "\n",
              "          const docLinkHtml = 'Like what you see? Visit the ' +\n",
              "            '<a target=\"_blank\" href=https://colab.research.google.com/notebooks/data_table.ipynb>data table notebook</a>'\n",
              "            + ' to learn more about interactive tables.';\n",
              "          element.innerHTML = '';\n",
              "          dataTable['output_type'] = 'display_data';\n",
              "          await google.colab.output.renderOutput(dataTable, element);\n",
              "          const docLink = document.createElement('div');\n",
              "          docLink.innerHTML = docLinkHtml;\n",
              "          element.appendChild(docLink);\n",
              "        }\n",
              "      </script>\n",
              "    </div>\n",
              "  </div>\n",
              "  "
            ]
          },
          "metadata": {},
          "execution_count": 250
        }
      ]
    },
    {
      "cell_type": "code",
      "source": [
        "test['CO2'].head()"
      ],
      "metadata": {
        "id": "TH6ChWVQuUSm",
        "colab": {
          "base_uri": "https://localhost:8080/"
        },
        "outputId": "5bd822e8-7409-4cbf-99c5-6f1601b1e951"
      },
      "execution_count": null,
      "outputs": [
        {
          "output_type": "execute_result",
          "data": {
            "text/plain": [
              "Date_Heure\n",
              "2021-07-30 03:00:00    433.0\n",
              "2021-07-30 14:00:00    535.0\n",
              "2021-07-30 17:00:00    600.0\n",
              "2021-07-30 20:00:00    550.0\n",
              "2021-07-30 21:00:00    533.0\n",
              "Name: CO2, dtype: float64"
            ]
          },
          "metadata": {},
          "execution_count": 251
        }
      ]
    },
    {
      "cell_type": "code",
      "source": [
        "result_data = result_data[~result_data.index.duplicated()]"
      ],
      "metadata": {
        "id": "1BbCnCkXuUUl"
      },
      "execution_count": null,
      "outputs": []
    },
    {
      "cell_type": "code",
      "source": [
        "sns.lineplot(x=result_data['Date_Heure'],y=result_data['CO2'])\n",
        "test = test[~test.index.duplicated()]\n",
        "sns.lineplot(x=test.index\n",
        "             ,y=test['CO2'])"
      ],
      "metadata": {
        "id": "nTPl3V23uUWx",
        "colab": {
          "base_uri": "https://localhost:8080/",
          "height": 297
        },
        "outputId": "c5ce0d75-d3c9-4025-f160-eccc5a02ae68"
      },
      "execution_count": null,
      "outputs": [
        {
          "output_type": "execute_result",
          "data": {
            "text/plain": [
              "<matplotlib.axes._subplots.AxesSubplot at 0x7fa050618b10>"
            ]
          },
          "metadata": {},
          "execution_count": 253
        },
        {
          "output_type": "display_data",
          "data": {
            "text/plain": [
              "<Figure size 432x288 with 1 Axes>"
            ],
            "image/png": "[encoded data removed]"
          },
          "metadata": {
            "needs_background": "light"
          }
        }
      ]
    }
  ]
}