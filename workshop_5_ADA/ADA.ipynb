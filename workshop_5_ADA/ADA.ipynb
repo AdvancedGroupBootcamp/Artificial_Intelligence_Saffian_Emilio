{
  "cells": [
    {
      "cell_type": "markdown",
      "id": "a9322dcc",
      "metadata": {
        "id": "a9322dcc"
      },
      "source": [
        "# Workshop 5 ADA"
      ]
    },
    {
      "cell_type": "markdown",
      "id": "58fe5623",
      "metadata": {
        "id": "58fe5623"
      },
      "source": [
        "## Emilio and Saffian"
      ]
    },
    {
      "cell_type": "code",
      "execution_count": null,
      "id": "68409eae",
      "metadata": {
        "id": "68409eae"
      },
      "outputs": [],
      "source": [
        "# Libraries\n",
        "import pandas as pd\n",
        "import numpy as np\n",
        "import matplotlib.pyplot as plt\n",
        "%matplotlib inline\n",
        "import seaborn as sns\n",
        "\n",
        "import warnings\n",
        "warnings.filterwarnings('ignore')"
      ]
    },
    {
      "cell_type": "code",
      "execution_count": null,
      "id": "7e87d8bc",
      "metadata": {
        "id": "7e87d8bc"
      },
      "outputs": [],
      "source": [
        "# Read files\n",
        "train_data = pd.DataFrame(np.loadtxt('ada_train.data'))\n",
        "test_data = pd.DataFrame(np.loadtxt('ada_test.data'))\n",
        "valid_data = pd.DataFrame(np.loadtxt('ada_valid.data'))\n",
        "                          \n",
        "train_label = pd.DataFrame(np.loadtxt('ada_train.labels'))\n",
        "valid_label = pd.DataFrame(np.loadtxt('ada_valid.labels'))"
      ]
    },
    {
      "cell_type": "markdown",
      "id": "796f05bf",
      "metadata": {
        "id": "796f05bf"
      },
      "source": [
        "## EDA"
      ]
    },
    {
      "cell_type": "code",
      "execution_count": null,
      "id": "17442553",
      "metadata": {
        "colab": {
          "base_uri": "https://localhost:8080/",
          "height": 299
        },
        "id": "17442553",
        "outputId": "e913bab5-5765-4085-c7a3-f5d04ca2acc0"
      },
      "outputs": [
        {
          "output_type": "execute_result",
          "data": {
            "text/plain": [
              "       0    1    2      3    4    5    6    7    8    9   ...   38     39  \\\n",
              "4142  0.0  0.0  0.0   50.0  1.0  0.0  0.0  1.0  1.0  0.0  ...  0.0  404.0   \n",
              "4143  0.0  0.0  0.0  144.0  0.0  0.0  0.0  1.0  1.0  0.0  ...  0.0  404.0   \n",
              "4144  0.0  0.0  0.0  129.0  0.0  0.0  0.0  0.0  0.0  0.0  ...  0.0  353.0   \n",
              "4145  0.0  0.0  0.0  225.0  0.0  0.0  1.0  1.0  0.0  0.0  ...  0.0  303.0   \n",
              "4146  0.0  0.0  0.0   46.0  0.0  0.0  0.0  1.0  0.0  0.0  ...  0.0  404.0   \n",
              "\n",
              "       40   41   42   43   44   45   46   47  \n",
              "4142  0.0  0.0  0.0  0.0  0.0  0.0  0.0  1.0  \n",
              "4143  1.0  0.0  0.0  0.0  0.0  0.0  0.0  0.0  \n",
              "4144  1.0  1.0  0.0  0.0  0.0  0.0  0.0  0.0  \n",
              "4145  0.0  0.0  0.0  0.0  0.0  0.0  0.0  0.0  \n",
              "4146  0.0  0.0  0.0  1.0  0.0  1.0  0.0  0.0  \n",
              "\n",
              "[5 rows x 48 columns]"
            ],
            "text/html": [
              "\n",
              "  <div id=\"df-dddb0c10-d307-44c0-8060-c1092d832e13\">\n",
              "    <div class=\"colab-df-container\">\n",
              "      <div>\n",
              "<style scoped>\n",
              "    .dataframe tbody tr th:only-of-type {\n",
              "        vertical-align: middle;\n",
              "    }\n",
              "\n",
              "    .dataframe tbody tr th {\n",
              "        vertical-align: top;\n",
              "    }\n",
              "\n",
              "    .dataframe thead th {\n",
              "        text-align: right;\n",
              "    }\n",
              "</style>\n",
              "<table border=\"1\" class=\"dataframe\">\n",
              "  <thead>\n",
              "    <tr style=\"text-align: right;\">\n",
              "      <th></th>\n",
              "      <th>0</th>\n",
              "      <th>1</th>\n",
              "      <th>2</th>\n",
              "      <th>3</th>\n",
              "      <th>4</th>\n",
              "      <th>5</th>\n",
              "      <th>6</th>\n",
              "      <th>7</th>\n",
              "      <th>8</th>\n",
              "      <th>9</th>\n",
              "      <th>...</th>\n",
              "      <th>38</th>\n",
              "      <th>39</th>\n",
              "      <th>40</th>\n",
              "      <th>41</th>\n",
              "      <th>42</th>\n",
              "      <th>43</th>\n",
              "      <th>44</th>\n",
              "      <th>45</th>\n",
              "      <th>46</th>\n",
              "      <th>47</th>\n",
              "    </tr>\n",
              "  </thead>\n",
              "  <tbody>\n",
              "    <tr>\n",
              "      <th>4142</th>\n",
              "      <td>0.0</td>\n",
              "      <td>0.0</td>\n",
              "      <td>0.0</td>\n",
              "      <td>50.0</td>\n",
              "      <td>1.0</td>\n",
              "      <td>0.0</td>\n",
              "      <td>0.0</td>\n",
              "      <td>1.0</td>\n",
              "      <td>1.0</td>\n",
              "      <td>0.0</td>\n",
              "      <td>...</td>\n",
              "      <td>0.0</td>\n",
              "      <td>404.0</td>\n",
              "      <td>0.0</td>\n",
              "      <td>0.0</td>\n",
              "      <td>0.0</td>\n",
              "      <td>0.0</td>\n",
              "      <td>0.0</td>\n",
              "      <td>0.0</td>\n",
              "      <td>0.0</td>\n",
              "      <td>1.0</td>\n",
              "    </tr>\n",
              "    <tr>\n",
              "      <th>4143</th>\n",
              "      <td>0.0</td>\n",
              "      <td>0.0</td>\n",
              "      <td>0.0</td>\n",
              "      <td>144.0</td>\n",
              "      <td>0.0</td>\n",
              "      <td>0.0</td>\n",
              "      <td>0.0</td>\n",
              "      <td>1.0</td>\n",
              "      <td>1.0</td>\n",
              "      <td>0.0</td>\n",
              "      <td>...</td>\n",
              "      <td>0.0</td>\n",
              "      <td>404.0</td>\n",
              "      <td>1.0</td>\n",
              "      <td>0.0</td>\n",
              "      <td>0.0</td>\n",
              "      <td>0.0</td>\n",
              "      <td>0.0</td>\n",
              "      <td>0.0</td>\n",
              "      <td>0.0</td>\n",
              "      <td>0.0</td>\n",
              "    </tr>\n",
              "    <tr>\n",
              "      <th>4144</th>\n",
              "      <td>0.0</td>\n",
              "      <td>0.0</td>\n",
              "      <td>0.0</td>\n",
              "      <td>129.0</td>\n",
              "      <td>0.0</td>\n",
              "      <td>0.0</td>\n",
              "      <td>0.0</td>\n",
              "      <td>0.0</td>\n",
              "      <td>0.0</td>\n",
              "      <td>0.0</td>\n",
              "      <td>...</td>\n",
              "      <td>0.0</td>\n",
              "      <td>353.0</td>\n",
              "      <td>1.0</td>\n",
              "      <td>1.0</td>\n",
              "      <td>0.0</td>\n",
              "      <td>0.0</td>\n",
              "      <td>0.0</td>\n",
              "      <td>0.0</td>\n",
              "      <td>0.0</td>\n",
              "      <td>0.0</td>\n",
              "    </tr>\n",
              "    <tr>\n",
              "      <th>4145</th>\n",
              "      <td>0.0</td>\n",
              "      <td>0.0</td>\n",
              "      <td>0.0</td>\n",
              "      <td>225.0</td>\n",
              "      <td>0.0</td>\n",
              "      <td>0.0</td>\n",
              "      <td>1.0</td>\n",
              "      <td>1.0</td>\n",
              "      <td>0.0</td>\n",
              "      <td>0.0</td>\n",
              "      <td>...</td>\n",
              "      <td>0.0</td>\n",
              "      <td>303.0</td>\n",
              "      <td>0.0</td>\n",
              "      <td>0.0</td>\n",
              "      <td>0.0</td>\n",
              "      <td>0.0</td>\n",
              "      <td>0.0</td>\n",
              "      <td>0.0</td>\n",
              "      <td>0.0</td>\n",
              "      <td>0.0</td>\n",
              "    </tr>\n",
              "    <tr>\n",
              "      <th>4146</th>\n",
              "      <td>0.0</td>\n",
              "      <td>0.0</td>\n",
              "      <td>0.0</td>\n",
              "      <td>46.0</td>\n",
              "      <td>0.0</td>\n",
              "      <td>0.0</td>\n",
              "      <td>0.0</td>\n",
              "      <td>1.0</td>\n",
              "      <td>0.0</td>\n",
              "      <td>0.0</td>\n",
              "      <td>...</td>\n",
              "      <td>0.0</td>\n",
              "      <td>404.0</td>\n",
              "      <td>0.0</td>\n",
              "      <td>0.0</td>\n",
              "      <td>0.0</td>\n",
              "      <td>1.0</td>\n",
              "      <td>0.0</td>\n",
              "      <td>1.0</td>\n",
              "      <td>0.0</td>\n",
              "      <td>0.0</td>\n",
              "    </tr>\n",
              "  </tbody>\n",
              "</table>\n",
              "<p>5 rows × 48 columns</p>\n",
              "</div>\n",
              "      <button class=\"colab-df-convert\" onclick=\"convertToInteractive('df-dddb0c10-d307-44c0-8060-c1092d832e13')\"\n",
              "              title=\"Convert this dataframe to an interactive table.\"\n",
              "              style=\"display:none;\">\n",
              "        \n",
              "  <svg xmlns=\"http://www.w3.org/2000/svg\" height=\"24px\"viewBox=\"0 0 24 24\"\n",
              "       width=\"24px\">\n",
              "    <path d=\"M0 0h24v24H0V0z\" fill=\"none\"/>\n",
              "    <path d=\"M18.56 5.44l.94 2.06.94-2.06 2.06-.94-2.06-.94-.94-2.06-.94 2.06-2.06.94zm-11 1L8.5 8.5l.94-2.06 2.06-.94-2.06-.94L8.5 2.5l-.94 2.06-2.06.94zm10 10l.94 2.06.94-2.06 2.06-.94-2.06-.94-.94-2.06-.94 2.06-2.06.94z\"/><path d=\"M17.41 7.96l-1.37-1.37c-.4-.4-.92-.59-1.43-.59-.52 0-1.04.2-1.43.59L10.3 9.45l-7.72 7.72c-.78.78-.78 2.05 0 2.83L4 21.41c.39.39.9.59 1.41.59.51 0 1.02-.2 1.41-.59l7.78-7.78 2.81-2.81c.8-.78.8-2.07 0-2.86zM5.41 20L4 18.59l7.72-7.72 1.47 1.35L5.41 20z\"/>\n",
              "  </svg>\n",
              "      </button>\n",
              "      \n",
              "  <style>\n",
              "    .colab-df-container {\n",
              "      display:flex;\n",
              "      flex-wrap:wrap;\n",
              "      gap: 12px;\n",
              "    }\n",
              "\n",
              "    .colab-df-convert {\n",
              "      background-color: #E8F0FE;\n",
              "      border: none;\n",
              "      border-radius: 50%;\n",
              "      cursor: pointer;\n",
              "      display: none;\n",
              "      fill: #1967D2;\n",
              "      height: 32px;\n",
              "      padding: 0 0 0 0;\n",
              "      width: 32px;\n",
              "    }\n",
              "\n",
              "    .colab-df-convert:hover {\n",
              "      background-color: #E2EBFA;\n",
              "      box-shadow: 0px 1px 2px rgba(60, 64, 67, 0.3), 0px 1px 3px 1px rgba(60, 64, 67, 0.15);\n",
              "      fill: #174EA6;\n",
              "    }\n",
              "\n",
              "    [theme=dark] .colab-df-convert {\n",
              "      background-color: #3B4455;\n",
              "      fill: #D2E3FC;\n",
              "    }\n",
              "\n",
              "    [theme=dark] .colab-df-convert:hover {\n",
              "      background-color: #434B5C;\n",
              "      box-shadow: 0px 1px 3px 1px rgba(0, 0, 0, 0.15);\n",
              "      filter: drop-shadow(0px 1px 2px rgba(0, 0, 0, 0.3));\n",
              "      fill: #FFFFFF;\n",
              "    }\n",
              "  </style>\n",
              "\n",
              "      <script>\n",
              "        const buttonEl =\n",
              "          document.querySelector('#df-dddb0c10-d307-44c0-8060-c1092d832e13 button.colab-df-convert');\n",
              "        buttonEl.style.display =\n",
              "          google.colab.kernel.accessAllowed ? 'block' : 'none';\n",
              "\n",
              "        async function convertToInteractive(key) {\n",
              "          const element = document.querySelector('#df-dddb0c10-d307-44c0-8060-c1092d832e13');\n",
              "          const dataTable =\n",
              "            await google.colab.kernel.invokeFunction('convertToInteractive',\n",
              "                                                     [key], {});\n",
              "          if (!dataTable) return;\n",
              "\n",
              "          const docLinkHtml = 'Like what you see? Visit the ' +\n",
              "            '<a target=\"_blank\" href=https://colab.research.google.com/notebooks/data_table.ipynb>data table notebook</a>'\n",
              "            + ' to learn more about interactive tables.';\n",
              "          element.innerHTML = '';\n",
              "          dataTable['output_type'] = 'display_data';\n",
              "          await google.colab.output.renderOutput(dataTable, element);\n",
              "          const docLink = document.createElement('div');\n",
              "          docLink.innerHTML = docLinkHtml;\n",
              "          element.appendChild(docLink);\n",
              "        }\n",
              "      </script>\n",
              "    </div>\n",
              "  </div>\n",
              "  "
            ]
          },
          "metadata": {},
          "execution_count": 132
        }
      ],
      "source": [
        "train_data.tail()"
      ]
    },
    {
      "cell_type": "code",
      "execution_count": null,
      "id": "24ab65dc",
      "metadata": {
        "colab": {
          "base_uri": "https://localhost:8080/"
        },
        "id": "24ab65dc",
        "outputId": "59b30557-cb4d-4b91-8144-d02f5de3e108"
      },
      "outputs": [
        {
          "output_type": "stream",
          "name": "stdout",
          "text": [
            "<class 'pandas.core.frame.DataFrame'>\n",
            "RangeIndex: 4147 entries, 0 to 4146\n",
            "Data columns (total 48 columns):\n",
            " #   Column  Non-Null Count  Dtype  \n",
            "---  ------  --------------  -----  \n",
            " 0   0       4147 non-null   float64\n",
            " 1   1       4147 non-null   float64\n",
            " 2   2       4147 non-null   float64\n",
            " 3   3       4147 non-null   float64\n",
            " 4   4       4147 non-null   float64\n",
            " 5   5       4147 non-null   float64\n",
            " 6   6       4147 non-null   float64\n",
            " 7   7       4147 non-null   float64\n",
            " 8   8       4147 non-null   float64\n",
            " 9   9       4147 non-null   float64\n",
            " 10  10      4147 non-null   float64\n",
            " 11  11      4147 non-null   float64\n",
            " 12  12      4147 non-null   float64\n",
            " 13  13      4147 non-null   float64\n",
            " 14  14      4147 non-null   float64\n",
            " 15  15      4147 non-null   float64\n",
            " 16  16      4147 non-null   float64\n",
            " 17  17      4147 non-null   float64\n",
            " 18  18      4147 non-null   float64\n",
            " 19  19      4147 non-null   float64\n",
            " 20  20      4147 non-null   float64\n",
            " 21  21      4147 non-null   float64\n",
            " 22  22      4147 non-null   float64\n",
            " 23  23      4147 non-null   float64\n",
            " 24  24      4147 non-null   float64\n",
            " 25  25      4147 non-null   float64\n",
            " 26  26      4147 non-null   float64\n",
            " 27  27      4147 non-null   float64\n",
            " 28  28      4147 non-null   float64\n",
            " 29  29      4147 non-null   float64\n",
            " 30  30      4147 non-null   float64\n",
            " 31  31      4147 non-null   float64\n",
            " 32  32      4147 non-null   float64\n",
            " 33  33      4147 non-null   float64\n",
            " 34  34      4147 non-null   float64\n",
            " 35  35      4147 non-null   float64\n",
            " 36  36      4147 non-null   float64\n",
            " 37  37      4147 non-null   float64\n",
            " 38  38      4147 non-null   float64\n",
            " 39  39      4147 non-null   float64\n",
            " 40  40      4147 non-null   float64\n",
            " 41  41      4147 non-null   float64\n",
            " 42  42      4147 non-null   float64\n",
            " 43  43      4147 non-null   float64\n",
            " 44  44      4147 non-null   float64\n",
            " 45  45      4147 non-null   float64\n",
            " 46  46      4147 non-null   float64\n",
            " 47  47      4147 non-null   float64\n",
            "dtypes: float64(48)\n",
            "memory usage: 1.5 MB\n"
          ]
        }
      ],
      "source": [
        "train_data.info()"
      ]
    },
    {
      "cell_type": "code",
      "execution_count": null,
      "id": "4f370ba7",
      "metadata": {
        "colab": {
          "base_uri": "https://localhost:8080/",
          "height": 394
        },
        "id": "4f370ba7",
        "outputId": "9f1d8956-a30e-45e3-a61d-a540fe4abe5a"
      },
      "outputs": [
        {
          "output_type": "execute_result",
          "data": {
            "text/plain": [
              "                0            1            2            3            4   \\\n",
              "count  4147.000000  4147.000000  4147.000000  4147.000000  4147.000000   \n",
              "mean      0.008922     0.028937     0.120569   126.408006     0.104895   \n",
              "std       0.094046     0.167649     0.325665    69.754074     0.306455   \n",
              "min       0.000000     0.000000     0.000000    13.000000     0.000000   \n",
              "25%       0.000000     0.000000     0.000000    78.500000     0.000000   \n",
              "50%       0.000000     0.000000     0.000000   119.000000     0.000000   \n",
              "75%       0.000000     0.000000     0.000000   160.000000     0.000000   \n",
              "max       1.000000     1.000000     1.000000   995.000000     1.000000   \n",
              "\n",
              "                5            6            7            8            9   ...  \\\n",
              "count  4147.000000  4147.000000  4147.000000  4147.000000  4147.000000  ...   \n",
              "mean      0.028454     0.140825     0.860140     0.134314    20.033036  ...   \n",
              "std       0.166287     0.347883     0.346884     0.341030    91.933304  ...   \n",
              "min       0.000000     0.000000     0.000000     0.000000     0.000000  ...   \n",
              "25%       0.000000     0.000000     1.000000     0.000000     0.000000  ...   \n",
              "50%       0.000000     0.000000     1.000000     0.000000     0.000000  ...   \n",
              "75%       0.000000     0.000000     1.000000     0.000000     0.000000  ...   \n",
              "max       1.000000     1.000000     1.000000     1.000000   648.000000  ...   \n",
              "\n",
              "                38           39           40           41           42  \\\n",
              "count  4147.000000  4147.000000  4147.000000  4147.000000  4147.000000   \n",
              "mean      0.004823   411.804196     0.266458     0.106824     0.000482   \n",
              "std       0.069287   119.999993     0.442160     0.308927     0.021958   \n",
              "min       0.000000    10.000000     0.000000     0.000000     0.000000   \n",
              "25%       0.000000   404.000000     0.000000     0.000000     0.000000   \n",
              "50%       0.000000   404.000000     0.000000     0.000000     0.000000   \n",
              "75%       0.000000   454.000000     1.000000     0.000000     0.000000   \n",
              "max       1.000000   999.000000     1.000000     1.000000     1.000000   \n",
              "\n",
              "                43           44           45           46           47  \n",
              "count  4147.000000  4147.000000  4147.000000  4147.000000  4147.000000  \n",
              "mean      0.463950     0.073065     0.140825     0.000241     0.029901  \n",
              "std       0.498759     0.260274     0.347883     0.015529     0.170335  \n",
              "min       0.000000     0.000000     0.000000     0.000000     0.000000  \n",
              "25%       0.000000     0.000000     0.000000     0.000000     0.000000  \n",
              "50%       0.000000     0.000000     0.000000     0.000000     0.000000  \n",
              "75%       1.000000     0.000000     0.000000     0.000000     0.000000  \n",
              "max       1.000000     1.000000     1.000000     1.000000     1.000000  \n",
              "\n",
              "[8 rows x 48 columns]"
            ],
            "text/html": [
              "\n",
              "  <div id=\"df-5dfaee40-a9f5-4a91-8a34-e4a1342b8c9c\">\n",
              "    <div class=\"colab-df-container\">\n",
              "      <div>\n",
              "<style scoped>\n",
              "    .dataframe tbody tr th:only-of-type {\n",
              "        vertical-align: middle;\n",
              "    }\n",
              "\n",
              "    .dataframe tbody tr th {\n",
              "        vertical-align: top;\n",
              "    }\n",
              "\n",
              "    .dataframe thead th {\n",
              "        text-align: right;\n",
              "    }\n",
              "</style>\n",
              "<table border=\"1\" class=\"dataframe\">\n",
              "  <thead>\n",
              "    <tr style=\"text-align: right;\">\n",
              "      <th></th>\n",
              "      <th>0</th>\n",
              "      <th>1</th>\n",
              "      <th>2</th>\n",
              "      <th>3</th>\n",
              "      <th>4</th>\n",
              "      <th>5</th>\n",
              "      <th>6</th>\n",
              "      <th>7</th>\n",
              "      <th>8</th>\n",
              "      <th>9</th>\n",
              "      <th>...</th>\n",
              "      <th>38</th>\n",
              "      <th>39</th>\n",
              "      <th>40</th>\n",
              "      <th>41</th>\n",
              "      <th>42</th>\n",
              "      <th>43</th>\n",
              "      <th>44</th>\n",
              "      <th>45</th>\n",
              "      <th>46</th>\n",
              "      <th>47</th>\n",
              "    </tr>\n",
              "  </thead>\n",
              "  <tbody>\n",
              "    <tr>\n",
              "      <th>count</th>\n",
              "      <td>4147.000000</td>\n",
              "      <td>4147.000000</td>\n",
              "      <td>4147.000000</td>\n",
              "      <td>4147.000000</td>\n",
              "      <td>4147.000000</td>\n",
              "      <td>4147.000000</td>\n",
              "      <td>4147.000000</td>\n",
              "      <td>4147.000000</td>\n",
              "      <td>4147.000000</td>\n",
              "      <td>4147.000000</td>\n",
              "      <td>...</td>\n",
              "      <td>4147.000000</td>\n",
              "      <td>4147.000000</td>\n",
              "      <td>4147.000000</td>\n",
              "      <td>4147.000000</td>\n",
              "      <td>4147.000000</td>\n",
              "      <td>4147.000000</td>\n",
              "      <td>4147.000000</td>\n",
              "      <td>4147.000000</td>\n",
              "      <td>4147.000000</td>\n",
              "      <td>4147.000000</td>\n",
              "    </tr>\n",
              "    <tr>\n",
              "      <th>mean</th>\n",
              "      <td>0.008922</td>\n",
              "      <td>0.028937</td>\n",
              "      <td>0.120569</td>\n",
              "      <td>126.408006</td>\n",
              "      <td>0.104895</td>\n",
              "      <td>0.028454</td>\n",
              "      <td>0.140825</td>\n",
              "      <td>0.860140</td>\n",
              "      <td>0.134314</td>\n",
              "      <td>20.033036</td>\n",
              "      <td>...</td>\n",
              "      <td>0.004823</td>\n",
              "      <td>411.804196</td>\n",
              "      <td>0.266458</td>\n",
              "      <td>0.106824</td>\n",
              "      <td>0.000482</td>\n",
              "      <td>0.463950</td>\n",
              "      <td>0.073065</td>\n",
              "      <td>0.140825</td>\n",
              "      <td>0.000241</td>\n",
              "      <td>0.029901</td>\n",
              "    </tr>\n",
              "    <tr>\n",
              "      <th>std</th>\n",
              "      <td>0.094046</td>\n",
              "      <td>0.167649</td>\n",
              "      <td>0.325665</td>\n",
              "      <td>69.754074</td>\n",
              "      <td>0.306455</td>\n",
              "      <td>0.166287</td>\n",
              "      <td>0.347883</td>\n",
              "      <td>0.346884</td>\n",
              "      <td>0.341030</td>\n",
              "      <td>91.933304</td>\n",
              "      <td>...</td>\n",
              "      <td>0.069287</td>\n",
              "      <td>119.999993</td>\n",
              "      <td>0.442160</td>\n",
              "      <td>0.308927</td>\n",
              "      <td>0.021958</td>\n",
              "      <td>0.498759</td>\n",
              "      <td>0.260274</td>\n",
              "      <td>0.347883</td>\n",
              "      <td>0.015529</td>\n",
              "      <td>0.170335</td>\n",
              "    </tr>\n",
              "    <tr>\n",
              "      <th>min</th>\n",
              "      <td>0.000000</td>\n",
              "      <td>0.000000</td>\n",
              "      <td>0.000000</td>\n",
              "      <td>13.000000</td>\n",
              "      <td>0.000000</td>\n",
              "      <td>0.000000</td>\n",
              "      <td>0.000000</td>\n",
              "      <td>0.000000</td>\n",
              "      <td>0.000000</td>\n",
              "      <td>0.000000</td>\n",
              "      <td>...</td>\n",
              "      <td>0.000000</td>\n",
              "      <td>10.000000</td>\n",
              "      <td>0.000000</td>\n",
              "      <td>0.000000</td>\n",
              "      <td>0.000000</td>\n",
              "      <td>0.000000</td>\n",
              "      <td>0.000000</td>\n",
              "      <td>0.000000</td>\n",
              "      <td>0.000000</td>\n",
              "      <td>0.000000</td>\n",
              "    </tr>\n",
              "    <tr>\n",
              "      <th>25%</th>\n",
              "      <td>0.000000</td>\n",
              "      <td>0.000000</td>\n",
              "      <td>0.000000</td>\n",
              "      <td>78.500000</td>\n",
              "      <td>0.000000</td>\n",
              "      <td>0.000000</td>\n",
              "      <td>0.000000</td>\n",
              "      <td>1.000000</td>\n",
              "      <td>0.000000</td>\n",
              "      <td>0.000000</td>\n",
              "      <td>...</td>\n",
              "      <td>0.000000</td>\n",
              "      <td>404.000000</td>\n",
              "      <td>0.000000</td>\n",
              "      <td>0.000000</td>\n",
              "      <td>0.000000</td>\n",
              "      <td>0.000000</td>\n",
              "      <td>0.000000</td>\n",
              "      <td>0.000000</td>\n",
              "      <td>0.000000</td>\n",
              "      <td>0.000000</td>\n",
              "    </tr>\n",
              "    <tr>\n",
              "      <th>50%</th>\n",
              "      <td>0.000000</td>\n",
              "      <td>0.000000</td>\n",
              "      <td>0.000000</td>\n",
              "      <td>119.000000</td>\n",
              "      <td>0.000000</td>\n",
              "      <td>0.000000</td>\n",
              "      <td>0.000000</td>\n",
              "      <td>1.000000</td>\n",
              "      <td>0.000000</td>\n",
              "      <td>0.000000</td>\n",
              "      <td>...</td>\n",
              "      <td>0.000000</td>\n",
              "      <td>404.000000</td>\n",
              "      <td>0.000000</td>\n",
              "      <td>0.000000</td>\n",
              "      <td>0.000000</td>\n",
              "      <td>0.000000</td>\n",
              "      <td>0.000000</td>\n",
              "      <td>0.000000</td>\n",
              "      <td>0.000000</td>\n",
              "      <td>0.000000</td>\n",
              "    </tr>\n",
              "    <tr>\n",
              "      <th>75%</th>\n",
              "      <td>0.000000</td>\n",
              "      <td>0.000000</td>\n",
              "      <td>0.000000</td>\n",
              "      <td>160.000000</td>\n",
              "      <td>0.000000</td>\n",
              "      <td>0.000000</td>\n",
              "      <td>0.000000</td>\n",
              "      <td>1.000000</td>\n",
              "      <td>0.000000</td>\n",
              "      <td>0.000000</td>\n",
              "      <td>...</td>\n",
              "      <td>0.000000</td>\n",
              "      <td>454.000000</td>\n",
              "      <td>1.000000</td>\n",
              "      <td>0.000000</td>\n",
              "      <td>0.000000</td>\n",
              "      <td>1.000000</td>\n",
              "      <td>0.000000</td>\n",
              "      <td>0.000000</td>\n",
              "      <td>0.000000</td>\n",
              "      <td>0.000000</td>\n",
              "    </tr>\n",
              "    <tr>\n",
              "      <th>max</th>\n",
              "      <td>1.000000</td>\n",
              "      <td>1.000000</td>\n",
              "      <td>1.000000</td>\n",
              "      <td>995.000000</td>\n",
              "      <td>1.000000</td>\n",
              "      <td>1.000000</td>\n",
              "      <td>1.000000</td>\n",
              "      <td>1.000000</td>\n",
              "      <td>1.000000</td>\n",
              "      <td>648.000000</td>\n",
              "      <td>...</td>\n",
              "      <td>1.000000</td>\n",
              "      <td>999.000000</td>\n",
              "      <td>1.000000</td>\n",
              "      <td>1.000000</td>\n",
              "      <td>1.000000</td>\n",
              "      <td>1.000000</td>\n",
              "      <td>1.000000</td>\n",
              "      <td>1.000000</td>\n",
              "      <td>1.000000</td>\n",
              "      <td>1.000000</td>\n",
              "    </tr>\n",
              "  </tbody>\n",
              "</table>\n",
              "<p>8 rows × 48 columns</p>\n",
              "</div>\n",
              "      <button class=\"colab-df-convert\" onclick=\"convertToInteractive('df-5dfaee40-a9f5-4a91-8a34-e4a1342b8c9c')\"\n",
              "              title=\"Convert this dataframe to an interactive table.\"\n",
              "              style=\"display:none;\">\n",
              "        \n",
              "  <svg xmlns=\"http://www.w3.org/2000/svg\" height=\"24px\"viewBox=\"0 0 24 24\"\n",
              "       width=\"24px\">\n",
              "    <path d=\"M0 0h24v24H0V0z\" fill=\"none\"/>\n",
              "    <path d=\"M18.56 5.44l.94 2.06.94-2.06 2.06-.94-2.06-.94-.94-2.06-.94 2.06-2.06.94zm-11 1L8.5 8.5l.94-2.06 2.06-.94-2.06-.94L8.5 2.5l-.94 2.06-2.06.94zm10 10l.94 2.06.94-2.06 2.06-.94-2.06-.94-.94-2.06-.94 2.06-2.06.94z\"/><path d=\"M17.41 7.96l-1.37-1.37c-.4-.4-.92-.59-1.43-.59-.52 0-1.04.2-1.43.59L10.3 9.45l-7.72 7.72c-.78.78-.78 2.05 0 2.83L4 21.41c.39.39.9.59 1.41.59.51 0 1.02-.2 1.41-.59l7.78-7.78 2.81-2.81c.8-.78.8-2.07 0-2.86zM5.41 20L4 18.59l7.72-7.72 1.47 1.35L5.41 20z\"/>\n",
              "  </svg>\n",
              "      </button>\n",
              "      \n",
              "  <style>\n",
              "    .colab-df-container {\n",
              "      display:flex;\n",
              "      flex-wrap:wrap;\n",
              "      gap: 12px;\n",
              "    }\n",
              "\n",
              "    .colab-df-convert {\n",
              "      background-color: #E8F0FE;\n",
              "      border: none;\n",
              "      border-radius: 50%;\n",
              "      cursor: pointer;\n",
              "      display: none;\n",
              "      fill: #1967D2;\n",
              "      height: 32px;\n",
              "      padding: 0 0 0 0;\n",
              "      width: 32px;\n",
              "    }\n",
              "\n",
              "    .colab-df-convert:hover {\n",
              "      background-color: #E2EBFA;\n",
              "      box-shadow: 0px 1px 2px rgba(60, 64, 67, 0.3), 0px 1px 3px 1px rgba(60, 64, 67, 0.15);\n",
              "      fill: #174EA6;\n",
              "    }\n",
              "\n",
              "    [theme=dark] .colab-df-convert {\n",
              "      background-color: #3B4455;\n",
              "      fill: #D2E3FC;\n",
              "    }\n",
              "\n",
              "    [theme=dark] .colab-df-convert:hover {\n",
              "      background-color: #434B5C;\n",
              "      box-shadow: 0px 1px 3px 1px rgba(0, 0, 0, 0.15);\n",
              "      filter: drop-shadow(0px 1px 2px rgba(0, 0, 0, 0.3));\n",
              "      fill: #FFFFFF;\n",
              "    }\n",
              "  </style>\n",
              "\n",
              "      <script>\n",
              "        const buttonEl =\n",
              "          document.querySelector('#df-5dfaee40-a9f5-4a91-8a34-e4a1342b8c9c button.colab-df-convert');\n",
              "        buttonEl.style.display =\n",
              "          google.colab.kernel.accessAllowed ? 'block' : 'none';\n",
              "\n",
              "        async function convertToInteractive(key) {\n",
              "          const element = document.querySelector('#df-5dfaee40-a9f5-4a91-8a34-e4a1342b8c9c');\n",
              "          const dataTable =\n",
              "            await google.colab.kernel.invokeFunction('convertToInteractive',\n",
              "                                                     [key], {});\n",
              "          if (!dataTable) return;\n",
              "\n",
              "          const docLinkHtml = 'Like what you see? Visit the ' +\n",
              "            '<a target=\"_blank\" href=https://colab.research.google.com/notebooks/data_table.ipynb>data table notebook</a>'\n",
              "            + ' to learn more about interactive tables.';\n",
              "          element.innerHTML = '';\n",
              "          dataTable['output_type'] = 'display_data';\n",
              "          await google.colab.output.renderOutput(dataTable, element);\n",
              "          const docLink = document.createElement('div');\n",
              "          docLink.innerHTML = docLinkHtml;\n",
              "          element.appendChild(docLink);\n",
              "        }\n",
              "      </script>\n",
              "    </div>\n",
              "  </div>\n",
              "  "
            ]
          },
          "metadata": {},
          "execution_count": 134
        }
      ],
      "source": [
        "train_data.describe()"
      ]
    },
    {
      "cell_type": "code",
      "execution_count": null,
      "id": "a1052298",
      "metadata": {
        "colab": {
          "base_uri": "https://localhost:8080/",
          "height": 281
        },
        "id": "a1052298",
        "outputId": "a8b5bed0-4723-4f25-c83a-b7df89532673"
      },
      "outputs": [
        {
          "output_type": "display_data",
          "data": {
            "text/plain": [
              "<Figure size 432x288 with 1 Axes>"
            ],
            "image/png": "[encoded data removed]"
          },
          "metadata": {
            "needs_background": "light"
          }
        }
      ],
      "source": [
        "# Gráficos de missing values\n",
        "sns.heatmap(train_data.isnull(), yticklabels=False, cbar=False, cmap='viridis').set(title=\"Missing Values\")\n",
        "plt.savefig('heatmaptraindata.png',bbox_inches='tight')"
      ]
    },
    {
      "cell_type": "code",
      "execution_count": null,
      "id": "bace3f8a",
      "metadata": {
        "colab": {
          "base_uri": "https://localhost:8080/"
        },
        "id": "bace3f8a",
        "outputId": "55f49293-b397-4692-bbff-1a6cb31876ff"
      },
      "outputs": [
        {
          "output_type": "execute_result",
          "data": {
            "text/plain": [
              "0       2\n",
              "1       2\n",
              "2       2\n",
              "3     330\n",
              "4       2\n",
              "5       2\n",
              "6       2\n",
              "7       2\n",
              "8       2\n",
              "9      48\n",
              "10      2\n",
              "11      2\n",
              "12      2\n",
              "13      1\n",
              "14     16\n",
              "15      2\n",
              "16      2\n",
              "17      2\n",
              "18      2\n",
              "19      2\n",
              "20      1\n",
              "21      2\n",
              "22      2\n",
              "23      2\n",
              "24     69\n",
              "25      2\n",
              "26      2\n",
              "27      2\n",
              "28      2\n",
              "29      2\n",
              "30      2\n",
              "31     51\n",
              "32      2\n",
              "33      2\n",
              "34      2\n",
              "35      2\n",
              "36      2\n",
              "37      2\n",
              "38      2\n",
              "39     75\n",
              "40      2\n",
              "41      2\n",
              "42      2\n",
              "43      2\n",
              "44      2\n",
              "45      2\n",
              "46      2\n",
              "47      2\n",
              "dtype: int64"
            ]
          },
          "metadata": {},
          "execution_count": 136
        }
      ],
      "source": [
        "valid_data.nunique()\n",
        "train_data.nunique()"
      ]
    },
    {
      "cell_type": "code",
      "execution_count": null,
      "id": "a98ef05f",
      "metadata": {
        "id": "a98ef05f"
      },
      "outputs": [],
      "source": [
        "#train_data.hist(figsize=(20,20))"
      ]
    },
    {
      "cell_type": "code",
      "execution_count": null,
      "id": "cb81271c",
      "metadata": {
        "colab": {
          "base_uri": "https://localhost:8080/",
          "height": 289
        },
        "id": "cb81271c",
        "outputId": "70a6b84f-8adb-4f2f-b970-c9f0bf8ea455"
      },
      "outputs": [
        {
          "output_type": "execute_result",
          "data": {
            "text/plain": [
              "<matplotlib.axes._subplots.AxesSubplot at 0x7fcb98135a50>"
            ]
          },
          "metadata": {},
          "execution_count": 138
        },
        {
          "output_type": "display_data",
          "data": {
            "text/plain": [
              "<Figure size 432x288 with 2 Axes>"
            ],
            "image/png": "[encoded data removed]"
          },
          "metadata": {
            "needs_background": "light"
          }
        }
      ],
      "source": [
        "sns.heatmap(train_data.corr())"
      ]
    },
    {
      "cell_type": "code",
      "execution_count": null,
      "id": "fdfa82f9",
      "metadata": {
        "colab": {
          "base_uri": "https://localhost:8080/"
        },
        "id": "fdfa82f9",
        "outputId": "4559e5c3-9198-40ec-9ceb-08fdea1a2a26"
      },
      "outputs": [
        {
          "output_type": "execute_result",
          "data": {
            "text/plain": [
              "0       0.0\n",
              "1       0.0\n",
              "2       0.0\n",
              "3       0.0\n",
              "4       0.0\n",
              "       ... \n",
              "4142    0.0\n",
              "4143    0.0\n",
              "4144    0.0\n",
              "4145    0.0\n",
              "4146    0.0\n",
              "Name: 13, Length: 4147, dtype: float64"
            ]
          },
          "metadata": {},
          "execution_count": 139
        }
      ],
      "source": [
        "train_data[20]\n",
        "train_data[13]"
      ]
    },
    {
      "cell_type": "code",
      "execution_count": null,
      "id": "8c0d53f3",
      "metadata": {
        "colab": {
          "base_uri": "https://localhost:8080/",
          "height": 286
        },
        "id": "8c0d53f3",
        "outputId": "fd45ae96-ce82-4abf-9e4f-37e93bcd650b"
      },
      "outputs": [
        {
          "output_type": "execute_result",
          "data": {
            "text/plain": [
              "<matplotlib.axes._subplots.AxesSubplot at 0x7fcb95ae1c50>"
            ]
          },
          "metadata": {},
          "execution_count": 140
        },
        {
          "output_type": "display_data",
          "data": {
            "text/plain": [
              "<Figure size 432x288 with 2 Axes>"
            ],
            "image/png": "[encoded data removed]"
          },
          "metadata": {
            "needs_background": "light"
          }
        }
      ],
      "source": [
        "sns.heatmap(train_data[[3,9,14,24,31,39]].corr(), annot=True)"
      ]
    },
    {
      "cell_type": "code",
      "execution_count": null,
      "id": "d1268cf0",
      "metadata": {
        "colab": {
          "base_uri": "https://localhost:8080/"
        },
        "id": "d1268cf0",
        "outputId": "0e86454e-4519-4841-a870-7ced48812c6e"
      },
      "outputs": [
        {
          "output_type": "execute_result",
          "data": {
            "text/plain": [
              "(415, 48)"
            ]
          },
          "metadata": {},
          "execution_count": 141
        }
      ],
      "source": [
        "valid_data.shape"
      ]
    },
    {
      "cell_type": "code",
      "execution_count": null,
      "id": "719631fe",
      "metadata": {
        "colab": {
          "base_uri": "https://localhost:8080/"
        },
        "id": "719631fe",
        "outputId": "66ffe3bd-005a-4e6c-9c4e-67aec55498bb"
      },
      "outputs": [
        {
          "output_type": "execute_result",
          "data": {
            "text/plain": [
              "(4147, 48)"
            ]
          },
          "metadata": {},
          "execution_count": 142
        }
      ],
      "source": [
        "train_data.shape"
      ]
    },
    {
      "cell_type": "code",
      "execution_count": null,
      "id": "d3fb66f6",
      "metadata": {
        "colab": {
          "base_uri": "https://localhost:8080/"
        },
        "id": "d3fb66f6",
        "outputId": "11341266-080e-4dd1-b346-37ca27ba3365"
      },
      "outputs": [
        {
          "output_type": "execute_result",
          "data": {
            "text/plain": [
              "(4147, 1)"
            ]
          },
          "metadata": {},
          "execution_count": 143
        }
      ],
      "source": [
        "train_label.shape"
      ]
    },
    {
      "cell_type": "code",
      "execution_count": null,
      "id": "666be7b6",
      "metadata": {
        "colab": {
          "base_uri": "https://localhost:8080/",
          "height": 301
        },
        "id": "666be7b6",
        "outputId": "f3655339-b470-4971-d1cc-78e7df824409"
      },
      "outputs": [
        {
          "output_type": "execute_result",
          "data": {
            "text/plain": [
              "<matplotlib.axes._subplots.AxesSubplot at 0x7fcb95b8a710>"
            ]
          },
          "metadata": {},
          "execution_count": 144
        },
        {
          "output_type": "display_data",
          "data": {
            "text/plain": [
              "<Figure size 432x288 with 2 Axes>"
            ],
            "image/png": "[encoded data removed]"
          },
          "metadata": {
            "needs_background": "light"
          }
        }
      ],
      "source": [
        "temp=train_data.copy()\n",
        "temp['label']=train_label\n",
        "sns.heatmap(temp.corr())"
      ]
    },
    {
      "cell_type": "code",
      "execution_count": null,
      "id": "cf3cbd1c",
      "metadata": {
        "colab": {
          "base_uri": "https://localhost:8080/",
          "height": 286
        },
        "id": "cf3cbd1c",
        "outputId": "9226de1b-d666-4ea4-c588-8911458976b6"
      },
      "outputs": [
        {
          "output_type": "execute_result",
          "data": {
            "text/plain": [
              "<matplotlib.axes._subplots.AxesSubplot at 0x7fcb987ea950>"
            ]
          },
          "metadata": {},
          "execution_count": 145
        },
        {
          "output_type": "display_data",
          "data": {
            "text/plain": [
              "<Figure size 432x288 with 2 Axes>"
            ],
            "image/png": "[encoded data removed]"
          },
          "metadata": {
            "needs_background": "light"
          }
        }
      ],
      "source": [
        "sns.heatmap(temp[[3,9,14,24,31,39,'label']].corr(), annot=True)"
      ]
    },
    {
      "cell_type": "markdown",
      "id": "53adb7da",
      "metadata": {
        "id": "53adb7da"
      },
      "source": [
        "## Machine Learning"
      ]
    },
    {
      "cell_type": "code",
      "execution_count": null,
      "id": "67d0c327",
      "metadata": {
        "id": "67d0c327"
      },
      "outputs": [],
      "source": [
        "from sklearn.naive_bayes import GaussianNB, BernoulliNB, MultinomialNB\n",
        "from sklearn.metrics import classification_report\n",
        "from sklearn import metrics\n",
        "from sklearn import model_selection\n",
        "from sklearn.model_selection import train_test_split\n",
        "from sklearn.model_selection import cross_val_score\n",
        "from sklearn.metrics import confusion_matrix\n",
        "from sklearn.metrics import plot_confusion_matrix\n",
        "from sklearn.metrics import plot_roc_curve\n",
        "from sklearn.metrics import accuracy_score\n",
        "from sklearn.preprocessing import MinMaxScaler, StandardScaler, LabelEncoder\n",
        "from sklearn.tree import DecisionTreeClassifier\n",
        "from sklearn.model_selection import cross_validate\n",
        "from sklearn.model_selection import GridSearchCV\n",
        "from sklearn.model_selection import  ParameterGrid\n",
        "from sklearn import linear_model\n",
        "from sklearn.linear_model import LogisticRegression\n",
        "from sklearn.neighbors import KNeighborsClassifier\n",
        "from sklearn.discriminant_analysis import LinearDiscriminantAnalysis\n",
        "from sklearn.ensemble import RandomForestClassifier\n",
        "from sklearn.pipeline import Pipeline\n",
        "from sklearn.metrics import make_scorer\n",
        "from sklearn import tree\n",
        "import matplotlib.pyplot as plt"
      ]
    },
    {
      "cell_type": "code",
      "execution_count": null,
      "id": "85744a1b",
      "metadata": {
        "id": "85744a1b"
      },
      "outputs": [],
      "source": [
        "train_data = train_data.drop(13, axis=1)\n",
        "train_data = train_data.drop(20, axis=1)\n",
        "valid_data = valid_data.drop(13, axis=1)\n",
        "valid_data = valid_data.drop(20, axis=1)"
      ]
    },
    {
      "cell_type": "code",
      "execution_count": null,
      "id": "48de4199",
      "metadata": {
        "colab": {
          "base_uri": "https://localhost:8080/",
          "height": 299
        },
        "id": "48de4199",
        "outputId": "75597393-5647-4e95-f240-674b9fafc92c"
      },
      "outputs": [
        {
          "output_type": "execute_result",
          "data": {
            "text/plain": [
              "         0         1         2         3         4         5         6   \\\n",
              "0 -0.094881  5.792955  2.700741 -1.353604 -0.342327 -0.171136 -0.404854   \n",
              "1 -0.094881 -0.172623  2.700741  0.094515 -0.342327 -0.171136  2.470026   \n",
              "2 -0.094881 -0.172623 -0.370269 -0.249593 -0.342327 -0.171136 -0.404854   \n",
              "3 -0.094881 -0.172623 -0.370269 -0.192241 -0.342327 -0.171136 -0.404854   \n",
              "4 -0.094881 -0.172623 -0.370269 -0.091877 -0.342327 -0.171136 -0.404854   \n",
              "\n",
              "         7         8         9   ...        36        37        38        39  \\\n",
              "0  0.403239 -0.393895 -0.217935  ... -0.069614 -0.065043  1.659199 -0.345833   \n",
              "1 -2.479919 -0.393895 -0.217935  ... -0.069614 -1.415206 -0.602700 -0.345833   \n",
              "2  0.403239 -0.393895 -0.217935  ... -0.069614 -0.065043  1.659199 -0.345833   \n",
              "3  0.403239 -0.393895 -0.217935  ... -0.069614 -0.065043 -0.602700 -0.345833   \n",
              "4  0.403239 -0.393895 -0.217935  ... -0.069614 -0.906811 -0.602700  2.891569   \n",
              "\n",
              "         40        41        42        43       44        45  \n",
              "0 -0.021966 -0.930321 -0.280756 -0.404854 -0.01553 -0.175564  \n",
              "1 -0.021966 -0.930321 -0.280756 -0.404854 -0.01553 -0.175564  \n",
              "2 -0.021966 -0.930321 -0.280756 -0.404854 -0.01553 -0.175564  \n",
              "3 -0.021966  1.074898 -0.280756  2.470026 -0.01553 -0.175564  \n",
              "4 -0.021966 -0.930321 -0.280756 -0.404854 -0.01553 -0.175564  \n",
              "\n",
              "[5 rows x 46 columns]"
            ],
            "text/html": [
              "\n",
              "  <div id=\"df-822dbfe4-2701-435a-bb17-9aa3ae2d7b58\">\n",
              "    <div class=\"colab-df-container\">\n",
              "      <div>\n",
              "<style scoped>\n",
              "    .dataframe tbody tr th:only-of-type {\n",
              "        vertical-align: middle;\n",
              "    }\n",
              "\n",
              "    .dataframe tbody tr th {\n",
              "        vertical-align: top;\n",
              "    }\n",
              "\n",
              "    .dataframe thead th {\n",
              "        text-align: right;\n",
              "    }\n",
              "</style>\n",
              "<table border=\"1\" class=\"dataframe\">\n",
              "  <thead>\n",
              "    <tr style=\"text-align: right;\">\n",
              "      <th></th>\n",
              "      <th>0</th>\n",
              "      <th>1</th>\n",
              "      <th>2</th>\n",
              "      <th>3</th>\n",
              "      <th>4</th>\n",
              "      <th>5</th>\n",
              "      <th>6</th>\n",
              "      <th>7</th>\n",
              "      <th>8</th>\n",
              "      <th>9</th>\n",
              "      <th>...</th>\n",
              "      <th>36</th>\n",
              "      <th>37</th>\n",
              "      <th>38</th>\n",
              "      <th>39</th>\n",
              "      <th>40</th>\n",
              "      <th>41</th>\n",
              "      <th>42</th>\n",
              "      <th>43</th>\n",
              "      <th>44</th>\n",
              "      <th>45</th>\n",
              "    </tr>\n",
              "  </thead>\n",
              "  <tbody>\n",
              "    <tr>\n",
              "      <th>0</th>\n",
              "      <td>-0.094881</td>\n",
              "      <td>5.792955</td>\n",
              "      <td>2.700741</td>\n",
              "      <td>-1.353604</td>\n",
              "      <td>-0.342327</td>\n",
              "      <td>-0.171136</td>\n",
              "      <td>-0.404854</td>\n",
              "      <td>0.403239</td>\n",
              "      <td>-0.393895</td>\n",
              "      <td>-0.217935</td>\n",
              "      <td>...</td>\n",
              "      <td>-0.069614</td>\n",
              "      <td>-0.065043</td>\n",
              "      <td>1.659199</td>\n",
              "      <td>-0.345833</td>\n",
              "      <td>-0.021966</td>\n",
              "      <td>-0.930321</td>\n",
              "      <td>-0.280756</td>\n",
              "      <td>-0.404854</td>\n",
              "      <td>-0.01553</td>\n",
              "      <td>-0.175564</td>\n",
              "    </tr>\n",
              "    <tr>\n",
              "      <th>1</th>\n",
              "      <td>-0.094881</td>\n",
              "      <td>-0.172623</td>\n",
              "      <td>2.700741</td>\n",
              "      <td>0.094515</td>\n",
              "      <td>-0.342327</td>\n",
              "      <td>-0.171136</td>\n",
              "      <td>2.470026</td>\n",
              "      <td>-2.479919</td>\n",
              "      <td>-0.393895</td>\n",
              "      <td>-0.217935</td>\n",
              "      <td>...</td>\n",
              "      <td>-0.069614</td>\n",
              "      <td>-1.415206</td>\n",
              "      <td>-0.602700</td>\n",
              "      <td>-0.345833</td>\n",
              "      <td>-0.021966</td>\n",
              "      <td>-0.930321</td>\n",
              "      <td>-0.280756</td>\n",
              "      <td>-0.404854</td>\n",
              "      <td>-0.01553</td>\n",
              "      <td>-0.175564</td>\n",
              "    </tr>\n",
              "    <tr>\n",
              "      <th>2</th>\n",
              "      <td>-0.094881</td>\n",
              "      <td>-0.172623</td>\n",
              "      <td>-0.370269</td>\n",
              "      <td>-0.249593</td>\n",
              "      <td>-0.342327</td>\n",
              "      <td>-0.171136</td>\n",
              "      <td>-0.404854</td>\n",
              "      <td>0.403239</td>\n",
              "      <td>-0.393895</td>\n",
              "      <td>-0.217935</td>\n",
              "      <td>...</td>\n",
              "      <td>-0.069614</td>\n",
              "      <td>-0.065043</td>\n",
              "      <td>1.659199</td>\n",
              "      <td>-0.345833</td>\n",
              "      <td>-0.021966</td>\n",
              "      <td>-0.930321</td>\n",
              "      <td>-0.280756</td>\n",
              "      <td>-0.404854</td>\n",
              "      <td>-0.01553</td>\n",
              "      <td>-0.175564</td>\n",
              "    </tr>\n",
              "    <tr>\n",
              "      <th>3</th>\n",
              "      <td>-0.094881</td>\n",
              "      <td>-0.172623</td>\n",
              "      <td>-0.370269</td>\n",
              "      <td>-0.192241</td>\n",
              "      <td>-0.342327</td>\n",
              "      <td>-0.171136</td>\n",
              "      <td>-0.404854</td>\n",
              "      <td>0.403239</td>\n",
              "      <td>-0.393895</td>\n",
              "      <td>-0.217935</td>\n",
              "      <td>...</td>\n",
              "      <td>-0.069614</td>\n",
              "      <td>-0.065043</td>\n",
              "      <td>-0.602700</td>\n",
              "      <td>-0.345833</td>\n",
              "      <td>-0.021966</td>\n",
              "      <td>1.074898</td>\n",
              "      <td>-0.280756</td>\n",
              "      <td>2.470026</td>\n",
              "      <td>-0.01553</td>\n",
              "      <td>-0.175564</td>\n",
              "    </tr>\n",
              "    <tr>\n",
              "      <th>4</th>\n",
              "      <td>-0.094881</td>\n",
              "      <td>-0.172623</td>\n",
              "      <td>-0.370269</td>\n",
              "      <td>-0.091877</td>\n",
              "      <td>-0.342327</td>\n",
              "      <td>-0.171136</td>\n",
              "      <td>-0.404854</td>\n",
              "      <td>0.403239</td>\n",
              "      <td>-0.393895</td>\n",
              "      <td>-0.217935</td>\n",
              "      <td>...</td>\n",
              "      <td>-0.069614</td>\n",
              "      <td>-0.906811</td>\n",
              "      <td>-0.602700</td>\n",
              "      <td>2.891569</td>\n",
              "      <td>-0.021966</td>\n",
              "      <td>-0.930321</td>\n",
              "      <td>-0.280756</td>\n",
              "      <td>-0.404854</td>\n",
              "      <td>-0.01553</td>\n",
              "      <td>-0.175564</td>\n",
              "    </tr>\n",
              "  </tbody>\n",
              "</table>\n",
              "<p>5 rows × 46 columns</p>\n",
              "</div>\n",
              "      <button class=\"colab-df-convert\" onclick=\"convertToInteractive('df-822dbfe4-2701-435a-bb17-9aa3ae2d7b58')\"\n",
              "              title=\"Convert this dataframe to an interactive table.\"\n",
              "              style=\"display:none;\">\n",
              "        \n",
              "  <svg xmlns=\"http://www.w3.org/2000/svg\" height=\"24px\"viewBox=\"0 0 24 24\"\n",
              "       width=\"24px\">\n",
              "    <path d=\"M0 0h24v24H0V0z\" fill=\"none\"/>\n",
              "    <path d=\"M18.56 5.44l.94 2.06.94-2.06 2.06-.94-2.06-.94-.94-2.06-.94 2.06-2.06.94zm-11 1L8.5 8.5l.94-2.06 2.06-.94-2.06-.94L8.5 2.5l-.94 2.06-2.06.94zm10 10l.94 2.06.94-2.06 2.06-.94-2.06-.94-.94-2.06-.94 2.06-2.06.94z\"/><path d=\"M17.41 7.96l-1.37-1.37c-.4-.4-.92-.59-1.43-.59-.52 0-1.04.2-1.43.59L10.3 9.45l-7.72 7.72c-.78.78-.78 2.05 0 2.83L4 21.41c.39.39.9.59 1.41.59.51 0 1.02-.2 1.41-.59l7.78-7.78 2.81-2.81c.8-.78.8-2.07 0-2.86zM5.41 20L4 18.59l7.72-7.72 1.47 1.35L5.41 20z\"/>\n",
              "  </svg>\n",
              "      </button>\n",
              "      \n",
              "  <style>\n",
              "    .colab-df-container {\n",
              "      display:flex;\n",
              "      flex-wrap:wrap;\n",
              "      gap: 12px;\n",
              "    }\n",
              "\n",
              "    .colab-df-convert {\n",
              "      background-color: #E8F0FE;\n",
              "      border: none;\n",
              "      border-radius: 50%;\n",
              "      cursor: pointer;\n",
              "      display: none;\n",
              "      fill: #1967D2;\n",
              "      height: 32px;\n",
              "      padding: 0 0 0 0;\n",
              "      width: 32px;\n",
              "    }\n",
              "\n",
              "    .colab-df-convert:hover {\n",
              "      background-color: #E2EBFA;\n",
              "      box-shadow: 0px 1px 2px rgba(60, 64, 67, 0.3), 0px 1px 3px 1px rgba(60, 64, 67, 0.15);\n",
              "      fill: #174EA6;\n",
              "    }\n",
              "\n",
              "    [theme=dark] .colab-df-convert {\n",
              "      background-color: #3B4455;\n",
              "      fill: #D2E3FC;\n",
              "    }\n",
              "\n",
              "    [theme=dark] .colab-df-convert:hover {\n",
              "      background-color: #434B5C;\n",
              "      box-shadow: 0px 1px 3px 1px rgba(0, 0, 0, 0.15);\n",
              "      filter: drop-shadow(0px 1px 2px rgba(0, 0, 0, 0.3));\n",
              "      fill: #FFFFFF;\n",
              "    }\n",
              "  </style>\n",
              "\n",
              "      <script>\n",
              "        const buttonEl =\n",
              "          document.querySelector('#df-822dbfe4-2701-435a-bb17-9aa3ae2d7b58 button.colab-df-convert');\n",
              "        buttonEl.style.display =\n",
              "          google.colab.kernel.accessAllowed ? 'block' : 'none';\n",
              "\n",
              "        async function convertToInteractive(key) {\n",
              "          const element = document.querySelector('#df-822dbfe4-2701-435a-bb17-9aa3ae2d7b58');\n",
              "          const dataTable =\n",
              "            await google.colab.kernel.invokeFunction('convertToInteractive',\n",
              "                                                     [key], {});\n",
              "          if (!dataTable) return;\n",
              "\n",
              "          const docLinkHtml = 'Like what you see? Visit the ' +\n",
              "            '<a target=\"_blank\" href=https://colab.research.google.com/notebooks/data_table.ipynb>data table notebook</a>'\n",
              "            + ' to learn more about interactive tables.';\n",
              "          element.innerHTML = '';\n",
              "          dataTable['output_type'] = 'display_data';\n",
              "          await google.colab.output.renderOutput(dataTable, element);\n",
              "          const docLink = document.createElement('div');\n",
              "          docLink.innerHTML = docLinkHtml;\n",
              "          element.appendChild(docLink);\n",
              "        }\n",
              "      </script>\n",
              "    </div>\n",
              "  </div>\n",
              "  "
            ]
          },
          "metadata": {},
          "execution_count": 148
        }
      ],
      "source": [
        "X=train_data\n",
        "y=train_label\n",
        "\n",
        "scaler=StandardScaler()\n",
        "Scaled_X = scaler.fit_transform(X)\n",
        "pd.DataFrame(Scaled_X).head()"
      ]
    },
    {
      "cell_type": "code",
      "execution_count": null,
      "id": "7bf117aa",
      "metadata": {
        "colab": {
          "base_uri": "https://localhost:8080/",
          "height": 299
        },
        "id": "7bf117aa",
        "outputId": "bf68f6e5-8063-4214-eef5-1ea70264f2ee"
      },
      "outputs": [
        {
          "output_type": "execute_result",
          "data": {
            "text/plain": [
              "         0         1         2         3         4         5         6   \\\n",
              "0 -0.049147 -0.157135 -0.317483 -0.735191 -0.284129 -0.206673 -0.419091   \n",
              "1 -0.049147 -0.157135 -0.317483 -1.533894 -0.284129 -0.206673 -0.419091   \n",
              "2 -0.049147 -0.157135 -0.317483 -0.192676 -0.284129 -0.206673 -0.419091   \n",
              "3 -0.049147 -0.157135 -0.317483  1.404729 -0.284129 -0.206673 -0.419091   \n",
              "4 -0.049147 -0.157135  3.149770 -0.614632 -0.284129 -0.206673  2.386116   \n",
              "\n",
              "         7         8         9   ...        36        37        38        39  \\\n",
              "0  0.403069 -0.390868 -0.264568  ... -0.085332  0.754331 -0.585698 -0.344381   \n",
              "1  0.403069 -0.390868 -0.264568  ... -0.085332 -0.814284 -0.585698 -0.344381   \n",
              "2  0.403069 -0.390868 -0.264568  ... -0.085332  0.754331 -0.585698 -0.344381   \n",
              "3  0.403069 -0.390868 -0.264568  ... -0.085332 -0.029976 -0.585698 -0.344381   \n",
              "4  0.403069 -0.390868  3.082579  ... -0.085332 -0.029976 -0.585698 -0.344381   \n",
              "\n",
              "         40        41        42        43   44        45  \n",
              "0 -0.049147  0.997593 -0.279145 -0.353074  0.0 -0.165008  \n",
              "1 -0.049147  0.997593  3.582364 -0.353074  0.0 -0.165008  \n",
              "2 -0.049147  0.997593 -0.279145  2.832267  0.0 -0.165008  \n",
              "3 -0.049147  0.997593 -0.279145 -0.353074  0.0 -0.165008  \n",
              "4 -0.049147 -1.002413 -0.279145 -0.353074  0.0 -0.165008  \n",
              "\n",
              "[5 rows x 46 columns]"
            ],
            "text/html": [
              "\n",
              "  <div id=\"df-17d0a4b9-34e1-4452-a44a-c0d0870e90fc\">\n",
              "    <div class=\"colab-df-container\">\n",
              "      <div>\n",
              "<style scoped>\n",
              "    .dataframe tbody tr th:only-of-type {\n",
              "        vertical-align: middle;\n",
              "    }\n",
              "\n",
              "    .dataframe tbody tr th {\n",
              "        vertical-align: top;\n",
              "    }\n",
              "\n",
              "    .dataframe thead th {\n",
              "        text-align: right;\n",
              "    }\n",
              "</style>\n",
              "<table border=\"1\" class=\"dataframe\">\n",
              "  <thead>\n",
              "    <tr style=\"text-align: right;\">\n",
              "      <th></th>\n",
              "      <th>0</th>\n",
              "      <th>1</th>\n",
              "      <th>2</th>\n",
              "      <th>3</th>\n",
              "      <th>4</th>\n",
              "      <th>5</th>\n",
              "      <th>6</th>\n",
              "      <th>7</th>\n",
              "      <th>8</th>\n",
              "      <th>9</th>\n",
              "      <th>...</th>\n",
              "      <th>36</th>\n",
              "      <th>37</th>\n",
              "      <th>38</th>\n",
              "      <th>39</th>\n",
              "      <th>40</th>\n",
              "      <th>41</th>\n",
              "      <th>42</th>\n",
              "      <th>43</th>\n",
              "      <th>44</th>\n",
              "      <th>45</th>\n",
              "    </tr>\n",
              "  </thead>\n",
              "  <tbody>\n",
              "    <tr>\n",
              "      <th>0</th>\n",
              "      <td>-0.049147</td>\n",
              "      <td>-0.157135</td>\n",
              "      <td>-0.317483</td>\n",
              "      <td>-0.735191</td>\n",
              "      <td>-0.284129</td>\n",
              "      <td>-0.206673</td>\n",
              "      <td>-0.419091</td>\n",
              "      <td>0.403069</td>\n",
              "      <td>-0.390868</td>\n",
              "      <td>-0.264568</td>\n",
              "      <td>...</td>\n",
              "      <td>-0.085332</td>\n",
              "      <td>0.754331</td>\n",
              "      <td>-0.585698</td>\n",
              "      <td>-0.344381</td>\n",
              "      <td>-0.049147</td>\n",
              "      <td>0.997593</td>\n",
              "      <td>-0.279145</td>\n",
              "      <td>-0.353074</td>\n",
              "      <td>0.0</td>\n",
              "      <td>-0.165008</td>\n",
              "    </tr>\n",
              "    <tr>\n",
              "      <th>1</th>\n",
              "      <td>-0.049147</td>\n",
              "      <td>-0.157135</td>\n",
              "      <td>-0.317483</td>\n",
              "      <td>-1.533894</td>\n",
              "      <td>-0.284129</td>\n",
              "      <td>-0.206673</td>\n",
              "      <td>-0.419091</td>\n",
              "      <td>0.403069</td>\n",
              "      <td>-0.390868</td>\n",
              "      <td>-0.264568</td>\n",
              "      <td>...</td>\n",
              "      <td>-0.085332</td>\n",
              "      <td>-0.814284</td>\n",
              "      <td>-0.585698</td>\n",
              "      <td>-0.344381</td>\n",
              "      <td>-0.049147</td>\n",
              "      <td>0.997593</td>\n",
              "      <td>3.582364</td>\n",
              "      <td>-0.353074</td>\n",
              "      <td>0.0</td>\n",
              "      <td>-0.165008</td>\n",
              "    </tr>\n",
              "    <tr>\n",
              "      <th>2</th>\n",
              "      <td>-0.049147</td>\n",
              "      <td>-0.157135</td>\n",
              "      <td>-0.317483</td>\n",
              "      <td>-0.192676</td>\n",
              "      <td>-0.284129</td>\n",
              "      <td>-0.206673</td>\n",
              "      <td>-0.419091</td>\n",
              "      <td>0.403069</td>\n",
              "      <td>-0.390868</td>\n",
              "      <td>-0.264568</td>\n",
              "      <td>...</td>\n",
              "      <td>-0.085332</td>\n",
              "      <td>0.754331</td>\n",
              "      <td>-0.585698</td>\n",
              "      <td>-0.344381</td>\n",
              "      <td>-0.049147</td>\n",
              "      <td>0.997593</td>\n",
              "      <td>-0.279145</td>\n",
              "      <td>2.832267</td>\n",
              "      <td>0.0</td>\n",
              "      <td>-0.165008</td>\n",
              "    </tr>\n",
              "    <tr>\n",
              "      <th>3</th>\n",
              "      <td>-0.049147</td>\n",
              "      <td>-0.157135</td>\n",
              "      <td>-0.317483</td>\n",
              "      <td>1.404729</td>\n",
              "      <td>-0.284129</td>\n",
              "      <td>-0.206673</td>\n",
              "      <td>-0.419091</td>\n",
              "      <td>0.403069</td>\n",
              "      <td>-0.390868</td>\n",
              "      <td>-0.264568</td>\n",
              "      <td>...</td>\n",
              "      <td>-0.085332</td>\n",
              "      <td>-0.029976</td>\n",
              "      <td>-0.585698</td>\n",
              "      <td>-0.344381</td>\n",
              "      <td>-0.049147</td>\n",
              "      <td>0.997593</td>\n",
              "      <td>-0.279145</td>\n",
              "      <td>-0.353074</td>\n",
              "      <td>0.0</td>\n",
              "      <td>-0.165008</td>\n",
              "    </tr>\n",
              "    <tr>\n",
              "      <th>4</th>\n",
              "      <td>-0.049147</td>\n",
              "      <td>-0.157135</td>\n",
              "      <td>3.149770</td>\n",
              "      <td>-0.614632</td>\n",
              "      <td>-0.284129</td>\n",
              "      <td>-0.206673</td>\n",
              "      <td>2.386116</td>\n",
              "      <td>0.403069</td>\n",
              "      <td>-0.390868</td>\n",
              "      <td>3.082579</td>\n",
              "      <td>...</td>\n",
              "      <td>-0.085332</td>\n",
              "      <td>-0.029976</td>\n",
              "      <td>-0.585698</td>\n",
              "      <td>-0.344381</td>\n",
              "      <td>-0.049147</td>\n",
              "      <td>-1.002413</td>\n",
              "      <td>-0.279145</td>\n",
              "      <td>-0.353074</td>\n",
              "      <td>0.0</td>\n",
              "      <td>-0.165008</td>\n",
              "    </tr>\n",
              "  </tbody>\n",
              "</table>\n",
              "<p>5 rows × 46 columns</p>\n",
              "</div>\n",
              "      <button class=\"colab-df-convert\" onclick=\"convertToInteractive('df-17d0a4b9-34e1-4452-a44a-c0d0870e90fc')\"\n",
              "              title=\"Convert this dataframe to an interactive table.\"\n",
              "              style=\"display:none;\">\n",
              "        \n",
              "  <svg xmlns=\"http://www.w3.org/2000/svg\" height=\"24px\"viewBox=\"0 0 24 24\"\n",
              "       width=\"24px\">\n",
              "    <path d=\"M0 0h24v24H0V0z\" fill=\"none\"/>\n",
              "    <path d=\"M18.56 5.44l.94 2.06.94-2.06 2.06-.94-2.06-.94-.94-2.06-.94 2.06-2.06.94zm-11 1L8.5 8.5l.94-2.06 2.06-.94-2.06-.94L8.5 2.5l-.94 2.06-2.06.94zm10 10l.94 2.06.94-2.06 2.06-.94-2.06-.94-.94-2.06-.94 2.06-2.06.94z\"/><path d=\"M17.41 7.96l-1.37-1.37c-.4-.4-.92-.59-1.43-.59-.52 0-1.04.2-1.43.59L10.3 9.45l-7.72 7.72c-.78.78-.78 2.05 0 2.83L4 21.41c.39.39.9.59 1.41.59.51 0 1.02-.2 1.41-.59l7.78-7.78 2.81-2.81c.8-.78.8-2.07 0-2.86zM5.41 20L4 18.59l7.72-7.72 1.47 1.35L5.41 20z\"/>\n",
              "  </svg>\n",
              "      </button>\n",
              "      \n",
              "  <style>\n",
              "    .colab-df-container {\n",
              "      display:flex;\n",
              "      flex-wrap:wrap;\n",
              "      gap: 12px;\n",
              "    }\n",
              "\n",
              "    .colab-df-convert {\n",
              "      background-color: #E8F0FE;\n",
              "      border: none;\n",
              "      border-radius: 50%;\n",
              "      cursor: pointer;\n",
              "      display: none;\n",
              "      fill: #1967D2;\n",
              "      height: 32px;\n",
              "      padding: 0 0 0 0;\n",
              "      width: 32px;\n",
              "    }\n",
              "\n",
              "    .colab-df-convert:hover {\n",
              "      background-color: #E2EBFA;\n",
              "      box-shadow: 0px 1px 2px rgba(60, 64, 67, 0.3), 0px 1px 3px 1px rgba(60, 64, 67, 0.15);\n",
              "      fill: #174EA6;\n",
              "    }\n",
              "\n",
              "    [theme=dark] .colab-df-convert {\n",
              "      background-color: #3B4455;\n",
              "      fill: #D2E3FC;\n",
              "    }\n",
              "\n",
              "    [theme=dark] .colab-df-convert:hover {\n",
              "      background-color: #434B5C;\n",
              "      box-shadow: 0px 1px 3px 1px rgba(0, 0, 0, 0.15);\n",
              "      filter: drop-shadow(0px 1px 2px rgba(0, 0, 0, 0.3));\n",
              "      fill: #FFFFFF;\n",
              "    }\n",
              "  </style>\n",
              "\n",
              "      <script>\n",
              "        const buttonEl =\n",
              "          document.querySelector('#df-17d0a4b9-34e1-4452-a44a-c0d0870e90fc button.colab-df-convert');\n",
              "        buttonEl.style.display =\n",
              "          google.colab.kernel.accessAllowed ? 'block' : 'none';\n",
              "\n",
              "        async function convertToInteractive(key) {\n",
              "          const element = document.querySelector('#df-17d0a4b9-34e1-4452-a44a-c0d0870e90fc');\n",
              "          const dataTable =\n",
              "            await google.colab.kernel.invokeFunction('convertToInteractive',\n",
              "                                                     [key], {});\n",
              "          if (!dataTable) return;\n",
              "\n",
              "          const docLinkHtml = 'Like what you see? Visit the ' +\n",
              "            '<a target=\"_blank\" href=https://colab.research.google.com/notebooks/data_table.ipynb>data table notebook</a>'\n",
              "            + ' to learn more about interactive tables.';\n",
              "          element.innerHTML = '';\n",
              "          dataTable['output_type'] = 'display_data';\n",
              "          await google.colab.output.renderOutput(dataTable, element);\n",
              "          const docLink = document.createElement('div');\n",
              "          docLink.innerHTML = docLinkHtml;\n",
              "          element.appendChild(docLink);\n",
              "        }\n",
              "      </script>\n",
              "    </div>\n",
              "  </div>\n",
              "  "
            ]
          },
          "metadata": {},
          "execution_count": 149
        }
      ],
      "source": [
        "X_eval=valid_data\n",
        "y_eval=valid_label\n",
        "\n",
        "scaler=StandardScaler()\n",
        "Scaled_X_eval = scaler.fit_transform(X_eval)\n",
        "pd.DataFrame(Scaled_X_eval).head()"
      ]
    },
    {
      "cell_type": "code",
      "source": [
        "# Normalizing continuous variables\n",
        "\n",
        "#from sklearn.preprocessing import MinMaxScaler\n",
        "\n",
        "#scaler = MinMaxScaler(feature_range = (0,1))\n",
        "\n",
        "#scaler.fit(X)\n",
        "#X_train = scaler.transform(X)\n",
        "#X_test = scaler.transform(X_test)"
      ],
      "metadata": {
        "id": "zge7PdM2HPwE"
      },
      "id": "zge7PdM2HPwE",
      "execution_count": null,
      "outputs": []
    },
    {
      "cell_type": "markdown",
      "id": "c482c49a",
      "metadata": {
        "id": "c482c49a"
      },
      "source": [
        "## Metrics functions"
      ]
    },
    {
      "cell_type": "code",
      "execution_count": null,
      "id": "69fb8ca9",
      "metadata": {
        "id": "69fb8ca9"
      },
      "outputs": [],
      "source": [
        "# BER\n",
        "def Ber_function(y, y_pred):\n",
        "    tn, fp, fn, tp = metrics.confusion_matrix(y, y_pred).ravel()\n",
        "    BER = 0.5*(fp*1.0/(fp + tn) + fn*1.0/(tp + fn))\n",
        "    return round(BER,3)"
      ]
    },
    {
      "cell_type": "markdown",
      "id": "df03ffb9",
      "metadata": {
        "id": "df03ffb9"
      },
      "source": [
        "## KNN"
      ]
    },
    {
      "cell_type": "code",
      "execution_count": null,
      "id": "59d50805",
      "metadata": {
        "colab": {
          "base_uri": "https://localhost:8080/",
          "height": 295
        },
        "id": "59d50805",
        "outputId": "d4273c07-be84-476c-b838-da452bca6fce"
      },
      "outputs": [
        {
          "output_type": "display_data",
          "data": {
            "text/plain": [
              "<Figure size 432x288 with 1 Axes>"
            ],
            "image/png": "[encoded data removed]"
          },
          "metadata": {
            "needs_background": "light"
          }
        }
      ],
      "source": [
        "error = []\n",
        "mean_knn = []\n",
        "std_knn = []\n",
        "cv=50\n",
        "k_optimal = range(1,20)\n",
        "for k in k_optimal:\n",
        "    knn = KNeighborsClassifier(n_neighbors = k)\n",
        "    scores = cross_val_score(knn, Scaled_X, y, scoring='accuracy', cv=cv)\n",
        "    mean_knn.append(np.mean(scores))\n",
        "    std_knn.append(np.std(scores))    \n",
        "\n",
        "    \n",
        "plt.errorbar(k_optimal, mean_knn, std_knn, fmt='-o', color='black', ecolor = 'red', capthick = 2, capsize = 5)\n",
        "plt.title(\"K-value VS Accuracy\")\n",
        "plt.xlabel(\"k-value\")\n",
        "plt.ylabel(\"Accuracy\")\n",
        "\n",
        "plt.grid()\n",
        "#plt.savefig('nb_cv_acc.png',bbox_inches='tight')\n",
        "plt.show()\n"
      ]
    },
    {
      "cell_type": "code",
      "execution_count": null,
      "id": "92134a0b",
      "metadata": {
        "colab": {
          "base_uri": "https://localhost:8080/",
          "height": 279
        },
        "id": "92134a0b",
        "outputId": "2ed82fe7-1e52-4954-8b7b-3be89706aa96"
      },
      "outputs": [
        {
          "output_type": "display_data",
          "data": {
            "text/plain": [
              "<Figure size 432x288 with 1 Axes>"
            ],
            "image/png": "[encoded data removed]"
          },
          "metadata": {
            "needs_background": "light"
          }
        }
      ],
      "source": [
        "knn = KNeighborsClassifier(n_neighbors = 8).fit(Scaled_X,y)\n",
        "metrics.plot_roc_curve(knn, Scaled_X, y)\n",
        "plt.show()"
      ]
    },
    {
      "cell_type": "code",
      "execution_count": null,
      "id": "59732bfb",
      "metadata": {
        "colab": {
          "base_uri": "https://localhost:8080/"
        },
        "id": "59732bfb",
        "outputId": "9593d839-05e3-4781-bd4a-1f30252051e9"
      },
      "outputs": [
        {
          "output_type": "execute_result",
          "data": {
            "text/plain": [
              "0.74"
            ]
          },
          "metadata": {},
          "execution_count": 154
        }
      ],
      "source": [
        "y_pred=knn.predict(Scaled_X_eval)\n",
        "fpr, tpr, thresholds = metrics.roc_curve(valid_label, y_pred)\n",
        "round(metrics.auc(fpr, tpr),2)"
      ]
    },
    {
      "cell_type": "code",
      "execution_count": null,
      "id": "97675d8b",
      "metadata": {
        "id": "97675d8b",
        "colab": {
          "base_uri": "https://localhost:8080/"
        },
        "outputId": "536ca1f8-c67b-40c5-af15-b5c10715a5d7"
      },
      "outputs": [
        {
          "output_type": "execute_result",
          "data": {
            "text/plain": [
              "0.262"
            ]
          },
          "metadata": {},
          "execution_count": 155
        }
      ],
      "source": [
        "Ber_function(valid_label,y_pred)"
      ]
    },
    {
      "cell_type": "code",
      "execution_count": null,
      "id": "08a528c4",
      "metadata": {
        "id": "08a528c4",
        "colab": {
          "base_uri": "https://localhost:8080/"
        },
        "outputId": "cb775950-daa9-4d28-c292-8d4046183984"
      },
      "outputs": [
        {
          "output_type": "stream",
          "name": "stdout",
          "text": [
            "[[285  27]\n",
            " [ 45  58]]\n",
            "KNN Mean Accuracy:  0.827\n",
            "KNN BER in validation set:  0.262\n",
            "KNN AUC in validation set:  0.738\n",
            "KNN confidence intervals:  0.819 0.836\n"
          ]
        }
      ],
      "source": [
        "import statsmodels.stats.api as sms\n",
        "cv=50\n",
        "\n",
        "knn = KNeighborsClassifier(n_neighbors = 8)\n",
        "knn.fit(Scaled_X,y)\n",
        "scores = cross_val_score(knn, Scaled_X, y, scoring='accuracy', cv=cv)\n",
        "mean_scores = scores.mean()\n",
        "y_pred=knn.predict(Scaled_X_eval)\n",
        "print(metrics.confusion_matrix(valid_label, y_pred))\n",
        "print('KNN Mean Accuracy: ', round(mean_scores,3))\n",
        "print('KNN BER in validation set: ', Ber_function(valid_label,y_pred))\n",
        "fpr, tpr, thresholds = metrics.roc_curve(valid_label, y_pred)\n",
        "print('KNN AUC in validation set: ', round(metrics.auc(fpr, tpr),3))\n",
        "conf_inter = sms.DescrStatsW(scores).tconfint_mean()\n",
        "print('KNN confidence intervals: ', round(conf_inter[0],3),round(conf_inter[1],3))\n",
        "\n",
        "#plt.figure(figsize=(10,6))\n",
        "#plt.plot(range(0,50),scores,color='black', marker='o')\n",
        "#plt.title('Accuracy in each  cross validation')\n",
        "#plt.xlabel('# fold')\n",
        "#plt.ylabel('Accuracy');"
      ]
    },
    {
      "cell_type": "code",
      "source": [
        "df_cm = pd.DataFrame(metrics.confusion_matrix(valid_label, y_pred))\n",
        "# plt.figure(figsize=(10,7))\n",
        "sns.heatmap(df_cm, annot=True,cmap='Blues',fmt='g') "
      ],
      "metadata": {
        "id": "hBVTe1SazGim",
        "colab": {
          "base_uri": "https://localhost:8080/",
          "height": 282
        },
        "outputId": "511f7da0-bedd-442c-d7b3-3afeb65f2d65"
      },
      "id": "hBVTe1SazGim",
      "execution_count": null,
      "outputs": [
        {
          "output_type": "execute_result",
          "data": {
            "text/plain": [
              "<matplotlib.axes._subplots.AxesSubplot at 0x7fcb98300c50>"
            ]
          },
          "metadata": {},
          "execution_count": 157
        },
        {
          "output_type": "display_data",
          "data": {
            "text/plain": [
              "<Figure size 432x288 with 2 Axes>"
            ],
            "image/png": "[encoded data removed]"
          },
          "metadata": {
            "needs_background": "light"
          }
        }
      ]
    },
    {
      "cell_type": "code",
      "source": [
        "import numpy as np\n",
        "import scipy.stats\n",
        "\n",
        "def mean_confidence_interval(data, confidence=0.95):\n",
        "    a = 1.0 * np.array(data)\n",
        "    n = len(a)\n",
        "    m, se = np.mean(a), scipy.stats.sem(a)\n",
        "    h = se * scipy.stats.t.ppf((1 + confidence) / 2., n-1)\n",
        "    return round(m,3), round(m-h,3), round(m+h,3)\n",
        "\n",
        "mean_confidence_interval(scores)"
      ],
      "metadata": {
        "colab": {
          "base_uri": "https://localhost:8080/"
        },
        "id": "71OFICUW3VxE",
        "outputId": "0468afa1-ea81-4a51-dbfb-6e9a25e9963c"
      },
      "id": "71OFICUW3VxE",
      "execution_count": null,
      "outputs": [
        {
          "output_type": "execute_result",
          "data": {
            "text/plain": [
              "(0.827, 0.819, 0.836)"
            ]
          },
          "metadata": {},
          "execution_count": 158
        }
      ]
    },
    {
      "cell_type": "code",
      "source": [
        "import scipy.stats as st\n",
        "\n",
        "\n",
        "#create 95% confidence interval for population mean weight\n",
        "st.t.interval(alpha=0.95, df=len(scores)-1, loc=np.mean(scores), scale=st.sem(scores)) "
      ],
      "metadata": {
        "id": "oIf_0-Tx3V9G",
        "colab": {
          "base_uri": "https://localhost:8080/"
        },
        "outputId": "dcb5af25-4570-4a94-ade6-a0c066dc4ace"
      },
      "id": "oIf_0-Tx3V9G",
      "execution_count": null,
      "outputs": [
        {
          "output_type": "execute_result",
          "data": {
            "text/plain": [
              "(0.8189168926866016, 0.8357760253269161)"
            ]
          },
          "metadata": {},
          "execution_count": 159
        }
      ]
    },
    {
      "cell_type": "code",
      "source": [
        "import statsmodels.stats.api as sms\n",
        "\n",
        "sms.DescrStatsW(scores).tconfint_mean()"
      ],
      "metadata": {
        "id": "UqfjsSlzK0Fa",
        "colab": {
          "base_uri": "https://localhost:8080/"
        },
        "outputId": "a8cbac4b-280c-419f-c111-895ab7b4a569"
      },
      "id": "UqfjsSlzK0Fa",
      "execution_count": null,
      "outputs": [
        {
          "output_type": "execute_result",
          "data": {
            "text/plain": [
              "(0.8189168926866016, 0.8357760253269161)"
            ]
          },
          "metadata": {},
          "execution_count": 160
        }
      ]
    },
    {
      "cell_type": "markdown",
      "source": [
        "## LDA"
      ],
      "metadata": {
        "id": "0HK4IqMjH5_6"
      },
      "id": "0HK4IqMjH5_6"
    },
    {
      "cell_type": "code",
      "execution_count": null,
      "id": "8a2fd0d5",
      "metadata": {
        "id": "8a2fd0d5",
        "colab": {
          "base_uri": "https://localhost:8080/"
        },
        "outputId": "ab6430ca-13f5-4c6f-fd50-b31971be6ec2"
      },
      "outputs": [
        {
          "output_type": "stream",
          "name": "stdout",
          "text": [
            "[[287  25]\n",
            " [ 38  65]]\n",
            "LDA Mean Accuracy:  0.843\n",
            "LDA BER in validation set:  0.225\n",
            "LDA AUC in validation set:  0.775\n",
            "LDA confidence intervals:  0.832 0.854\n"
          ]
        }
      ],
      "source": [
        "cv=50\n",
        "\n",
        "lda = LinearDiscriminantAnalysis()\n",
        "lda.fit(Scaled_X,y)\n",
        "scores = cross_val_score(lda, Scaled_X, y, scoring='accuracy', cv=cv)\n",
        "mean_scores = scores.mean()\n",
        "std_scores = scores.std()\n",
        "y_pred=lda.predict(Scaled_X_eval)\n",
        "print(metrics.confusion_matrix(valid_label, y_pred))\n",
        "print('LDA Mean Accuracy: ', round(mean_scores,3))\n",
        "print('LDA BER in validation set: ', Ber_function(valid_label,y_pred))\n",
        "fpr, tpr, thresholds = metrics.roc_curve(valid_label, y_pred)\n",
        "print('LDA AUC in validation set: ', round(metrics.auc(fpr, tpr),3))\n",
        "conf_inter = sms.DescrStatsW(scores).tconfint_mean()\n",
        "print('LDA confidence intervals: ', round(conf_inter[0],3),round(conf_inter[1],3))\n"
      ]
    },
    {
      "cell_type": "code",
      "source": [
        "df_cm = pd.DataFrame(metrics.confusion_matrix(valid_label, y_pred))\n",
        "# plt.figure(figsize=(10,7))\n",
        "sns.heatmap(df_cm, annot=True,cmap='Blues',fmt='g') "
      ],
      "metadata": {
        "colab": {
          "base_uri": "https://localhost:8080/",
          "height": 282
        },
        "id": "07FWaFKQhy1W",
        "outputId": "4ab2ce13-eaf7-4505-a0a1-a1350d599203"
      },
      "id": "07FWaFKQhy1W",
      "execution_count": null,
      "outputs": [
        {
          "output_type": "execute_result",
          "data": {
            "text/plain": [
              "<matplotlib.axes._subplots.AxesSubplot at 0x7fcb98560b10>"
            ]
          },
          "metadata": {},
          "execution_count": 162
        },
        {
          "output_type": "display_data",
          "data": {
            "text/plain": [
              "<Figure size 432x288 with 2 Axes>"
            ],
            "image/png": "[encoded data removed]"
          },
          "metadata": {
            "needs_background": "light"
          }
        }
      ]
    },
    {
      "cell_type": "code",
      "source": [
        "std_scores"
      ],
      "metadata": {
        "colab": {
          "base_uri": "https://localhost:8080/"
        },
        "id": "CvCInkvvCHby",
        "outputId": "b3103037-0b6a-4f8c-c640-bd70dc66c3a1"
      },
      "id": "CvCInkvvCHby",
      "execution_count": null,
      "outputs": [
        {
          "output_type": "execute_result",
          "data": {
            "text/plain": [
              "0.038409643428324675"
            ]
          },
          "metadata": {},
          "execution_count": 163
        }
      ]
    },
    {
      "cell_type": "code",
      "execution_count": null,
      "id": "9a5a7145",
      "metadata": {
        "id": "9a5a7145",
        "colab": {
          "base_uri": "https://localhost:8080/"
        },
        "outputId": "49503954-56cc-4d4a-9b08-ee0f8500fcbd"
      },
      "outputs": [
        {
          "output_type": "execute_result",
          "data": {
            "text/plain": [
              "(0.8322351037705549, 0.854288551827447)"
            ]
          },
          "metadata": {},
          "execution_count": 164
        }
      ],
      "source": [
        "\n",
        "import statsmodels.stats.api as sms\n",
        "\n",
        "sms.DescrStatsW(scores).tconfint_mean()"
      ]
    },
    {
      "cell_type": "markdown",
      "source": [
        "#Logistic Regression"
      ],
      "metadata": {
        "id": "p75ubGHk7TQo"
      },
      "id": "p75ubGHk7TQo"
    },
    {
      "cell_type": "code",
      "source": [
        "#split the dataset into training (70%) and testing (30%) sets\n",
        "X_train,X_test,y_train,y_test = train_test_split(X,y,test_size=0.3,random_state=0) \n",
        "\n",
        "#instantiate the model\n",
        "log_regression = LogisticRegression()\n",
        "\n",
        "#fit the model using the training data\n",
        "log_regression.fit(X_train,y_train)"
      ],
      "metadata": {
        "colab": {
          "base_uri": "https://localhost:8080/"
        },
        "id": "zXHIpFUU7VnL",
        "outputId": "49a4b9de-f211-494e-c93e-6e01f1210cb9"
      },
      "id": "zXHIpFUU7VnL",
      "execution_count": null,
      "outputs": [
        {
          "output_type": "execute_result",
          "data": {
            "text/plain": [
              "LogisticRegression()"
            ]
          },
          "metadata": {},
          "execution_count": 165
        }
      ]
    },
    {
      "cell_type": "code",
      "source": [
        "#define metrics\n",
        "y_pred_proba = log_regression.predict_proba(X_test)[::,1]\n",
        "fpr, tpr, _ = metrics.roc_curve(y_test,  y_pred_proba)\n",
        "print(round(metrics.auc(fpr, tpr),2))\n",
        "#create ROC curve\n",
        "plt.plot(fpr,tpr)\n",
        "plt.ylabel('True Positive Rate')\n",
        "plt.xlabel('False Positive Rate')\n",
        "plt.show()"
      ],
      "metadata": {
        "id": "dhcp4XLq7znr",
        "colab": {
          "base_uri": "https://localhost:8080/",
          "height": 296
        },
        "outputId": "4bd609da-d8da-4d4e-d3e9-4f50f2de6d2a"
      },
      "id": "dhcp4XLq7znr",
      "execution_count": null,
      "outputs": [
        {
          "output_type": "stream",
          "name": "stdout",
          "text": [
            "0.9\n"
          ]
        },
        {
          "output_type": "display_data",
          "data": {
            "text/plain": [
              "<Figure size 432x288 with 1 Axes>"
            ],
            "image/png": "[encoded data removed]"
          },
          "metadata": {
            "needs_background": "light"
          }
        }
      ]
    },
    {
      "cell_type": "code",
      "source": [
        "cv=50\n",
        "\n",
        "logr = LogisticRegression()\n",
        "logr.fit(Scaled_X,y)\n",
        "scores = cross_val_score(logr, Scaled_X, y, scoring='accuracy', cv=cv)\n",
        "mean_scores = scores.mean()\n",
        "std_scores = scores.std()\n",
        "y_pred=logr.predict(Scaled_X_eval)\n",
        "print(metrics.confusion_matrix(valid_label, y_pred))\n",
        "print('LogR Mean Accuracy: ', round(mean_scores,3))\n",
        "print('LogR BER in validation set: ', Ber_function(valid_label,y_pred))\n",
        "fpr, tpr, thresholds = metrics.roc_curve(valid_label, y_pred)\n",
        "print('LogR AUC in validation set: ', round(metrics.auc(fpr, tpr),3))\n",
        "conf_inter = sms.DescrStatsW(scores).tconfint_mean()\n",
        "print('LogR confidence intervals: ', round(conf_inter[0],3),round(conf_inter[1],3))"
      ],
      "metadata": {
        "id": "X1eyUTFEOEZN",
        "colab": {
          "base_uri": "https://localhost:8080/"
        },
        "outputId": "cfee3aaf-bed8-4372-fb82-c00a48c67b4c"
      },
      "id": "X1eyUTFEOEZN",
      "execution_count": null,
      "outputs": [
        {
          "output_type": "stream",
          "name": "stdout",
          "text": [
            "[[289  23]\n",
            " [ 39  64]]\n",
            "LogR Mean Accuracy:  0.848\n",
            "LogR BER in validation set:  0.226\n",
            "LogR AUC in validation set:  0.774\n",
            "LogR confidence intervals:  0.838 0.859\n"
          ]
        }
      ]
    },
    {
      "cell_type": "code",
      "source": [
        "df_cm = pd.DataFrame(metrics.confusion_matrix(valid_label, y_pred))\n",
        "# plt.figure(figsize=(10,7))\n",
        "sns.heatmap(df_cm, annot=True,cmap='Blues',fmt='g') "
      ],
      "metadata": {
        "colab": {
          "base_uri": "https://localhost:8080/",
          "height": 282
        },
        "id": "DbjdrgexiCZH",
        "outputId": "14b41463-238d-41e0-ad2e-549041a20843"
      },
      "id": "DbjdrgexiCZH",
      "execution_count": null,
      "outputs": [
        {
          "output_type": "execute_result",
          "data": {
            "text/plain": [
              "<matplotlib.axes._subplots.AxesSubplot at 0x7fcb98256f50>"
            ]
          },
          "metadata": {},
          "execution_count": 168
        },
        {
          "output_type": "display_data",
          "data": {
            "text/plain": [
              "<Figure size 432x288 with 2 Axes>"
            ],
            "image/png": "[encoded data removed]"
          },
          "metadata": {
            "needs_background": "light"
          }
        }
      ]
    },
    {
      "cell_type": "markdown",
      "source": [
        "\n",
        "\n",
        "# Naive Bayes"
      ],
      "metadata": {
        "id": "_9YmBIuCbVfN"
      },
      "id": "_9YmBIuCbVfN"
    },
    {
      "cell_type": "code",
      "source": [
        "gnb = GaussianNB()\n",
        "\n",
        "\n",
        "#fit the model using the training data\n",
        "gnb.fit(X_train,y_train)\n",
        "#define metrics\n",
        "y_pred_proba = gnb.predict_proba(X_test)[::,1]\n",
        "fpr, tpr, _ = metrics.roc_curve(y_test,  y_pred_proba)\n",
        "print(round(metrics.auc(fpr, tpr),2))\n",
        "#create ROC curve\n",
        "plt.plot(fpr,tpr)\n",
        "plt.ylabel('True Positive Rate')\n",
        "plt.xlabel('False Positive Rate')\n",
        "plt.show()"
      ],
      "metadata": {
        "id": "A1pXnqAybbJL",
        "colab": {
          "base_uri": "https://localhost:8080/",
          "height": 296
        },
        "outputId": "c74fa5d9-498c-4c00-9b14-d3bdbc78d5e1"
      },
      "id": "A1pXnqAybbJL",
      "execution_count": null,
      "outputs": [
        {
          "output_type": "stream",
          "name": "stdout",
          "text": [
            "0.88\n"
          ]
        },
        {
          "output_type": "display_data",
          "data": {
            "text/plain": [
              "<Figure size 432x288 with 1 Axes>"
            ],
            "image/png": "[encoded data removed]"
          },
          "metadata": {
            "needs_background": "light"
          }
        }
      ]
    },
    {
      "cell_type": "code",
      "source": [
        "cv=50\n",
        "\n",
        "gnb = GaussianNB()\n",
        "gnb.fit(Scaled_X,y)\n",
        "scores = cross_val_score(gnb, Scaled_X, y, scoring='accuracy', cv=cv)\n",
        "mean_scores = scores.mean()\n",
        "std_scores = scores.std()\n",
        "y_pred=gnb.predict(Scaled_X_eval)\n",
        "print(metrics.confusion_matrix(valid_label, y_pred))\n",
        "print('GNB Mean Accuracy: ', round(mean_scores,3))\n",
        "print('GNB BER in validation set: ', Ber_function(valid_label,y_pred))\n",
        "fpr, tpr, thresholds = metrics.roc_curve(valid_label, y_pred)\n",
        "print('GNB AUC in validation set: ', round(metrics.auc(fpr, tpr),3))\n",
        "conf_inter = sms.DescrStatsW(scores).tconfint_mean()\n",
        "print('GNB confidence intervals: ', round(conf_inter[0],3),round(conf_inter[1],3))"
      ],
      "metadata": {
        "colab": {
          "base_uri": "https://localhost:8080/"
        },
        "id": "mofy1EH4ef_0",
        "outputId": "912f54aa-cada-4e94-b0b6-99f61f84de74"
      },
      "id": "mofy1EH4ef_0",
      "execution_count": null,
      "outputs": [
        {
          "output_type": "stream",
          "name": "stdout",
          "text": [
            "[[312   0]\n",
            " [103   0]]\n",
            "GNB Mean Accuracy:  0.683\n",
            "GNB BER in validation set:  0.5\n",
            "GNB AUC in validation set:  0.5\n",
            "GNB confidence intervals:  0.669 0.697\n"
          ]
        }
      ]
    },
    {
      "cell_type": "code",
      "source": [
        "df_cm = pd.DataFrame(metrics.confusion_matrix(valid_label, y_pred))\n",
        "# plt.figure(figsize=(10,7))\n",
        "sns.heatmap(df_cm, annot=True,cmap='Blues',fmt='g') "
      ],
      "metadata": {
        "colab": {
          "base_uri": "https://localhost:8080/",
          "height": 282
        },
        "id": "UKqy9qBaiHvc",
        "outputId": "c0aaecf2-8915-4b78-c7de-80b27414ffec"
      },
      "id": "UKqy9qBaiHvc",
      "execution_count": null,
      "outputs": [
        {
          "output_type": "execute_result",
          "data": {
            "text/plain": [
              "<matplotlib.axes._subplots.AxesSubplot at 0x7fcb95b023d0>"
            ]
          },
          "metadata": {},
          "execution_count": 171
        },
        {
          "output_type": "display_data",
          "data": {
            "text/plain": [
              "<Figure size 432x288 with 2 Axes>"
            ],
            "image/png": "[encoded data removed]"
          },
          "metadata": {
            "needs_background": "light"
          }
        }
      ]
    },
    {
      "cell_type": "code",
      "source": [],
      "metadata": {
        "id": "9nJNXf5KptHe"
      },
      "id": "9nJNXf5KptHe",
      "execution_count": null,
      "outputs": []
    },
    {
      "cell_type": "code",
      "source": [
        "cv=50\n",
        "\n",
        "bnb = BernoulliNB()\n",
        "bnb.fit(X_train,y_train)\n",
        "scores = cross_val_score(bnb, Scaled_X, y, scoring='accuracy', cv=cv)\n",
        "mean_scores = scores.mean()\n",
        "std_scores = scores.std()\n",
        "y_pred=bnb.predict(Scaled_X_eval)\n",
        "print(metrics.confusion_matrix(valid_label, y_pred))\n",
        "print('BNB Mean Accuracy: ', round(mean_scores,3))\n",
        "print('BNB BER in validation set: ', Ber_function(valid_label,y_pred))\n",
        "fpr, tpr, thresholds = metrics.roc_curve(valid_label, y_pred)\n",
        "print('BNB AUC in validation set: ', round(metrics.auc(fpr, tpr),3))\n",
        "conf_inter = sms.DescrStatsW(scores).tconfint_mean()\n",
        "print('BNB confidence intervals: ', round(conf_inter[0],3),round(conf_inter[1],3))"
      ],
      "metadata": {
        "colab": {
          "base_uri": "https://localhost:8080/"
        },
        "id": "T8Wxlr7SlvBE",
        "outputId": "e8739c9c-f205-4687-e44b-e9ac0d9d17d7"
      },
      "id": "T8Wxlr7SlvBE",
      "execution_count": null,
      "outputs": [
        {
          "output_type": "stream",
          "name": "stdout",
          "text": [
            "[[216  96]\n",
            " [ 16  87]]\n",
            "BNB Mean Accuracy:  0.768\n",
            "BNB BER in validation set:  0.232\n",
            "BNB AUC in validation set:  0.768\n",
            "BNB confidence intervals:  0.754 0.783\n"
          ]
        }
      ]
    },
    {
      "cell_type": "code",
      "source": [
        "df_cm = pd.DataFrame(metrics.confusion_matrix(valid_label, y_pred))\n",
        "# plt.figure(figsize=(10,7))\n",
        "sns.heatmap(df_cm, annot=True,cmap='Blues',fmt='g') "
      ],
      "metadata": {
        "colab": {
          "base_uri": "https://localhost:8080/",
          "height": 282
        },
        "id": "wfq0Xk7qlvES",
        "outputId": "1a254254-0da5-49a9-f90b-bae45a16d3fa"
      },
      "id": "wfq0Xk7qlvES",
      "execution_count": null,
      "outputs": [
        {
          "output_type": "execute_result",
          "data": {
            "text/plain": [
              "<matplotlib.axes._subplots.AxesSubplot at 0x7fcb907f09d0>"
            ]
          },
          "metadata": {},
          "execution_count": 179
        },
        {
          "output_type": "display_data",
          "data": {
            "text/plain": [
              "<Figure size 432x288 with 2 Axes>"
            ],
            "image/png": "[encoded data removed]"
          },
          "metadata": {
            "needs_background": "light"
          }
        }
      ]
    },
    {
      "cell_type": "code",
      "source": [
        "y_pred_proba = bnb.predict_proba(X_test)[::,1]\n",
        "fpr, tpr, _ = metrics.roc_curve(y_test,  y_pred_proba)\n",
        "print(round(metrics.auc(fpr, tpr),2))\n",
        "#create ROC curve\n",
        "plt.plot(fpr,tpr)\n",
        "plt.ylabel('True Positive Rate')\n",
        "plt.xlabel('False Positive Rate')\n",
        "plt.show()"
      ],
      "metadata": {
        "id": "54wLsYi4pxL9",
        "outputId": "5898a61b-d16a-4ecd-9c38-6db78be2842d",
        "colab": {
          "base_uri": "https://localhost:8080/",
          "height": 296
        }
      },
      "id": "54wLsYi4pxL9",
      "execution_count": null,
      "outputs": [
        {
          "output_type": "stream",
          "name": "stdout",
          "text": [
            "0.88\n"
          ]
        },
        {
          "output_type": "display_data",
          "data": {
            "text/plain": [
              "<Figure size 432x288 with 1 Axes>"
            ],
            "image/png": "[encoded data removed]"
          },
          "metadata": {
            "needs_background": "light"
          }
        }
      ]
    },
    {
      "cell_type": "code",
      "source": [
        "cv=50\n",
        "\n",
        "mnb = MultinomialNB()\n",
        "mnb.fit(Scaled_X,y)\n",
        "scores = cross_val_score(mnb, Scaled_X, y, scoring='accuracy', cv=cv)\n",
        "mean_scores = scores.mean()\n",
        "std_scores = scores.std()\n",
        "y_pred=mnb.predict(Scaled_X_eval)\n",
        "print(metrics.confusion_matrix(valid_label, y_pred))\n",
        "print('MNB Mean Accuracy: ', round(mean_scores,3))\n",
        "print('MNB BER in validation set: ', Ber_function(valid_label,y_pred))\n",
        "fpr, tpr, thresholds = metrics.roc_curve(valid_label, y_pred)\n",
        "print('MNB AUC in validation set: ', round(metrics.auc(fpr, tpr),3))\n",
        "conf_inter = sms.DescrStatsW(scores).tconfint_mean()\n",
        "print('MNB confidence intervals: ', round(conf_inter[0],3),round(conf_inter[1],3))"
      ],
      "metadata": {
        "colab": {
          "base_uri": "https://localhost:8080/",
          "height": 397
        },
        "id": "IY6Xji6rmGnG",
        "outputId": "9dd4ddd4-cbf6-4886-fd19-7e4ae4b37d8a"
      },
      "id": "IY6Xji6rmGnG",
      "execution_count": null,
      "outputs": [
        {
          "output_type": "error",
          "ename": "ValueError",
          "evalue": "ignored",
          "traceback": [
            "\u001b[0;31m---------------------------------------------------------------------------\u001b[0m",
            "\u001b[0;31mValueError\u001b[0m                                Traceback (most recent call last)",
            "\u001b[0;32m<ipython-input-180-1cae7747704c>\u001b[0m in \u001b[0;36m<module>\u001b[0;34m\u001b[0m\n\u001b[1;32m      2\u001b[0m \u001b[0;34m\u001b[0m\u001b[0m\n\u001b[1;32m      3\u001b[0m \u001b[0mmnb\u001b[0m \u001b[0;34m=\u001b[0m \u001b[0mMultinomialNB\u001b[0m\u001b[0;34m(\u001b[0m\u001b[0;34m)\u001b[0m\u001b[0;34m\u001b[0m\u001b[0;34m\u001b[0m\u001b[0m\n\u001b[0;32m----> 4\u001b[0;31m \u001b[0mmnb\u001b[0m\u001b[0;34m.\u001b[0m\u001b[0mfit\u001b[0m\u001b[0;34m(\u001b[0m\u001b[0mScaled_X\u001b[0m\u001b[0;34m,\u001b[0m\u001b[0my\u001b[0m\u001b[0;34m)\u001b[0m\u001b[0;34m\u001b[0m\u001b[0;34m\u001b[0m\u001b[0m\n\u001b[0m\u001b[1;32m      5\u001b[0m \u001b[0mscores\u001b[0m \u001b[0;34m=\u001b[0m \u001b[0mcross_val_score\u001b[0m\u001b[0;34m(\u001b[0m\u001b[0mmnb\u001b[0m\u001b[0;34m,\u001b[0m \u001b[0mScaled_X\u001b[0m\u001b[0;34m,\u001b[0m \u001b[0my\u001b[0m\u001b[0;34m,\u001b[0m \u001b[0mscoring\u001b[0m\u001b[0;34m=\u001b[0m\u001b[0;34m'accuracy'\u001b[0m\u001b[0;34m,\u001b[0m \u001b[0mcv\u001b[0m\u001b[0;34m=\u001b[0m\u001b[0mcv\u001b[0m\u001b[0;34m)\u001b[0m\u001b[0;34m\u001b[0m\u001b[0;34m\u001b[0m\u001b[0m\n\u001b[1;32m      6\u001b[0m \u001b[0mmean_scores\u001b[0m \u001b[0;34m=\u001b[0m \u001b[0mscores\u001b[0m\u001b[0;34m.\u001b[0m\u001b[0mmean\u001b[0m\u001b[0;34m(\u001b[0m\u001b[0;34m)\u001b[0m\u001b[0;34m\u001b[0m\u001b[0;34m\u001b[0m\u001b[0m\n",
            "\u001b[0;32m/usr/local/lib/python3.7/dist-packages/sklearn/naive_bayes.py\u001b[0m in \u001b[0;36mfit\u001b[0;34m(self, X, y, sample_weight)\u001b[0m\n\u001b[1;32m    688\u001b[0m         \u001b[0mn_classes\u001b[0m \u001b[0;34m=\u001b[0m \u001b[0mY\u001b[0m\u001b[0;34m.\u001b[0m\u001b[0mshape\u001b[0m\u001b[0;34m[\u001b[0m\u001b[0;36m1\u001b[0m\u001b[0;34m]\u001b[0m\u001b[0;34m\u001b[0m\u001b[0;34m\u001b[0m\u001b[0m\n\u001b[1;32m    689\u001b[0m         \u001b[0mself\u001b[0m\u001b[0;34m.\u001b[0m\u001b[0m_init_counters\u001b[0m\u001b[0;34m(\u001b[0m\u001b[0mn_classes\u001b[0m\u001b[0;34m,\u001b[0m \u001b[0mn_features\u001b[0m\u001b[0;34m)\u001b[0m\u001b[0;34m\u001b[0m\u001b[0;34m\u001b[0m\u001b[0m\n\u001b[0;32m--> 690\u001b[0;31m         \u001b[0mself\u001b[0m\u001b[0;34m.\u001b[0m\u001b[0m_count\u001b[0m\u001b[0;34m(\u001b[0m\u001b[0mX\u001b[0m\u001b[0;34m,\u001b[0m \u001b[0mY\u001b[0m\u001b[0;34m)\u001b[0m\u001b[0;34m\u001b[0m\u001b[0;34m\u001b[0m\u001b[0m\n\u001b[0m\u001b[1;32m    691\u001b[0m         \u001b[0malpha\u001b[0m \u001b[0;34m=\u001b[0m \u001b[0mself\u001b[0m\u001b[0;34m.\u001b[0m\u001b[0m_check_alpha\u001b[0m\u001b[0;34m(\u001b[0m\u001b[0;34m)\u001b[0m\u001b[0;34m\u001b[0m\u001b[0;34m\u001b[0m\u001b[0m\n\u001b[1;32m    692\u001b[0m         \u001b[0mself\u001b[0m\u001b[0;34m.\u001b[0m\u001b[0m_update_feature_log_prob\u001b[0m\u001b[0;34m(\u001b[0m\u001b[0malpha\u001b[0m\u001b[0;34m)\u001b[0m\u001b[0;34m\u001b[0m\u001b[0;34m\u001b[0m\u001b[0m\n",
            "\u001b[0;32m/usr/local/lib/python3.7/dist-packages/sklearn/naive_bayes.py\u001b[0m in \u001b[0;36m_count\u001b[0;34m(self, X, Y)\u001b[0m\n\u001b[1;32m    861\u001b[0m     \u001b[0;32mdef\u001b[0m \u001b[0m_count\u001b[0m\u001b[0;34m(\u001b[0m\u001b[0mself\u001b[0m\u001b[0;34m,\u001b[0m \u001b[0mX\u001b[0m\u001b[0;34m,\u001b[0m \u001b[0mY\u001b[0m\u001b[0;34m)\u001b[0m\u001b[0;34m:\u001b[0m\u001b[0;34m\u001b[0m\u001b[0;34m\u001b[0m\u001b[0m\n\u001b[1;32m    862\u001b[0m         \u001b[0;34m\"\"\"Count and smooth feature occurrences.\"\"\"\u001b[0m\u001b[0;34m\u001b[0m\u001b[0;34m\u001b[0m\u001b[0m\n\u001b[0;32m--> 863\u001b[0;31m         \u001b[0mcheck_non_negative\u001b[0m\u001b[0;34m(\u001b[0m\u001b[0mX\u001b[0m\u001b[0;34m,\u001b[0m \u001b[0;34m\"MultinomialNB (input X)\"\u001b[0m\u001b[0;34m)\u001b[0m\u001b[0;34m\u001b[0m\u001b[0;34m\u001b[0m\u001b[0m\n\u001b[0m\u001b[1;32m    864\u001b[0m         \u001b[0mself\u001b[0m\u001b[0;34m.\u001b[0m\u001b[0mfeature_count_\u001b[0m \u001b[0;34m+=\u001b[0m \u001b[0msafe_sparse_dot\u001b[0m\u001b[0;34m(\u001b[0m\u001b[0mY\u001b[0m\u001b[0;34m.\u001b[0m\u001b[0mT\u001b[0m\u001b[0;34m,\u001b[0m \u001b[0mX\u001b[0m\u001b[0;34m)\u001b[0m\u001b[0;34m\u001b[0m\u001b[0;34m\u001b[0m\u001b[0m\n\u001b[1;32m    865\u001b[0m         \u001b[0mself\u001b[0m\u001b[0;34m.\u001b[0m\u001b[0mclass_count_\u001b[0m \u001b[0;34m+=\u001b[0m \u001b[0mY\u001b[0m\u001b[0;34m.\u001b[0m\u001b[0msum\u001b[0m\u001b[0;34m(\u001b[0m\u001b[0maxis\u001b[0m\u001b[0;34m=\u001b[0m\u001b[0;36m0\u001b[0m\u001b[0;34m)\u001b[0m\u001b[0;34m\u001b[0m\u001b[0;34m\u001b[0m\u001b[0m\n",
            "\u001b[0;32m/usr/local/lib/python3.7/dist-packages/sklearn/utils/validation.py\u001b[0m in \u001b[0;36mcheck_non_negative\u001b[0;34m(X, whom)\u001b[0m\n\u001b[1;32m   1247\u001b[0m \u001b[0;34m\u001b[0m\u001b[0m\n\u001b[1;32m   1248\u001b[0m     \u001b[0;32mif\u001b[0m \u001b[0mX_min\u001b[0m \u001b[0;34m<\u001b[0m \u001b[0;36m0\u001b[0m\u001b[0;34m:\u001b[0m\u001b[0;34m\u001b[0m\u001b[0;34m\u001b[0m\u001b[0m\n\u001b[0;32m-> 1249\u001b[0;31m         \u001b[0;32mraise\u001b[0m \u001b[0mValueError\u001b[0m\u001b[0;34m(\u001b[0m\u001b[0;34m\"Negative values in data passed to %s\"\u001b[0m \u001b[0;34m%\u001b[0m \u001b[0mwhom\u001b[0m\u001b[0;34m)\u001b[0m\u001b[0;34m\u001b[0m\u001b[0;34m\u001b[0m\u001b[0m\n\u001b[0m\u001b[1;32m   1250\u001b[0m \u001b[0;34m\u001b[0m\u001b[0m\n\u001b[1;32m   1251\u001b[0m \u001b[0;34m\u001b[0m\u001b[0m\n",
            "\u001b[0;31mValueError\u001b[0m: Negative values in data passed to MultinomialNB (input X)"
          ]
        }
      ]
    },
    {
      "cell_type": "code",
      "source": [],
      "metadata": {
        "id": "5RLXre4ZmGqi"
      },
      "id": "5RLXre4ZmGqi",
      "execution_count": null,
      "outputs": []
    },
    {
      "cell_type": "markdown",
      "source": [
        "## Decision Tree"
      ],
      "metadata": {
        "id": "RZAQThPie298"
      },
      "id": "RZAQThPie298"
    },
    {
      "cell_type": "code",
      "source": [
        "cv=50\n",
        "\n",
        "dtc = DecisionTreeClassifier()\n",
        "dtc.fit(Scaled_X,y)\n",
        "scores = cross_val_score(dtc, Scaled_X, y, scoring='accuracy', cv=cv)\n",
        "mean_scores = scores.mean()\n",
        "std_scores = scores.std()\n",
        "y_pred=dtc.predict(Scaled_X_eval)\n",
        "print(metrics.confusion_matrix(valid_label, y_pred))\n",
        "print('DTC Mean Accuracy: ', round(mean_scores,3))\n",
        "print('DTC BER in validation set: ', Ber_function(valid_label,y_pred))\n",
        "fpr, tpr, thresholds = metrics.roc_curve(valid_label, y_pred)\n",
        "print('DTC AUC in validation set: ', round(metrics.auc(fpr, tpr),3))\n",
        "conf_inter = sms.DescrStatsW(scores).tconfint_mean()\n",
        "print('DTC confidence intervals: ', round(conf_inter[0],3),round(conf_inter[1],3))"
      ],
      "metadata": {
        "colab": {
          "base_uri": "https://localhost:8080/"
        },
        "id": "zgvVJK-ie2RH",
        "outputId": "31957a75-be1b-41b6-fe42-e3a8a25c4de4"
      },
      "id": "zgvVJK-ie2RH",
      "execution_count": null,
      "outputs": [
        {
          "output_type": "stream",
          "name": "stdout",
          "text": [
            "[[267  45]\n",
            " [ 32  71]]\n",
            "DTC Mean Accuracy:  0.8\n",
            "DTC BER in validation set:  0.227\n",
            "DTC AUC in validation set:  0.773\n",
            "DTC confidence intervals:  0.787 0.813\n"
          ]
        }
      ]
    },
    {
      "cell_type": "code",
      "source": [
        "df_cm = pd.DataFrame(metrics.confusion_matrix(valid_label, y_pred))\n",
        "# plt.figure(figsize=(10,7))\n",
        "sns.heatmap(df_cm, annot=True,cmap='Blues',fmt='g') "
      ],
      "metadata": {
        "colab": {
          "base_uri": "https://localhost:8080/",
          "height": 282
        },
        "id": "x8ekf6QDe2dP",
        "outputId": "37f1e729-9c33-4ae5-d4aa-f45cc9735a93"
      },
      "id": "x8ekf6QDe2dP",
      "execution_count": null,
      "outputs": [
        {
          "output_type": "execute_result",
          "data": {
            "text/plain": [
              "<matplotlib.axes._subplots.AxesSubplot at 0x7fcb908aced0>"
            ]
          },
          "metadata": {},
          "execution_count": 173
        },
        {
          "output_type": "display_data",
          "data": {
            "text/plain": [
              "<Figure size 432x288 with 2 Axes>"
            ],
            "image/png": "[encoded data removed]"
          },
          "metadata": {
            "needs_background": "light"
          }
        }
      ]
    },
    {
      "cell_type": "code",
      "source": [
        "y_pred_proba = dtc.predict_proba(X_test)[::,1]\n",
        "fpr, tpr, _ = metrics.roc_curve(y_test,  y_pred_proba)\n",
        "print(round(metrics.auc(fpr, tpr),2))\n",
        "#create ROC curve\n",
        "plt.plot(fpr,tpr)\n",
        "plt.ylabel('True Positive Rate')\n",
        "plt.xlabel('False Positive Rate')\n",
        "plt.show()"
      ],
      "metadata": {
        "colab": {
          "base_uri": "https://localhost:8080/",
          "height": 296
        },
        "id": "DEWaDAjGjcj2",
        "outputId": "b25a5a54-65f6-4795-f754-0c85df825666"
      },
      "id": "DEWaDAjGjcj2",
      "execution_count": null,
      "outputs": [
        {
          "output_type": "stream",
          "name": "stdout",
          "text": [
            "0.61\n"
          ]
        },
        {
          "output_type": "display_data",
          "data": {
            "text/plain": [
              "<Figure size 432x288 with 1 Axes>"
            ],
            "image/png": "[encoded data removed]"
          },
          "metadata": {
            "needs_background": "light"
          }
        }
      ]
    },
    {
      "cell_type": "markdown",
      "source": [
        "# Model Comparison"
      ],
      "metadata": {
        "id": "8gfI4WilOJIJ"
      },
      "id": "8gfI4WilOJIJ"
    },
    {
      "cell_type": "code",
      "source": [
        "# prepare models\n",
        "models = []\n",
        "models.append(('LR', LogisticRegression()))\n",
        "models.append(('LDA', LinearDiscriminantAnalysis()))\n",
        "models.append(('KNN', knn))\n",
        "models.append(('DTC', DecisionTreeClassifier()))\n",
        "models.append(('BNB', BernoulliNB()))\n",
        "models.append(('NB', GaussianNB()))\n",
        "\n",
        "# evaluate each model in turn\n",
        "results = []\n",
        "names = []\n",
        "scoring = 'accuracy'\n",
        "for name, model in models:\n",
        "\tkfold = model_selection.KFold(n_splits=10)\n",
        "\tcv_results = model_selection.cross_val_score(model, Scaled_X, y, cv=kfold, scoring=scoring)\n",
        "\tresults.append(cv_results)\n",
        "\tnames.append(name)\n",
        "\tmsg = \"%s: %f (%f)\" % (name, cv_results.mean(), cv_results.std())\n",
        "\tprint(msg)\n",
        "# boxplot algorithm comparison\n",
        "fig = plt.figure()\n",
        "fig.suptitle('Algorithm Comparison')\n",
        "ax = fig.add_subplot(111)\n",
        "plt.boxplot(results)\n",
        "ax.set_xticklabels(names)\n",
        "plt.show()"
      ],
      "metadata": {
        "id": "BraGc4JrOLUe",
        "colab": {
          "base_uri": "https://localhost:8080/",
          "height": 401
        },
        "outputId": "bf07a1f4-292d-426d-847f-6c8a8fe52478"
      },
      "id": "BraGc4JrOLUe",
      "execution_count": null,
      "outputs": [
        {
          "output_type": "stream",
          "name": "stdout",
          "text": [
            "LR: 0.847594 (0.009060)\n",
            "LDA: 0.842771 (0.013017)\n",
            "KNN: 0.825174 (0.018524)\n",
            "DTC: 0.803963 (0.021083)\n",
            "BNB: 0.770429 (0.021040)\n",
            "NB: 0.677349 (0.030878)\n"
          ]
        },
        {
          "output_type": "display_data",
          "data": {
            "text/plain": [
              "<Figure size 432x288 with 1 Axes>"
            ],
            "image/png": "[encoded data removed]"
          },
          "metadata": {}
        }
      ]
    },
    {
      "cell_type": "code",
      "source": [
        "# prepare models\n",
        "models = []\n",
        "models.append(('LR', LogisticRegression()))\n",
        "models.append(('LDA', LinearDiscriminantAnalysis()))\n",
        "models.append(('KNN', knn))\n",
        "models.append(('DTC', DecisionTreeClassifier()))\n",
        "models.append(('NB', GaussianNB()))\n",
        "# evaluate each model in turn\n",
        "results = []\n",
        "names = []\n",
        "acc_test = []\n",
        "ci_length = []\n",
        "scoring = 'accuracy'\n",
        "for name, model in models:\n",
        "\tkfold = model_selection.KFold(n_splits=50)\n",
        "\tcv_results = model_selection.cross_val_score(model, Scaled_X, y, cv=kfold, scoring=scoring)\n",
        "\tresults.append(cv_results)\n",
        "\tnames.append(name)\n",
        "\tmsg = \"%s: %f (%f)\" % (name, cv_results.mean(), cv_results.std())\n",
        "\tprint(msg)\n",
        "\n",
        "# boxplot algorithm comparison\n",
        "fig = plt.figure()\n",
        "fig.suptitle('Algorithm Comparison')\n",
        "ax = fig.add_subplot(111)\n",
        "plt.boxplot(results)\n",
        "ax.set_xticklabels(names)\n",
        "plt.show()"
      ],
      "metadata": {
        "colab": {
          "base_uri": "https://localhost:8080/",
          "height": 381
        },
        "id": "vRBEI6veIb0m",
        "outputId": "87f237f7-9bde-491e-a973-0fa3c3c74808"
      },
      "id": "vRBEI6veIb0m",
      "execution_count": null,
      "outputs": [
        {
          "output_type": "stream",
          "name": "stdout",
          "text": [
            "LR: 0.847852 (0.035644)\n",
            "LDA: 0.844220 (0.038270)\n",
            "KNN: 0.828542 (0.035678)\n",
            "DTC: 0.810908 (0.042611)\n",
            "NB: 0.683644 (0.058789)\n"
          ]
        },
        {
          "output_type": "display_data",
          "data": {
            "text/plain": [
              "<Figure size 432x288 with 1 Axes>"
            ],
            "image/png": "[encoded data removed]"
          },
          "metadata": {
            "needs_background": "light"
          }
        }
      ]
    },
    {
      "cell_type": "code",
      "source": [],
      "metadata": {
        "id": "c2U_5pTXfEqu"
      },
      "id": "c2U_5pTXfEqu",
      "execution_count": null,
      "outputs": []
    },
    {
      "cell_type": "markdown",
      "source": [
        "# Confidence Intervals"
      ],
      "metadata": {
        "id": "c22KYmdbFdHj"
      },
      "id": "c22KYmdbFdHj"
    },
    {
      "cell_type": "code",
      "source": [
        "import scipy.stats\n",
        "\n",
        "confidence = 0.95  # Change to your desired confidence level\n",
        "z_value = scipy.stats.norm.ppf((1 + confidence) / 2.0)\n",
        "print(z_value)"
      ],
      "metadata": {
        "colab": {
          "base_uri": "https://localhost:8080/"
        },
        "id": "CKZeDVs2t1MR",
        "outputId": "3a3862a5-1855-4d06-e4cc-84e46d114786"
      },
      "id": "CKZeDVs2t1MR",
      "execution_count": 106,
      "outputs": [
        {
          "output_type": "stream",
          "name": "stdout",
          "text": [
            "1.959963984540054\n"
          ]
        }
      ]
    },
    {
      "cell_type": "code",
      "source": [
        "for name, model in models:\n",
        "  model.fit(Scaled_X, y)\n",
        "  cv_results = model.score(Scaled_X, y)\n",
        "  results.append(cv_results)\n",
        "  names.append(name)\n",
        "  msg = \"%s: %f (%f)\" % (name, cv_results.mean(), cv_results.std())\n",
        "  print(msg)\n",
        "  acc_test = cv_results.mean()\n",
        "  ci_length = z_value * np.sqrt((cv_results * (1 - acc_test)) / y.shape[0])\n",
        "\n",
        "  ci_lower = acc_test - ci_length\n",
        "  ci_upper = acc_test + ci_length\n",
        "\n",
        "  print(ci_lower, ci_upper)"
      ],
      "metadata": {
        "id": "W-Hy-Q8VFjs5",
        "colab": {
          "base_uri": "https://localhost:8080/"
        },
        "outputId": "22bc9d3d-6fe9-4880-eccf-beb4e3b0058e"
      },
      "id": "W-Hy-Q8VFjs5",
      "execution_count": 108,
      "outputs": [
        {
          "output_type": "stream",
          "name": "stdout",
          "text": [
            "LR: 0.852423 (0.000000)\n",
            "0.8416285675984421 0.8632183096622283\n",
            "LDA: 0.847360 (0.000000)\n",
            "0.8364136799775621 0.8583053940518568\n",
            "KNN: 0.846877 (0.000000)\n",
            "0.8359172455263136 0.8578372758144147\n",
            "DTC: 1.000000 (0.000000)\n",
            "1.0 1.0\n",
            "BNB: 0.770195 (0.000000)\n",
            "0.7573908714596657 0.782999772379254\n",
            "NB: 0.685797 (0.000000)\n",
            "0.6716688524970079 0.6999250708210533\n"
          ]
        }
      ]
    },
    {
      "cell_type": "code",
      "source": [
        "#split the dataset into training (70%) and testing (30%) sets\n",
        "X_train,X_test,y_train,y_test = train_test_split(Scaled_X,y,test_size=0.3,random_state=0) \n",
        "\n",
        "\n",
        "for name, model in models:\n",
        "  model.fit(X_train, y_train)\n",
        "  cv_results = model.score(X_test, y_test)\n",
        "  results.append(cv_results)\n",
        "  names.append(name)\n",
        "  msg = \"%s: %f (%f)\" % (name, cv_results.mean(), cv_results.std())\n",
        "  print(msg)\n",
        "  acc_test = cv_results.mean()\n",
        "  ci_length = z_value * np.sqrt((cv_results * (1 - acc_test)) / y_test.shape[0])\n",
        "\n",
        "  ci_lower = acc_test - ci_length\n",
        "  ci_upper = acc_test + ci_length\n",
        "\n",
        "  print(ci_lower, ci_upper)"
      ],
      "metadata": {
        "id": "Tp3bbDzDFlV_",
        "colab": {
          "base_uri": "https://localhost:8080/"
        },
        "outputId": "599ac350-87c6-40f1-b623-8446c7e654ed"
      },
      "id": "Tp3bbDzDFlV_",
      "execution_count": 110,
      "outputs": [
        {
          "output_type": "stream",
          "name": "stdout",
          "text": [
            "LR: 0.850602 (0.000000)\n",
            "0.8308008902187508 0.8704039290583577\n",
            "LDA: 0.844177 (0.000000)\n",
            "0.8240303608989344 0.8643230527556841\n",
            "KNN: 0.836948 (0.000000)\n",
            "0.8164278579807922 0.8574677243485251\n",
            "DTC: 0.808835 (0.000000)\n",
            "0.7869930961899874 0.8306775865409364\n",
            "BNB: 0.798394 (0.000000)\n",
            "0.7761079852975568 0.8206791632968207\n",
            "NB: 0.626506 (0.000000)\n",
            "0.5996360132548502 0.653376034937921\n"
          ]
        }
      ]
    },
    {
      "cell_type": "code",
      "source": [],
      "metadata": {
        "id": "Vrxg56gkGhFS"
      },
      "id": "Vrxg56gkGhFS",
      "execution_count": null,
      "outputs": []
    }
  ],
  "metadata": {
    "kernelspec": {
      "display_name": "Python 3 (ipykernel)",
      "language": "python",
      "name": "python3"
    },
    "language_info": {
      "codemirror_mode": {
        "name": "ipython",
        "version": 3
      },
      "file_extension": ".py",
      "mimetype": "text/x-python",
      "name": "python",
      "nbconvert_exporter": "python",
      "pygments_lexer": "ipython3",
      "version": "3.9.12"
    },
    "colab": {
      "provenance": [],
      "collapsed_sections": []
    }
  },
  "nbformat": 4,
  "nbformat_minor": 5
}